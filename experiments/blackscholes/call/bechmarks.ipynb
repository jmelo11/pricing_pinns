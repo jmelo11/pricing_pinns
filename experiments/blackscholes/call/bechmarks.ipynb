{
 "cells": [
  {
   "cell_type": "markdown",
   "id": "b32ec4e1",
   "metadata": {},
   "source": [
    "# Call Option Benchmarks\n",
    "Author: JP Melo"
   ]
  },
  {
   "cell_type": "markdown",
   "id": "b50527de",
   "metadata": {},
   "source": [
    "### Imports"
   ]
  },
  {
   "cell_type": "code",
   "execution_count": 1,
   "id": "5d74c022",
   "metadata": {},
   "outputs": [],
   "source": [
    "from derpinns.nn import *\n",
    "from derpinns.utils import *\n",
    "from derpinns.trainer import *\n",
    "import time\n",
    "import torch\n",
    "import json\n",
    "import os"
   ]
  },
  {
   "cell_type": "markdown",
   "id": "bc70ad0c",
   "metadata": {},
   "source": [
    "## Parameters"
   ]
  },
  {
   "cell_type": "code",
   "execution_count": 11,
   "id": "1176864d",
   "metadata": {},
   "outputs": [],
   "source": [
    "# Fix seed for reproducibility\n",
    "torch.manual_seed(0)\n",
    "np.random.seed(0)\n",
    "\n",
    "# Global parameters\n",
    "n_assets = [7]\n",
    "sampler = \"pseudo\"                                         \n",
    "nn_shapes = [\"10x3\"]                \n",
    "device = torch.device(\"cpu\")   \n",
    "dtype = torch.float32"
   ]
  },
  {
   "cell_type": "code",
   "execution_count": 3,
   "id": "1bd85ced",
   "metadata": {},
   "outputs": [],
   "source": [
    "def handle_serialization(obj):\n",
    "    if isinstance(obj, torch.Tensor):\n",
    "        return obj.tolist()\n",
    "    elif isinstance(obj, np.ndarray):\n",
    "        return obj.tolist()\n",
    "    elif isinstance(obj, list):\n",
    "        return [handle_serialization(item) for item in obj]\n",
    "    elif isinstance(obj, dict):\n",
    "        return {k: handle_serialization(v) for k, v in obj.items()}\n",
    "    elif isinstance(obj, float):\n",
    "        return float(obj)\n",
    "    elif isinstance(obj, np.float32):\n",
    "        return float(obj)\n",
    "    elif isinstance(obj, np.float64):\n",
    "        return float(obj)\n",
    "    else:\n",
    "        raise TypeError(f\"Type {type(obj)} not serializable\")"
   ]
  },
  {
   "cell_type": "markdown",
   "id": "7bdffad9",
   "metadata": {},
   "source": [
    "## Training\n",
    "\n",
    "We use a multi-stage training process, where the first stage is done with ADAM and the second stage with SSBroyden as this methods achieve the best perfomance."
   ]
  },
  {
   "cell_type": "code",
   "execution_count": 13,
   "id": "daa5ed24",
   "metadata": {},
   "outputs": [],
   "source": [
    "# load json if it exists, else create it\n",
    "try:\n",
    "    with open(\"bench.json\", \"r\") as f:\n",
    "        bench = json.load(f)\n",
    "except FileNotFoundError:\n",
    "    bench = {}\n",
    "    with open(\"bench.json\", \"w\") as f:\n",
    "        json.dump(bench, f)"
   ]
  },
  {
   "cell_type": "code",
   "execution_count": 5,
   "id": "94ae5cfa",
   "metadata": {},
   "outputs": [
    {
     "name": "stdout",
     "output_type": "stream",
     "text": [
      "Training 10x3 with 7 assets\n"
     ]
    },
    {
     "name": "stderr",
     "output_type": "stream",
     "text": [
      "BFGS training:   4%|▍         | 403/10000 [15:59<6:20:59,  2.38s/it, Interior=0.001841, Boundary=0.010748, Initial=0.034347, Total=0.046936, Max Error=29.617065, L2 Error=0.050231] \n"
     ]
    },
    {
     "name": "stdout",
     "output_type": "stream",
     "text": [
      "L2 Error (%):  4.367314\n"
     ]
    }
   ],
   "source": [
    "for nn_shape in nn_shapes:\n",
    "    for assets in n_assets:\n",
    "        print(f\"Training {nn_shape} with {assets} assets\")\n",
    "        # check if the combination already exists, if so skip\n",
    "        if f\"{nn_shape}_{assets}\" in bench:\n",
    "            print(f\"Already trained {nn_shape} with {assets} assets\")\n",
    "            continue\n",
    "\n",
    "        params = OptionParameters(\n",
    "            n_assets=assets,\n",
    "            tau=1.0,\n",
    "            sigma=np.array([0.2] * assets),\n",
    "            rho=np.eye(assets) + 0.25 * (np.ones((assets, assets)) - np.eye(assets)),\n",
    "            r=0.05,\n",
    "            strike=100,\n",
    "            payoff=payoff\n",
    "        )\n",
    "\n",
    "        # Build the net to be used\n",
    "        model = build_nn(\n",
    "            nn_shape,\n",
    "            input_dim=assets)\n",
    "        \n",
    "        model.train()\n",
    "\n",
    "        boundary_samples = 100\n",
    "        interior_samples = boundary_samples*assets*2\n",
    "        initial_samples = boundary_samples*assets*2\n",
    "\n",
    "        # We create new samples\n",
    "        dataset = SampledDataset(\n",
    "            params, interior_samples, initial_samples, boundary_samples, sampler, dtype, device, seed=0)\n",
    "        \n",
    "        optimizer = BFGS(\n",
    "            model.parameters(),\n",
    "            max_iter=10_000,\n",
    "        )\n",
    "\n",
    "        batch_size = len(dataset) # we use all samples\n",
    "        closure = DimlessBS()\\\n",
    "            .with_dataset(dataset, loader_opts={ \"shuffle\": True, \"batch_size\": batch_size})\\\n",
    "            .with_model(model)\\\n",
    "            .with_device(device)\\\n",
    "            .with_dtype(dtype)\n",
    "\n",
    "        trainer = PINNTrainer()\\\n",
    "            .with_optimizer(optimizer)\\\n",
    "            .with_device(device)\\\n",
    "            .with_dtype(dtype)\\\n",
    "            .with_training_step(closure)\n",
    "\n",
    "    \n",
    "        start = time.time()\n",
    "        trainer.train()\n",
    "        ssbroyden_time = time.time() - start\n",
    "\n",
    "        state = closure.get_state()\n",
    "        # We save the model\n",
    "        torch.save(model.state_dict(), f\"model_{nn_shape}_{assets}.pt\")\n",
    "\n",
    "        eval = compare_with_mc(model, params, n_prices=200,\n",
    "                          n_simulations=10_000, dtype=dtype, device=device, seed=42)\n",
    "        print(\"L2 Error (%): \", eval['l2_rel_error']*100)\n",
    "        \n",
    "        bench[f\"{nn_shape}_{assets}\"] = {\n",
    "            \"adam_time\": 0.0,\n",
    "            \"qn_time\": ssbroyden_time,\n",
    "            \"steps\": len(state['interior_loss']),\n",
    "            \"state\": state,\n",
    "            \"evaluation\": eval\n",
    "        }\n",
    "\n",
    "        with open(\"bench.json\", \"w\") as f:\n",
    "            json.dump(bench, f, default=handle_serialization, indent=4)"
   ]
  },
  {
   "cell_type": "markdown",
   "id": "a56515d9",
   "metadata": {},
   "source": [
    "## Analysis"
   ]
  },
  {
   "cell_type": "code",
   "execution_count": 15,
   "id": "c7bc2cae",
   "metadata": {},
   "outputs": [
    {
     "data": {
      "image/png": "[encoded data removed]",
      "text/plain": [
       "<Figure size 720x480 with 1 Axes>"
      ]
     },
     "metadata": {},
     "output_type": "display_data"
    },
    {
     "name": "stderr",
     "output_type": "stream",
     "text": [
      "/var/folders/cp/l432p0ns1t38qmnyr_3l3r000000gn/T/ipykernel_33007/2518484479.py:10: UserWarning: FigureCanvasAgg is non-interactive, and thus cannot be shown\n",
      "  fig.show()\n"
     ]
    }
   ],
   "source": [
    "# Plotting the results\n",
    "fig = plot_evaluation_times(\n",
    "    bench,\n",
    "    backend=\"matplotlib\",\n",
    "    fig_size=(720, 480),\n",
    "    scale_nn=1.0,\n",
    "    use_log=False\n",
    ")\n",
    "\n",
    "fig.show()"
   ]
  },
  {
   "cell_type": "code",
   "execution_count": 14,
   "id": "0f5bdc78",
   "metadata": {},
   "outputs": [
    {
     "data": {
      "image/png": "[encoded data removed]",
      "text/plain": [
       "<Figure size 720x480 with 1 Axes>"
      ]
     },
     "metadata": {},
     "output_type": "display_data"
    },
    {
     "name": "stderr",
     "output_type": "stream",
     "text": [
      "/var/folders/cp/l432p0ns1t38qmnyr_3l3r000000gn/T/ipykernel_33007/1680574077.py:9: UserWarning: FigureCanvasAgg is non-interactive, and thus cannot be shown\n",
      "  fig.show()\n"
     ]
    }
   ],
   "source": [
    "fig = plot_l2_error(\n",
    "    bench,\n",
    "    backend=\"matplotlib\",\n",
    "    fig_size=(720, 480),\n",
    "    scale_nn=1.0,\n",
    "    use_log=False,\n",
    "    yscale=\"linear\",\n",
    ")\n",
    "fig.show()"
   ]
  },
  {
   "cell_type": "code",
   "execution_count": null,
   "id": "d8d3ed8a",
   "metadata": {},
   "outputs": [],
   "source": []
  }
 ],
 "metadata": {
  "kernelspec": {
   "display_name": "Python 3",
   "language": "python",
   "name": "python3"
  },
  "language_info": {
   "codemirror_mode": {
    "name": "ipython",
    "version": 3
   },
   "file_extension": ".py",
   "mimetype": "text/x-python",
   "name": "python",
   "nbconvert_exporter": "python",
   "pygments_lexer": "ipython3",
   "version": "3.11.8"
  }
 },
 "nbformat": 4,
 "nbformat_minor": 5
}
