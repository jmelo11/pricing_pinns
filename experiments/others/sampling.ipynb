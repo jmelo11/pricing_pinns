{
 "cells": [
  {
   "cell_type": "markdown",
   "id": "b32ec4e1",
   "metadata": {},
   "source": [
    "# Does The Sampling Method Matter?\n",
    "#### Author: JP Melo"
   ]
  },
  {
   "cell_type": "markdown",
   "id": "408abab0",
   "metadata": {},
   "source": [
    "In this file we explore how different sampling method change the convergence speed and results."
   ]
  },
  {
   "cell_type": "markdown",
   "id": "b50527de",
   "metadata": {},
   "source": [
    "### Imports"
   ]
  },
  {
   "cell_type": "code",
   "execution_count": null,
   "id": "5d74c022",
   "metadata": {},
   "outputs": [],
   "source": [
    "from derpinns.nn import *\n",
    "from derpinns.utils import *\n",
    "from derpinns.trainer import *\n",
    "import torch"
   ]
  },
  {
   "cell_type": "markdown",
   "id": "bc70ad0c",
   "metadata": {},
   "source": [
    "## Parameters"
   ]
  },
  {
   "cell_type": "code",
   "execution_count": null,
   "id": "1176864d",
   "metadata": {},
   "outputs": [],
   "source": [
    "# Fix seed for reproducibility\n",
    "torch.manual_seed(0)\n",
    "np.random.seed(0)\n",
    "\n",
    "# Global parameters\n",
    "assets = 2\n",
    "\n",
    "nn_shape = \"64x3\"               \n",
    "device = torch.device(\"cpu\") \n",
    "dtype = torch.float32\n",
    "\n",
    "# Create dataset to traing over\n",
    "batch_size = 500\n",
    "total_iter = 1_000\n",
    "boundary_samples = 20_000\n",
    "interior_samples = boundary_samples*assets*2\n",
    "initial_samples = boundary_samples*assets*2\n",
    "\n",
    "# Define option valuation params\n",
    "params = OptionParameters(\n",
    "    n_assets=assets,\n",
    "    tau=1.0,\n",
    "    sigma=np.array([0.2] * assets),\n",
    "    rho=np.eye(assets) + 0.25 * (np.ones((assets, assets)) - np.eye(assets)),\n",
    "    r=0.05,\n",
    "    strike=100,\n",
    "    payoff=payoff\n",
    ")"
   ]
  },
  {
   "cell_type": "markdown",
   "id": "7bdffad9",
   "metadata": {},
   "source": [
    "## Training"
   ]
  },
  {
   "cell_type": "markdown",
   "id": "75c5452c",
   "metadata": {},
   "source": [
    "### With PRN"
   ]
  },
  {
   "cell_type": "code",
   "execution_count": null,
   "id": "8a7c1354",
   "metadata": {},
   "outputs": [],
   "source": [
    "model = build_nn(\n",
    "    nn_shape=nn_shape,\n",
    "    input_dim=assets,\n",
    "    dtype=torch.float32\n",
    ").apply(weights_init).to(device)\n",
    "model.train()\n",
    "\n",
    "sampler = \"pseudo\"               \n",
    "dataset = SampledDataset(\n",
    "    params, interior_samples, initial_samples, boundary_samples, sampler, dtype, device, seed=0)\n",
    "\n",
    "# we use the same optimizer for both cases\n",
    "optimizer = torch.optim.Adam(model.parameters(), lr=1e-3)\n",
    "\n",
    "closure = DimlessBS()\\\n",
    "    .with_dataset(dataset, loader_opts={'batch_size': batch_size, \"shuffle\": True, \"pin_memory\": True})\\\n",
    "    .with_model(model)\\\n",
    "    .with_device(device)\\\n",
    "    .with_dtype(dtype)\n",
    "\n",
    "trainer = PINNTrainer()\\\n",
    "    .with_optimizer(optimizer)\\\n",
    "    .with_device(device)\\\n",
    "    .with_dtype(dtype)\\\n",
    "    .with_training_step(closure)\\\n",
    "    .with_epochs(total_iter)\\\n",
    "\n",
    "trainer.train()"
   ]
  },
  {
   "cell_type": "code",
   "execution_count": null,
   "id": "adaec2b8",
   "metadata": {},
   "outputs": [],
   "source": [
    "with_pseudo = trainer.closure.get_state()\n",
    "plot_loss(with_pseudo, smooth=True, smooth_window=10)\n",
    "\n",
    "with_pseudo_results = compare_with_mc(model, params, n_prices=200,\n",
    "                          n_simulations=10_000, dtype=dtype, device=device, seed=42)['l2_rel_error']\n",
    "print(\"L2 Error: \", with_pseudo_results*100)"
   ]
  },
  {
   "cell_type": "markdown",
   "id": "a02b9ad8",
   "metadata": {},
   "source": [
    "## With Sobol"
   ]
  },
  {
   "cell_type": "code",
   "execution_count": null,
   "id": "1698ce60",
   "metadata": {},
   "outputs": [],
   "source": [
    "model = build_nn(\n",
    "    nn_shape=nn_shape,\n",
    "    input_dim=assets,\n",
    "    dtype=torch.float32\n",
    ").apply(weights_init).to(device)\n",
    "model.train()\n",
    "\n",
    "sampler = \"Sobol\"               \n",
    "dataset = SampledDataset(\n",
    "    params, interior_samples, initial_samples, boundary_samples, sampler, dtype, device, seed=0)\n",
    "\n",
    "# we use the same optimizer for both cases\n",
    "optimizer = torch.optim.Adam(model.parameters(), lr=1e-3)\n",
    "\n",
    "closure = DimlessBS()\\\n",
    "    .with_dataset(dataset, loader_opts={'batch_size': batch_size, \"shuffle\": True, \"pin_memory\": True})\\\n",
    "    .with_model(model)\\\n",
    "    .with_device(device)\\\n",
    "    .with_dtype(dtype)\n",
    "\n",
    "trainer = PINNTrainer()\\\n",
    "    .with_optimizer(optimizer)\\\n",
    "    .with_device(device)\\\n",
    "    .with_dtype(dtype)\\\n",
    "    .with_training_step(closure)\\\n",
    "    .with_epochs(total_iter)\\\n",
    "\n",
    "trainer.train()"
   ]
  },
  {
   "cell_type": "code",
   "execution_count": null,
   "id": "390f1c6d",
   "metadata": {},
   "outputs": [],
   "source": [
    "with_sobol = trainer.closure.get_state()\n",
    "plot_loss(with_sobol, smooth=True, smooth_window=10)\n",
    "\n",
    "with_sobol_results = compare_with_mc(model, params, n_prices=200,\n",
    "                          n_simulations=10_000, dtype=dtype, device=device, seed=42)['l2_rel_error']\n",
    "print(\"L2 Error: \", with_sobol_results*100)"
   ]
  },
  {
   "cell_type": "markdown",
   "id": "ad6284e9",
   "metadata": {},
   "source": [
    "## With Halton"
   ]
  },
  {
   "cell_type": "code",
   "execution_count": null,
   "id": "2e14c127",
   "metadata": {},
   "outputs": [],
   "source": [
    "model = build_nn(\n",
    "    nn_shape=nn_shape,\n",
    "    input_dim=assets,\n",
    "    dtype=torch.float32\n",
    ").apply(weights_init).to(device)\n",
    "model.train()\n",
    "\n",
    "sampler = \"Halton\"               \n",
    "dataset = SampledDataset(\n",
    "    params, interior_samples, initial_samples, boundary_samples, sampler, dtype, device, seed=0)\n",
    "\n",
    "# we use the same optimizer for both cases\n",
    "optimizer = torch.optim.Adam(model.parameters(), lr=1e-3)\n",
    "\n",
    "closure = DimlessBS()\\\n",
    "    .with_dataset(dataset, loader_opts={'batch_size': batch_size, \"shuffle\": True, \"pin_memory\": True})\\\n",
    "    .with_model(model)\\\n",
    "    .with_device(device)\\\n",
    "    .with_dtype(dtype)\n",
    "\n",
    "trainer = PINNTrainer()\\\n",
    "    .with_optimizer(optimizer)\\\n",
    "    .with_device(device)\\\n",
    "    .with_dtype(dtype)\\\n",
    "    .with_training_step(closure)\\\n",
    "    .with_epochs(total_iter)\\\n",
    "\n",
    "trainer.train()"
   ]
  },
  {
   "cell_type": "code",
   "execution_count": null,
   "id": "c30eca17",
   "metadata": {},
   "outputs": [],
   "source": [
    "with_halton = trainer.closure.get_state()\n",
    "plot_loss(with_halton, smooth=True, smooth_window=10)\n",
    "\n",
    "with_halton_results = compare_with_mc(model, params, n_prices=200,\n",
    "                          n_simulations=10_000, dtype=dtype, device=device, seed=42)['l2_rel_error']\n",
    "print(\"L2 Error: \", with_halton_results*100)"
   ]
  },
  {
   "cell_type": "markdown",
   "id": "bcf7f4d2",
   "metadata": {},
   "source": [
    "## Residual Based Adaptive Sampling"
   ]
  },
  {
   "cell_type": "code",
   "execution_count": null,
   "id": "ec3ea375",
   "metadata": {},
   "outputs": [],
   "source": [
    "model = build_nn(\n",
    "    nn_shape=nn_shape,\n",
    "    input_dim=assets,\n",
    "    dtype=torch.float32\n",
    ").apply(weights_init).to(device)\n",
    "model.train()\n",
    "\n",
    "sampler = \"Sobol\"               \n",
    "dataset = SampledDataset(\n",
    "    params, interior_samples, initial_samples, boundary_samples, sampler, dtype, device, seed=0)\n",
    "\n",
    "# we use the same optimizer for both cases\n",
    "optimizer = torch.optim.Adam(model.parameters(), lr=1e-3)\n",
    "\n",
    "closure = ResidualBasedAdaptiveSamplingDimlessBS(sampler=sampler, k=0.5, c=2, seed=0)\\\n",
    "    .with_dataset(dataset, loader_opts={'batch_size': batch_size, \"shuffle\": True, \"pin_memory\": True})\\\n",
    "    .with_model(model)\\\n",
    "    .with_device(device)\\\n",
    "    .with_dtype(dtype)\n",
    "\n",
    "trainer = PINNTrainer()\\\n",
    "    .with_optimizer(optimizer)\\\n",
    "    .with_device(device)\\\n",
    "    .with_dtype(dtype)\\\n",
    "    .with_training_step(closure)\\\n",
    "    .with_epochs(total_iter)\\\n",
    "\n",
    "trainer.train()"
   ]
  },
  {
   "cell_type": "code",
   "execution_count": null,
   "id": "32b101d7",
   "metadata": {},
   "outputs": [],
   "source": [
    "with_ra = trainer.closure.get_state()\n",
    "plot_loss(with_ra, smooth=True, smooth_window=10)\n",
    "\n",
    "with_ra_results = compare_with_mc(model, params, n_prices=200,\n",
    "                          n_simulations=10_000, dtype=dtype, device=device, seed=42)['l2_rel_error']\n",
    "print(\"L2 Error: \", with_ra_results*100)"
   ]
  },
  {
   "cell_type": "markdown",
   "id": "a24c7aac",
   "metadata": {},
   "source": [
    "9.5457487/3.9504097/11.257896"
   ]
  },
  {
   "cell_type": "markdown",
   "id": "cde0b3b6",
   "metadata": {},
   "source": [
    "### Compare runs"
   ]
  },
  {
   "cell_type": "code",
   "execution_count": null,
   "id": "c66a6e51",
   "metadata": {},
   "outputs": [],
   "source": [
    "compare_loss_histories(\n",
    "    [with_pseudo,with_sobol,with_halton, with_ra],\n",
    "    [\"Pseudo\", \"Sobol\", \"Halton\", \"RAS\"],\n",
    "    smooth=True,\n",
    "    smooth_window=50,\n",
    ")"
   ]
  },
  {
   "cell_type": "markdown",
   "id": "3d7cbea7",
   "metadata": {},
   "source": [
    "The choice of sampling method has an impact in the final achieved loss. Contrary to the intuition, the pseudo random numbers outperform all methods."
   ]
  },
  {
   "cell_type": "code",
   "execution_count": null,
   "id": "ba3e32a9",
   "metadata": {},
   "outputs": [],
   "source": [
    "print(\"Boundary: \", (1 - with_sobol['boundary_loss'][-1]/with_pseudo['boundary_loss'][-1])*100)\n",
    "print(\"Interior: \", (1 - with_sobol['interior_loss'][-1]/with_pseudo['interior_loss'][-1])*100)\n",
    "print(\"Initial: \", (1 - with_sobol['initial_loss'][-1]/with_pseudo['initial_loss'][-1])*100)\n",
    "\n",
    "\n",
    "print(\"Boundary: \", (1 - with_ra['boundary_loss'][-1]/with_pseudo['boundary_loss'][-1])*100)\n",
    "print(\"Interior: \", (1 - with_ra['interior_loss'][-1]/with_pseudo['interior_loss'][-1])*100)\n",
    "print(\"Initial: \", (1 - with_ra['initial_loss'][-1]/with_pseudo['initial_loss'][-1])*100)"
   ]
  }
 ],
 "metadata": {
  "kernelspec": {
   "display_name": "Python 3",
   "language": "python",
   "name": "python3"
  },
  "language_info": {
   "codemirror_mode": {
    "name": "ipython",
    "version": 3
   },
   "file_extension": ".py",
   "mimetype": "text/x-python",
   "name": "python",
   "nbconvert_exporter": "python",
   "pygments_lexer": "ipython3",
   "version": "3.11.8"
  }
 },
 "nbformat": 4,
 "nbformat_minor": 5
}
