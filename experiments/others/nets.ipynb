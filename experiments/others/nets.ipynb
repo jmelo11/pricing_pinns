{
 "cells": [
  {
   "cell_type": "markdown",
   "id": "b32ec4e1",
   "metadata": {},
   "source": [
    "# Do Nets Matter?\n",
    "#### Author: JP Melo"
   ]
  },
  {
   "cell_type": "markdown",
   "id": "408abab0",
   "metadata": {},
   "source": [
    "In this file we explore how different shapes of nets affect performance and accuracy of the model. We will use the same dataset as before, but we will create different nets with different shapes and compare their performance."
   ]
  },
  {
   "cell_type": "markdown",
   "id": "b50527de",
   "metadata": {},
   "source": [
    "### Imports"
   ]
  },
  {
   "cell_type": "code",
   "execution_count": 62,
   "id": "5d74c022",
   "metadata": {},
   "outputs": [],
   "source": [
    "from derpinns.nn import *\n",
    "from derpinns.utils import *\n",
    "from derpinns.trainer import *\n",
    "import torch\n",
    "import kfac"
   ]
  },
  {
   "cell_type": "markdown",
   "id": "bc70ad0c",
   "metadata": {},
   "source": [
    "## Parameters"
   ]
  },
  {
   "cell_type": "code",
   "execution_count": 63,
   "id": "1176864d",
   "metadata": {},
   "outputs": [],
   "source": [
    "# Fix seed for reproducibility\n",
    "torch.manual_seed(0)\n",
    "np.random.seed(0)\n",
    "\n",
    "# Global parameters\n",
    "assets = 1\n",
    "\n",
    "sampler = \"pseudo\"\n",
    "device = torch.device(\"cpu\")\n",
    "dtype = torch.float32\n",
    "\n",
    "# Define option valuation params\n",
    "params = OptionParameters(\n",
    "    n_assets=assets,\n",
    "    tau=1.0,\n",
    "    sigma=np.array([0.2] * assets),\n",
    "    rho=np.eye(assets) + 0.25 * (np.ones((assets, assets)) - np.eye(assets)),\n",
    "    r=0.05,\n",
    "    strike=15,\n",
    "    payoff=payoff\n",
    ")\n",
    "\n",
    "# Define the number of samples to be used in each training stage\n",
    "\n",
    "adam_batch_size = 200\n",
    "adam_total_iter = 200\n",
    "adam_boundary_samples = 20_000\n",
    "adam_interior_samples = adam_boundary_samples*assets*2\n",
    "adam_initial_samples = adam_boundary_samples*assets*2\n",
    "\n",
    "lbfgs_boundary_samples = 200\n",
    "lbfgs_interior_samples = lbfgs_boundary_samples*assets*2\n",
    "lbfgs_initial_samples = lbfgs_boundary_samples*assets*2"
   ]
  },
  {
   "cell_type": "markdown",
   "id": "7bdffad9",
   "metadata": {},
   "source": [
    "## Training\n",
    "\n",
    "In this case, we use the full training pipeline as the idea is to analize the expressability of the model and not the training process."
   ]
  },
  {
   "cell_type": "markdown",
   "id": "75c5452c",
   "metadata": {},
   "source": [
    "### FFNN"
   ]
  },
  {
   "cell_type": "code",
   "execution_count": 64,
   "id": "8a7c1354",
   "metadata": {},
   "outputs": [
    {
     "name": "stderr",
     "output_type": "stream",
     "text": [
      "Adam training: 100%|██████████| 200/200 [00:46<00:00,  4.29it/s, Interior=0.006436, Boundary=0.005141, Initial=0.013565, Total=0.025142, Max Error=2.2668752670, L2 Error=0.0639242977] \n",
      "SSBroyden training:  28%|██▊       | 566/2000 [03:05<07:50,  3.05it/s, Interior=0.000000, Boundary=0.000000, Initial=0.000000, Total=0.000000, Max Error=0.003956, L2 Error=0.000113]\n"
     ]
    }
   ],
   "source": [
    "nn_shape = \"64x2\"\n",
    "model = build_nn(\n",
    "    nn_shape=nn_shape,\n",
    "    input_dim=assets,\n",
    "    dtype=torch.float32\n",
    ").apply(weights_init).to(device)\n",
    "model.train()\n",
    "\n",
    "dataset = SampledDataset(\n",
    "    params, adam_interior_samples, adam_initial_samples, adam_boundary_samples, sampler, dtype, device, seed=0)\n",
    "\n",
    "optimizer = torch.optim.Adam(model.parameters(), lr=1e-2)\n",
    "preconditioner = kfac.preconditioner.KFACPreconditioner(model)\n",
    "\n",
    "closure = DimlessBS()\\\n",
    "    .with_dataset(dataset, loader_opts={'batch_size': adam_batch_size, \"shuffle\": True, \"pin_memory\": True})\\\n",
    "    .with_model(model)\\\n",
    "    .with_device(device)\\\n",
    "    .with_dtype(dtype)\n",
    "\n",
    "trainer = PINNTrainer()\\\n",
    "    .with_optimizer(optimizer)\\\n",
    "    .with_device(device)\\\n",
    "    .with_dtype(dtype)\\\n",
    "    .with_training_step(closure)\\\n",
    "    .with_preconditioner(preconditioner)\\\n",
    "    .with_epochs(adam_total_iter)\\\n",
    "\n",
    "# first training stage\n",
    "trainer.train()\n",
    "\n",
    "# we create new samples for the second stage\n",
    "dataset = SampledDataset(\n",
    "    params, lbfgs_interior_samples, lbfgs_initial_samples, lbfgs_boundary_samples, sampler, dtype, device, seed=0)\n",
    "\n",
    "optimizer = SSBroyden(\n",
    "    model.parameters(),\n",
    "    max_iter=2_000,\n",
    ")\n",
    "batch_size = len(dataset)  # we use all samples\n",
    "\n",
    "closure = closure.with_dataset(\n",
    "    dataset, loader_opts={'batch_size': batch_size, \"shuffle\": False, \"pin_memory\": True})\n",
    "\n",
    "trainer = trainer.with_optimizer(optimizer).with_training_step(closure)\n",
    "\n",
    "# second training stage\n",
    "trainer.train()\n",
    "\n",
    "# save the model\n",
    "torch.save(model.state_dict(), \"ffnn.pth\")\n",
    "\n",
    "ffnn = model"
   ]
  },
  {
   "cell_type": "code",
   "execution_count": 65,
   "id": "adaec2b8",
   "metadata": {},
   "outputs": [
    {
     "data": {
      "application/vnd.plotly.v1+json": {
       "config": {
        "plotlyServerURL": "https://plot.ly"
       },
       "data": [
        {
         "line": {
          "color": "#08306B"
         },
         "mode": "lines",
         "name": "PDE Loss",
         "type": "scatter",
         "x": {
          "bdata": "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",
          "dtype": "i2"
         },
         "y": {
          "bdata": "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",
          "dtype": "f8"
         }
        },
        {
         "line": {
          "color": "#3182BD"
         },
         "mode": "lines",
         "name": "Boundary Loss",
         "type": "scatter",
         "x": {
          "bdata": "AAABAAIAAwAEAAUABgAHAAgACQAKAAsADAANAA4ADwAQABEAEgATABQAFQAWABcAGAAZABoAGwAcAB0AHgAfACAAIQAiACMAJAAlACYAJwAoACkAKgArACwALQAuAC8AMAAxADIAMwA0ADUANgA3ADgAOQA6ADsAPAA9AD4APwBAAEEAQgBDAEQARQBGAEcASABJAEoASwBMAE0ATgBPAFAAUQBSAFMAVABVAFYAVwBYAFkAWgBbAFwAXQBeAF8AYABhAGIAYwBkAGUAZgBnAGgAaQBqAGsAbABtAG4AbwBwAHEAcgBzAHQAdQB2AHcAeAB5AHoAewB8AH0AfgB/AIAAgQCCAIMAhACFAIYAhwCIAIkAigCLAIwAjQCOAI8AkACRAJIAkwCUAJUAlgCXAJgAmQCaAJsAnACdAJ4AnwCgAKEAogCjAKQApQCmAKcAqACpAKoAqwCsAK0ArgCvALAAsQCyALMAtAC1ALYAtwC4ALkAugC7ALwAvQC+AL8AwADBAMIAwwDEAMUAxgDHAMgAyQDKAMsAzADNAM4AzwDQANEA0gDTANQA1QDWANcA2ADZANoA2wDcAN0A3gDfAOAA4QDiAOMA5ADlAOYA5wDoAOkA6gDrAOwA7QDuAO8A8ADxAPIA8wD0APUA9gD3APgA+QD6APsA/AD9AP4A/wAAAQEBAgEDAQQBBQEGAQcBCAEJAQoBCwEMAQ0BDgEPARABEQESARMBFAEVARYBFwEYARkBGgEbARwBHQEeAR8BIAEhASIBIwEkASUBJgEnASgBKQEqASsBLAEtAS4BLwEwATEBMgEzATQBNQE2ATcBOAE5AToBOwE8AT0BPgE/AUABQQFCAUMBRAFFAUYBRwFIAUkBSgFLAUwBTQFOAU8BUAFRAVIBUwFUAVUBVgFXAVgBWQFaAVsBXAFdAV4BXwFgAWEBYgFjAWQBZQFmAWcBaAFpAWoBawFsAW0BbgFvAXABcQFyAXMBdAF1AXYBdwF4AXkBegF7AXwBfQF+AX8BgAGBAYIBgwGEAYUBhgGHAYgBiQGKAYsBjAGNAY4BjwGQAZEBkgGTAZQBlQGWAZcBmAGZAZoBmwGcAZ0BngGfAaABoQGiAaMBpAGlAaYBpwGoAakBqgGrAawBrQGuAa8BsAGxAbIBswG0AbUBtgG3AbgBuQG6AbsBvAG9Ab4BvwHAAcEBwgHDAcQBxQHGAccByAHJAcoBywHMAc0BzgHPAdAB0QHSAdMB1AHVAdYB1wHYAdkB2gHbAdwB3QHeAd8B4AHhAeIB4wHkAeUB5gHnAegB6QHqAesB7AHtAe4B7wHwAfEB8gHzAfQB9QH2AfcB+AH5AfoB+wH8Af0B/gH/AQACAQICAgMCBAIFAgYCBwIIAgkCCgILAgwCDQIOAg8CEAIRAhICEwIUAhUCFgIXAhgCGQIaAhsCHAIdAh4CHwIgAiECIgIjAiQCJQImAicCKAIpAioCKwIsAi0CLgIvAjACMQIyAjMCNAI1AjYCNwI4AjkCOgI7AjwCPQI+Aj8CQAJBAkICQwJEAkUCRgJHAkgCSQJKAksCTAJNAk4CTwJQAlECUgJTAlQCVQJWAlcCWAJZAloCWwJcAl0CXgJfAmACYQJiAmMCZAJlAmYCZwJoAmkCagJrAmwCbQJuAm8CcAJxAnICcwJ0AnUCdgJ3AngCeQJ6AnsCfAJ9An4CfwKAAoECggKDAoQChQKGAocCiAKJAooCiwKMAo0CjgKPApACkQKSApMClAKVApYClwKYApkCmgKbApwCnQKeAp8CoAKhAqICowKkAqUCpgKnAqgCqQKqAqsCrAKtAq4CrwKwArECsgKzArQCtQK2ArcCuAK5AroCuwK8Ar0CvgK/AsACwQLCAsMCxALFAsYCxwLIAskCygLLAswCzQLOAs8C0ALRAtIC0wLUAtUC1gLXAtgC2QLaAtsC3ALdAt4C3wLgAuEC4gLjAuQC5QLmAucC6ALpAuoC6wLsAu0C7gLvAvAC8QLyAvMC9AL1AvYC9wL4AvkC+gL7AvwC/QL+Ag==",
          "dtype": "i2"
         },
         "y": {
          "bdata": "SOE6zV+GgD9I4TrNX4aAP0jhOs1fhoA/SOE6zV+GgD9I4TrNX4aAP0jhOs1fhoA/SOE6zV+GgD9I4TrNX4aAP0jhOs1fhoA/SOE6zV+GgD9I4TrNX4aAP0jhOs1fhoA/SOE6zV+GgD9I4TrNX4aAP0jhOs1fhoA/SOE6zV+GgD9I4TrNX4aAP0jhOs1fhoA/SOE6zV+GgD9I4TrNX4aAP0jhOs1fhoA/SOE6zV+GgD9I4TrNX4aAP0jhOs1fhoA/SOE6zV+GgD9I4TrNX4aAP0jhOs1fhoA/SOE6zV+GgD9I4TrNX4aAP0jhOs1fhoA/SOE6zV+GgD9I4TrNX4aAP0jhOs1fhoA/SOE6zV+GgD9I4TrNX4aAP0jhOs1fhoA/SOE6zV+GgD9I4TrNX4aAP0jhOs1fhoA/SOE6zV+GgD9I4TrNX4aAP0jhOs1fhoA/SOE6zV+GgD9I4TrNX4aAP0jhOs1fhoA/SOE6zV+GgD9I4TrNX4aAP0jhOs1fhoA/SOE6zV+GgD9I4TrNX4aAPx+Fayoo+Hs/H4VrgOkDeT8zM7ObEGR4P+xROPgg13Q/zcyMgLh2dD+uR6FUtEFzPzMz86WVpXE/XI+CcC0ScT/sUThigeBuP0jh+oe7DG4/FK7HOsEUbT+kcL1TeANqP0jh+g12S2k/cT2KXI1TaD/2KNzYcJZmP1yPQjN2GmU/KVwPaM9RYj97FC69pCthP4Xr0bNVeGA/KVyPubrvXz/D9Sing9ZeP6RwPf3XxFw/16NwIBYyWz8pXI+l1ptYPwrXo4MxdVY/FK5H7J3kUz/sUbjaW8NRP+F6FNJYIlA/XI/CPeovTj8K16NoCWhNP/YoXAdaQkw/SOF6fJY8Sj97FK5/ErJIP+F6FIY1n0c/rkfh0lTSRT89Ctc7iMlEP6RwPcJQ80U/AAAA+Fz0Rj89CtcbdjBHPzMzM+t+YEc/KVyP6q2ERz/D9SjNUzRHP65H4dt2PEc/ZmZml6FwSD97FK7sbM5KPylcj9cGh00/PQrXsAaKTz+F61FFseNPP7geBaKQFVA/CtcjQ3kxUT8zM7PpRMRSP7geBQrqF1Q/FK7Hlyr/VD9mZuZYXpxVP65HYbSFC1Y/16PwhgMkVj9mZuZ7/lNWPwrXIybH/FY/exQu4dY4WD8K1yOqDJ5ZP8P1qIkGj1o/hevR1aPsWj9SuJ6C+nZbPzMzs1jl5Fw/rkdhmMF6Xz/XozDY8FthP4XrEatxDGM/zcyMD/2cZD+kcP2G0M1lP3sUbiTmfmY/uB5FTiTLZj9mZiYNS99mP8P16MJN/mY/rkehsZRKZz+amVk4DbdnP5qZWbxYRWg/w/Vo5uHeaD8K1+M2V19pP65HIQFRzGk/zcwM564uaj8zM3NtAHZqPylcz8CsvGo/cT1KaU0Caz9mZqZAAkxrP1K4Xs+9pGs/uB7FpXf+az8fhStcFTZsP9ejsLcwN2w/j8I1Y3IWbD/D9WhWm/9rP8P1aP4LD2w/rkfhXktEbD/2KFzLrmVsP9ejcPmlbGw/KVyP/m17bD8fhesNQFZsP+F6FGq3Nmw/MzMzd8VgbD+kcD2O1YdsP2ZmZsKJNmw/zczMbOBsaz9xPQohdLNqP8P1KHYdcGo/16Nw922Taj+F61GaYxZrPwAAAI5F+Gs/MzMzaTLtbD/NzMxieaFtP2ZmZtx6K24/hetRjmS8bj/sUbjU7UJvP65H4VgMhG8/hetRwmFDbz/Xo3Bn0OJuP83MzBa7aW4/cT0KYSyUbT+F61ECyXJsP65H4RQ4aGs/Urgef3Taaj/sUbg47/lqP2ZmZmDOt2s/cT0KOS3KbD+kcD207qdtP1K4Hn+k220/zczMzrt0bT/sUbhePN9sP2ZmZtaidGw/zczMjL9HbD+4HoU7d0ZsP65H4erReGw/AAAAwAvHbD8UrkcNYp1sP1yPwjlbhWw/ZmZmWoKVbD/NzMzQJ4dsP4/C9SzOPWw/hetRzFHhaz9mZmY6D7FrP4/C9cxawGs/SOF6GFz1az9mZmYyxjlsPylcj245hmw/9ihcE9jubD+4HoVfu1BtP+xRuJLoUG0/AAAABOsCbT89CtdI0J9sP/YoXKTkl2w/KVyP1wHubD/NzMy52oBtP2ZmZq9GLm4/16Nw3GbKbj8UrkfwMDdvP4/C9UeXQm8/4XoU3XPfbj9SuB6UlRduPx+F62ArLW0/PQpXJFAYbD+uR2H7BfJqPz0KV0J7qWk/FK7HmXyeaD8fhWthzhhoP/Yo3A8s+2c/CtejBJ2LZz+4HoUd47VmP4/C9d3T6GU/ZmbmVFJJZT89CleggLJkP+xRWAp5/mM/AACwr0MeYz8zMx/D1gpiP+xRXIEtzmA/MzNbLTxKXz8AAIjtI9VdP5qZ8cHbXV0/CtcTG6g1XT/sUQiQ+dJcP9ejEKtaGlw/KVyv1a4TWz+amQfYS65ZPwAAZqD+Tlg/ClfTRf/+Vz/2KLSpu4xXP4XrqGzIjFY/mpnRLtNnVT/DdbiXoXVUP1I4cklhvFM/ZmZYQ0AKUz+aGdc00kJSP4VrD6b4b1E/ZuaEx8iQUD97FMBLSxVPP5qZhtkEhEw/mpk6yK53ST89CkBtu8hGP/YovXzVs0U/PQrUlIaiRT+uR748r2lEP7geoK6rsEE/PQqV2HSkPD8AAH7HGcc2P4/CY1XYjTE/rkcdz8dQKD+F69U/iz8gP5qZwSeMThU/ZmbWrfQkCz8Urmfxr4T8Pq5HAdA+tvs+w/XIiSQ29T4fhcuy+cPwPqRw/Zoi6ek+XI8C67s+4z4pXA+38DLePs3MzNbzxdc+rkdhzGeo0j5I4Xq3hpDGPilcj6z/87g+MzMzG6BfsT7sUbhWvNarPnE9Coekj6g+mpmZVclOpj72KFxX94GhPilcj4om+Jo+w/Uo+NmWmD7sUbgifZOUPq5H4X6GJZM+KVyP3lp6kT4UrkedYvmQPq5H4cIfaI8+FK5Huf/8jT4fheuZEteNPgrXo9iz5o0+w/Uo9JfJjT5xPQrvh76NPj0K1xtkw40+PQrXKxDWjT4K16P4It2NPnE9Cv/k3I0+mpmZwUDljT5cj8K9X22NPhSuR9kAK40+4XoUJjpJjT5mZmZ2/02NPpqZmalzTYw+16NwnQG2iz6uR+Fi7ZaKPlyPwtUB0Yk+7FG43mISiT7Xo3BNAxKIPgrXoyCoIoc+ZmZmpkNrhj7D9SiM3cyFPnsUrqdVK4U+MzMzA8OchD7Xo3C9TDeEPoXrUYiD74M+7FG4bg6qgz6uR+EaLVeDPuF6FN6WCIM+rkfhany7gj4fhes5MH2CPtejcCULPII+9ihcZ8X6gT7D9Sj4i6WBPgAAAOCFVoE+CtejKE8hgT6amZkRNeOAPs3MzNRbsYA+uB6FA0N+gD49CteDDVaAPuxRuFKKLIA+XI/COTkGgD5xPQrvKb9/PkjhekSpTn8+zczM3Lbsfj64HoVbs6p+PvYoXP98UX4+exSuR/rvfT5SuB5lu6Z9PilcjyKfS30+uB6FaxCYfD5xPQon1Rd8PlK4HmWvsns+KVyPUuo6ez4fheuxX9N6PpqZmVlFbHo+4XoUTpMNej7sUbg+7IV5PgAAAAAfAHk+zczMTI2ReD5SuB6lYTh4Ps3MzLSLx3c+CtejUOJndz4zMzPvbgZ3PpqZmVG3jXY+uB6Fr1Ujdj7hehQiUKl1Prgehd8gSXU+uB6Ft+bjdD6amZltwBl0PjMzM59AknM+j8L1bGULcz7Xo3DhHpJyPuxRuFIsInI+SOF6+K1+cT4K16Ms1tBwPqRwPTZYKHA+pHA9onYsbz4K16NIb5tuPqRwPRJ4920+cT0Kv45ibT64HoUTcx9tPjMzMzvO9Ww+16NwhYkFbT4K16OIJOBsPnE9Cp9hf2w+ZmZmxn4fbD6amZmB3rJrPkjhevx9Tms+4XoU9nInaz4fhetZgdZqPuxRuH54eWo+exSuFysSaj64HoUjnOlpPqRwPTJOn2k+exSuV8TyaD7D9SiUDH9oPqRwPQJwEmg+rkfhsvFXZz5SuB6NLuFmPrgehRMjW2Y+uB6FE7fbZT4UrkeZslFlPuxRuPZ3jWQ+FK5HCVbZYz6amZnBcVljPpqZmTH942I+w/Uo1FSyYj64HoUDZYliPjMzM3uCYGI+7FG4htYkYj4pXI/62SViPs3MzESpKGI+cT0K9/FvYj72KFzXNaJiPnsUrhctz2I+XI/C1fA8Yz4K16PAQ0hjPilcj6IVW2M+PQrXw2ZcYz4AAAAoWy9jPvYoXDcQBmM+w/UoFH7dYj6amZnB7ppiPqRwPaJ7WmI+AAAAIC9VYj4fhesh5TBiPkjhephh/2E+Urge8bltYT4zMzOHVAZhPvYoXGctomA+uB6Fkw8QYD4K16O47vlePoXrUWgK/V0+Ctej9Ol9XT4pXI8On99cPkjhemC7zVw+w/UouEutXD4Urke1G6RcPtejcPn50Vs+mpmZFZRsWz4AAACMue1aPilcj2bHglo+zczM2EwjWj57FK5rmO5ZPjMzM7+lxVk+pHA9RuJ4WT5I4Xpw8x9ZPjMzM+fOz1g+uB6F301ZWD4fhevNNvBXPuF6FGp+cFc+hetRJBv3Vj64HoW3eHlWPtejcDlyxlU+FK5HNaXkVD7hehTKaTJUPq5H4X4ljVM+hetR9AvVUj5cj8LB1hFSPlK4HjF1aFE+H4XrPZALUT4AAACc+bZQPrgehSf3OlA+AAAAuCv9Tz5cj8LNlnFPPvYoXOfWSE4+CtejyICxTT7NzMzErPFMPpqZmRF+Wkw+FK5H+YuqTD6amZnxgOdMPuF6FMZ5j00+4XoUhqZgTj5I4XpssFBPPvYoXMfMe08+FK5HncUvUD64HoU/3J9QPjMzMzeyJVE+FK5Htb67UT4pXI9OlVFSPrgehZeM9lI+ZmZmmuWfUz6amZmFCkVUPlK4Hv1i4FQ+w/Uo7HiRVT64HoWLG7BVPj0K14NBAFY+zczMtJNgVj7hehSOX+xWPoXrUficelc+AAAAwEclWD5cj8JdM9FYPo/C9VibeFk+cT0Kz7rxWT6PwvXo1GRaPkjhenTyw1o+j8L1aMApWz6kcD1CW4FbPoXrURC5y1s+hetR+BbyWz6F61GILyhcPuxRuN4iTlw+FK5HQVR1XD5xPQp3CJZcPoXrUSDetlw+w/Uo7B/OXD4pXI/aUhtdPgAAADCuWV0+XI/CNRKUXT6kcD3qnchdPs3MzLy05l0+pHA9mhH2XT4fhesxgf9dPvYoXM8p810+FK5HAUn0XT57FK734b9dPgrXowBFml0+MzMzA5KiXT7NzMzchMNdPmZmZsYQal0+pHA9anEMXT6PwvUoQphcPgAAAAADP1w+AAAAkMreWz57FK7vwHRbPvYoXCcaKVs+UrgeHUvKWj4AAAAoNFtaPo/C9UAz3lk+pHA9eg1LWT5cj8LdJ7hYPlyPwl0mG1g+exSuf9GSVz7hehQGQP5WPj0K1/PdbFY+4XoURmXtVT4AAADgBmlVPilcjwJ03lQ+ZmZmylRGVD5SuB5xBZxTPmZmZsZ6+VI+exSu+yxLUj57FK6jr6RRPjMzMw1M+VA+PQrXidZVUD6amZl9hpRPPhSuR33brU4+4XoUxsLATT5cj8LNcvpMPuxRuMaHSEw+zczMBOWKSz4K16Oo+DlLPvYoXC/hy0o+SOF6hLViSj57FK7Pv/VJPq5H4Tp1eUk+cT0Kn8WaSD72KFwjjr1HPh+F612X5UY+mpmZDWUMRj4zMzMLvENFPkjhesjxj0Q+mpmZVRX0Qz4AAADkd0xDPgrXo7CbnkI+9ihc56ADQj6kcD36l2pBPvYoXFfD50A+uB6FA9MHQD49CtfTpus+PgrXo1AXBD4+uB6F2wUxPT7D9SisZ0k8PgrXowB5iTs+ZmZmFrQTOz49Ctfz6dY5PgrXo0BCIjk+4XoU3kubOD7Xo3CtnfU3PgrXo+D2tjc+9ihcjxV5Nz7D9SjcvHE3PgAAAMAgSTc+exSuh5tFNz49CtdD2U03PnsUrsfcUzc+UrgeJcFNNz6kcD1Km2A3Ps3MzPwzvDg+exSul7g/OT49CteDcJc5PmZmZhan7Tk+PQrXU1tJOj4fheuJ1bQ6Ph+F61lvITs+hetRUM6ROz4K16MYt8c7PuxRuO5GKjw+hetRKMGsPD4Urkdxbz89PnE9Coew2D0+PQrX0w+FPj57FK6nGis/PlyPwhXMtz8+KVyPSuMWQD7sUbg+lF9APq5H4QL3lkA+ZmZmUtPnQD7Xo3DRkUdBPtejcOlbskE+zczMRKYgQj4fhetdHotCPgrXo1TH7kI+uB6FV85FQz4pXI9Cl7pDPhSuRynyLUQ+cT0KJ9eYRD4zMzOLWe9EPo/C9XAXYUU+j8L1cHbcRT72KFxfRF5GPgrXo9jT3kY+16NwNTVbRz7Xo3BV+8dHPrgehcNCNEg+cT0K/yfFSD5xPQr/zFdJPmZmZt5A20k+CtejKHVkSj49CtfrrvNKPtejcC3hxks+7FG4zux7TD4AAADQRBpNPtejcI0Atk0+9ihcP19WTj6amZnJufJOPh+F6yEYjE8+AAAAoAIUUD6kcD3qoBJQPqRwPTrbTlA+XI/CbYeQUD7hehReNNZQPgrXoxhTG1E+cT0K/4ViUT5cj8K9QqdRPpqZmfGI7FE+CtejaC43Uj6amZnZeXxSPpqZmZE/w1I+H4XrGTwHUz5SuB499ERTPilcj3rxUFM+XI/CHSJqUz4pXI+i8o1TPtejcAWRvFM+XI/C9fntUz4pXI8agSNUPqRwPbo2V1Q+SOF6BLiOVD6F61FY78BUPhSuRwlE8VQ+PQrXk8shVT6F61FIdlFVPtejcGWpfVU+w/Uo3HunVT4Urkchqs5VPuF6FN4WAVY+16NwHbs1Vj7hehRO1WxWPs3MzIwTolY+cT0Kt6/ZVj6amZkpNRZXPlyPwgWRXFc+cT0Kl/SYVz4AAACAOs5XPrgehZtQ/Fc+mpmZmYQeWD5I4XrkWz5YPlyPwqWCcFg+9ihcvzSgWD4pXI9SMKZYPq5H4frgpFg+H4XrEQypWD5mZmZ2UaxYPhSuR9E8olg+UrgeNcOQWD49CtezW4NYPvYoXH+Oblg+w/Uo3JVWWD4UrkfBJzhYPoXrUdjjGlg+AAAAoHD/Vz6PwvVoMeJXPtejcD3LwVc+MzMzM6anVz57FK6n7IhXPrgehevUZ1c+4XoUdro+Vz6F61HgJgpXPq5H4fqF1FY+w/UofCiiVj6amZmZ6G9WPoXrUSBaQlY+PQrXm6IRVj64HoUDNN5VPhSuR7kJqVU+Urgetf11VT4zMzPDPUFVPjMzM8OoBVU+CtejqGvJVD6uR+ECdoxUPuxRuDaeTFQ+KVyPoq0IVD7NzMw0icNTPh+F65GUd1M+H4XrifkmUz6F61GUZ8tSPlK4HvGAalI+mpmZkVcHUj64HoUDdaRRPvYoXKeHPFE+mpmZibvQUD5mZmZu8WFQPrgehSvo8k8+j8L1qGUoTz4UrkexRFVOPhSuRxGDsU0+w/UoLAb/TD5cj8LVPiBMPnE9CpdVRUs+rkfhegiASj7NzMzsvdBJPrgehSvhK0k+ZmZm9mSMSD64HoVr1PtHPnE9CodufUc+7FG4Hrz1Rj7hehQuwHtGPoXrUdjcDUY+SOF61Ii0RT49CtcjqXZFPgrXo/BIOEU+PQrXI8D2RD7NzMxcCKtEPnsUricSVUQ+XI/Ctb8GRD7D9SjM/bVDPpqZmbFLbkM+rkfhalMpQz57FK7XPPFCPvYoXF9zxEI+hetROD2dQj7NzMyMCXhCPj0K12OIWkI+Ctej8JVJQj4K16MwECxCPvYoXH+D/UE+mpmZSX/RQT7hehQ2s6hBPhSuR0EAc0E+PQrXQ7g4QT6PwvVARQBBPlK4HkUsx0A+w/UotPKXQD7NzMzkzGZAPuxRuILDMUA+XI/CNbX4Pz5mZmbO4pE/PqRwPcIyJD8+XI/CLQ2qPj4zMzO7/DU+Pkjhetzytj0+MzMzH6IKPT72KFwTdFs8PuF6FDoArDs+KVyPvpTyOj4AAABAhAc6PlK4HuFbOzk+AAAASK1+OD4zMzPPR8Q3Po/C9URsCjc+uB6Foy9cNj4K16NcKas1PlyPwpFM/jQ+zczMBExnND6kcD1C+9ozPg==",
          "dtype": "f8"
         }
        },
        {
         "line": {
          "color": "#9ECAE1"
         },
         "mode": "lines",
         "name": "Initial Loss",
         "type": "scatter",
         "x": {
          "bdata": "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",
          "dtype": "i2"
         },
         "y": {
          "bdata": "FK7HUh4p4z8UrsdSHinjPxSux1IeKeM/FK7HUh4p4z8UrsdSHinjPxSux1IeKeM/FK7HUh4p4z8UrsdSHinjPxSux1IeKeM/FK7HUh4p4z8UrsdSHinjPxSux1IeKeM/FK7HUh4p4z8UrsdSHinjPxSux1IeKeM/FK7HUh4p4z8UrsdSHinjPxSux1IeKeM/FK7HUh4p4z8UrsdSHinjPxSux1IeKeM/FK7HUh4p4z8UrsdSHinjPxSux1IeKeM/FK7HUh4p4z8UrsdSHinjPxSux1IeKeM/FK7HUh4p4z8UrsdSHinjPxSux1IeKeM/FK7HUh4p4z8UrsdSHinjPxSux1IeKeM/FK7HUh4p4z8UrsdSHinjPxSux1IeKeM/FK7HUh4p4z8UrsdSHinjPxSux1IeKeM/FK7HUh4p4z8UrsdSHinjPxSux1IeKeM/FK7HUh4p4z8UrsdSHinjPxSux1IeKeM/FK7HUh4p4z8UrsdSHinjPxSux1IeKeM/FK7HUh4p4z8UrsdSHinjP3E9iq/c198/16NwPCX+3D+kcD2SHDzaPz0Kt+c5Ztg/SOEa+7Th1j/Xo9BsC1HVP/YoPEtk4tM/uB7lw9uN0j97FA73LDXRP1yPgurgnc8/XI8CUGb5zD9mZqbGr4vKPylcz50fKMg/16Ow1vq/xT+PwjV7imXDP4XrkVVGKME/KVwPQzsYvj+4HgX0WB66P83MTCNrZrY/KVwPayDjsj/D9SidPEuvPz0K15TDwKk/cT0KQJpQpT8zMzPsmsmhPwAAAAKL3J0/pHA9DO9mmT+4HoXlPtyVP8P1KP6I/5I/mpmZj0jQkD9SuB4RsFmOPxSuR02934s/KVyPLicbij/hehSKRdeIP7gehQd79oc/cT0KUyrUhz+4HoXn25GIPzMzM68A+Yk/exSuEz2Siz/sUbiKe8GMP3E9CmOCHI0/MzMzH96gjD+PwvW8nN6LP65H4d71pYs/FK5H1bwxjD89CtenoT+NPz0K1/8uUo4/pHA9Xrfgjj8AAACk1f2OP1yPwpnIVI8/cT0K6V4JkD+F61FScYiQP3E9CsmeDJE/zczM/ll4kT/NzMywCMmRP4/C9XDdD5I/pHA9Vk9vkj8AAADE7uiSPxSuR72uYJM/9ihcq1TBkz9mZmbSOxWUP1yPwoWOjJQ/ZmZmRhBXlT9SuB6NjXyWP/YoXCdY8Jc/H4XrobaLmT9xPQpPxR2bPwrXo1DGhJw/j8L1qL2vnT/hehQWl6iePwAAAKCOhp8/PQrX490loD+4HoWbaWqgP4/C9cgii6A/pHA94mSsoD+amZnZsOqgP5qZmQk9U6E/9ihco3b2oT9SuB5FLtqiP3E9Cq0X3KM/w/UoKkm7pD+amZmvCVGlPxSuR5clCKY/w/UolvJ/pz/2KFw5fsupP2ZmZsgJrKw/AAAAsrLbrz89CteU9pCxPx+F60JiKrM/Urge7hSqtD8fhesONP+1P4/C9T1yFbc/w/Uo0Fvbtz9SuB5/F1G4P2ZmZggbjrg/pHA9rKuzuD+PwvWKieW4Px+F60fkNrk/exSud4mcuT+kcD1mo/a5P8P1KATlM7o/j8L1CKhSuj8Urkfx5F26P2ZmZoLCa7o/PQrXKxiSuj8fhes1wNa6Pylcj3KELrs/FK5HkZOJuz+amZlxUtq7P4XrUTT0Fbw/FK5HTZQ0vD8UrkfN0DG8P3sUrr9LE7w/SOF6fADquz/Xo3DFnNS7P+xRuHaf7rs/hetRMJI8vD/D9SjUp6+8Px+F6znVML0/KVyP4luqvT+PwvXo4w2+P65H4Sp7V74/CtejsAqMvj+F61HsaK++P2ZmZibJub4/mpmZfemnvj89Ctd3FoG+P+xRuArETL4/ZmZmSjkLvj8zMzPf+sG9P3sUrvOdgb0/j8L19DJUvT/NzMzg1hK9P7gehR8Ti7w/AAAARCuyuz9cj8IZxpa6P9ejcMHGTLk/AAAAdDTntz/2KFwDFHq2P+xRuHLTHbU/hetRHMTvsz/NzMxwvgmzP1yPwtGGcbI/rkfh0oMQsj+uR+FSUcixPwAAAI65grE/16Nw4TsysT9mZmagK9WwP+xRuNT2cLA/exSuj8AOsD/2KFxP5HWvP1K4Hu2JDq8/SOF6uDy5rj9mZma6g2+uP3sUrge1/K0/7FG4l31HrT9SuB4FaFqsP6RwPcugVKs/ZmZm0VFeqj/NzAwJpZ+pP4Xr0Z+CKKk/16Nwa6jmqD8pXA+CFq6oPzMzs+g0VKg/ZmZmZLSppz9mZqYYPpGmP1yPsmYPGqU/w/VoCWtwoz/sUahFdsShP65HIeJ5PKA/H4XrsHDhnT8pXE9oONebPwrXAymQVJo/4Xq0njlAmT/NzAyb/3qYP65HgX2z6Jc/4XokJnRdlz+PwpUYwKeWP6RwHQUdwpU/CtdDYevElD9mZubAJ9eTP8P1OElPJpM/cT1aXEaKkj/NzGQPjYmRP8P1CEm//o8/j8IV3T8jjD/heuRM8PiHP8P1WLFi8YM/rkeBWQlegD8AAOAbFL56P0jhmlOQ0XU/FK5HJobHcT+F61GO3xltPxSuhx2wTmg/KVzPXmQbZT/NzGxm5wxjP/YonLa2Y2E/mplZ6kfwXj8UrkdTkXtaP65HYWKi4FU/MzMz1R1wUT/NzMy+f4FGPz0K11POWUE/zczMxxrbOD+PwvWoDK8yP3E9CjOf6i4/uB6Ft2x7KT9mZmagv2wkPwrXo4TYjyE/7FG4xm1XHj8K16P8w0UbPylcjzoR2Bc/9ihcH+uzFD8K16Mk8jgSPz0K1+9ZcxA/KVyPwk+aDT9SuB5d40kLPxSuR6kfFgk/KVyP/ssUBz9xPQpbChIFP4/C9URM1wM/KVyPjnzRAj/sUbj+1vIBP9ejcO1qJwE/CtejeAtyAD+4HoVDqbL/Po/C9SggYP4+cT0Kt4US/T5cj8I1z9D7PmZmZsbXuvo+uB6FQwOo+T6PwvUg9J34PvYoXL+jm/c+w/UojFWy9j57FK434sz1Po/C9WiZ7fQ+exSuN6UZ9D5I4XpsH0rzPoXrUYCWi/I+SOF6DA7S8T7D9Sg8rzXxPjMzM+OYoPA+zczMVDgh8D5mZmZGYk/vPnsUrtf6oe4+j8L1mOMA7j4K16Ogl2vtPoXrUbh84uw+rkfhms9p7D6amZm5mRLsPsP1KLwvyus+exSuh6uA6z7Xo3DNAznrPs3MzPxb8Oo+hetRiNum6j57FK7nJVrqPnsUrtdJDuo+MzMzc13C6T7NzMzMZHbpPlK4HkXQKek+zczMDOLc6D7D9Si8mo/oPgAAAOBLQug+PQrXc0b15z5mZmZ2w6nnPsP1KKzgXec+Urge5cMU5z7D9Si8j87mPuxRuJ76ieY+hetRqPhH5j7NzMzMfgfmPhSuR0EE0OU+AAAA0MSa5T5SuB41SGflPgAAAPCJNuU+w/Uo3NEI5T7Xo3DtO+TkPmZmZiaWwOQ+4XoUTnOf5D72KFxvfYHkPmZmZqY7ZOQ+XI/CBVZK5D4zMzMjYjHkPj0K1/MGHuQ+ZmZm9lcO5D4zMzPDgv7jPtejcO1+7uM+FK5H8XXd4z4zMzMzaczjPhSuR9Eiu+M+Ctej0EKo4z57FK7XqpTjPpqZmXmvfeM+j8L1KLxm4z4UrkcBIk/jPkjhejTeNuM+XI/CVZEe4z6kcD1qnwXjPilcj6K05+I+PQrXozfM4j4UrkfBuLDiPlK4Hm1ykuI+j8L1cHFy4j7NzMzMvVDiPo/C9agkLuI+mpmZKf0N4j5xPQq/0O3hPgrXo4BYzOE+hetRWCeo4T7D9ShMH4HhPkjherS5WeE+mpmZ6fkx4T4K16PwAAfhPpqZmRmz2+A+16Nw3S+w4D49CtcbN4PgPs3MzAxXVeA+exSuDzMn4D6PwvUoe/DfPoXrUajRj98+Ctej0Poq3z49CtdDyL3ePtejcM3yT94+w/UoDIXh3T5SuB6F3G7dPkjhejRa99w+16Nwrah63D7D9ShsL/7bPuxRuI5xgNs+PQrX04EB2z49CtdTzIDaPh+F6wnb/tk+Urgexbp92T4UrkeZoPzYPuF6FI6+e9g+Ctej8HP61z5I4XokIXrXPsP1KHTp/dY+MzMz246G1j6PwvWIUg/WPo/C9WgVm9U+AAAAWPsm1T7D9ShsVrjUPs3MzKwySdQ+uB6F60fd0z7NzMz8N3bTPuF6FI7ID9M+9ihcf0qp0j4AAAAwn03SPvYoXDdb8tE+4XoU5kGa0T6PwvXYDknRPkjheqxj+9A+H4XrMTuy0D5xPQrXdmvQPilcjxqBJdA+mpmZeRrAzz6amZkp4TrPPrgehSt9wc4+16Nw3bZUzj7D9Shs7ujNPqRwPZpMf80+mpmZOdgizT49Ctdj6MbMPo/C9ThybMw+XI/ChfQXzD5cj8L14cPLPlyPwjXccMs+H4XrkQkfyz6amZn5MM/KPoXrUSgxhMo+H4XrYXg6yj57FK4nX/HJPq5H4QrTqMk+MzMzg2BhyT7D9Sgc+R3JPvYoXE+d28g+FK5Hkd+ZyD7hehSO9VjIPlK4HqWbGcg+KVyPMgXexz5mZmbGUaXHPtejcN38bMc+exSuh6k1xz72KFyfHP/GPvYoXF+MzMY+j8L1GFGcxj64HoVb7mzGPrgehZvePMY+cT0KJ+kPxj5SuB6lgOLFPnsUrrdkt8U+16NwjcOQxT5cj8I1cGvFPtejcN3ZRsU+rkfh6m8gxT72KFyv0fnEPq5H4Xqf1sQ+9ihcf9azxD6kcD36XJHEPq5H4Rq7bMQ+cT0KbwJIxD64HoXzQSTEPtejcKW5AsQ+j8L1YFXiwz5xPQo/JMLDPnE9Co9Eo8M+9ihcH8iBwz72KFwP3l/DPkjheiTZPcM+ZmZmlqwbwz7NzMzkFfnCPuxRuM4v1sI+rkfhGrWywj4K16Ogy47CPsP1KEzzacI+j8L1iJlEwj6amZlhBB7CPnE9Coce98E+PQrXe0bQwT4zMzOTGKnBPrgehauQgcE+H4XrUQtawT5SuB5d7jHBPvYoXA8aCcE+ZmZmlj7gwD49CtdjRrfAPs3MzAz5jcA+PQrXSxFkwD7D9Sh8gznAPqRwPeKQDsA+SOF6tL7Jvz4K16Mwbna/PvYoXA/vIr8+Urge9ZDQvj5SuB617X6+Pj0K17OZLb4+j8L12OvdvT6kcD3qapC9PnsUrvfaQ70+MzMzY/j5vD7D9ShsSbK8PgAAABBCa7w+UrgeNagnvD7Xo3DNA+W7PnE9Cncpp7s+4XoUbuBruz57FK73fjS7PgrXo4AJ+7o+16NwvZjGuj49CtczaJS6Po/C9RhQZbo+exSutz43uj5mZmaG1gy6PpqZmUlT5Lk+exSuB4W8uT5SuB4F6JS5PlyPwlVgcrk+UrgeZZ5QuT7Xo3D9hC65PpqZmUmyDLk+mpmZebHruD49CteTxcu4PuxRuO5drbg+ZmZmBrOPuD4Urkfx23G4PpqZmZl0VLg+AAAAkIM4uD4AAADAfR24PrgehZuFArg+UrgeFZDotz7Xo3CNi8+3PtejcF2Etrc+XI/C9Uietz6kcD0q3Ya3PuxRuP4Db7c+16NwfX5Xtz6kcD06akC3PvYoXC8kKbc+w/Uo3PoRtz7D9SjsE/u2PgrXo0Cl4rY+XI/CBRfKtj5mZmaW0K+2PuF6FP6DlbY+exSuRyh7tj7hehQOJV22PhSuR3HqPrY+CtejUNggtj64HoV7gAO2PqRwPUog5rU+FK5HUcTItT5cj8IVQau1PuF6FD6bjbU+w/UorGZttT5cj8IFDky1PvYoXE92KrU+CtejYIAItT5xPQpnf+m0PvYoXC9aybQ+9ihcz5SrtD6amZlpeo20PuF6FC74brQ+MzMz04BQtD5cj8KlSzG0PpqZmQmsELQ+PQrXc+Hwsz5xPQqfqdCzPsP1KGwDsLM+PQrX6xSOsz6kcD1y/GyzPrgehRMIS7M+w/Uo7Fkosz5mZmZmgASzPrgehXtj4LI+hetRMBm8sj4UrkcxaJeyPjMzMxMVcrI+PQrXkw9Msj6PwvV4/iWyPuF6FP4l/LE+KVyPQhzRsT5xPQov0KWxPq5H4YJWerE+16NwRYhOsT72KFznPSOxPo/C9Yjy97A+KVyPehnNsD5mZmbuOKOwPvYoXIdMebA+AAAASMNPsD64HoXDkSawPo/C9Ugk+68+9ihcP9Ctrz5SuB7FwWGvPj0K1wMyF68+KVyP8kXUrj4zMzNzF5KuPhSuRzGVUa4+AAAAgKQRrj49CtezNdKtPmZmZkYxk60+pHA96tFWrT4AAABwShutPlK4HlXz5Kw+MzMzE9awrD4K16Pw/X2sPh+F60FZTaw+pHA9yvkdrD4zMzMj4vGrPnE9CmeSx6s+XI/C5cidqz4K16NgBXWrPuxRuO79TKs+rkfhKk0mqz72KFyPfQKrPo/C9bg236o+mpmZWVe7qj4K16OQJZiqPuF6FE7vd6o+4XoUDlRXqj5xPQoXNTiqPvYoXH83Gao+j8L1iCL8qT4UrkfR596pPnsUroeHwak+SOF6BAilqT6kcD36qImpPkjherQ/b6k+w/UoPJRVqT6kcD3K2UKpPnE9CvdPMak+cT0Kh8YfqT7sUbieYg6pPuxRuC6j/ag+H4Xrcd7sqD7sUbhuBNyoPvYoXL9ey6g+4XoUjne6qD57FK5Hh6moPq5H4ZoCmKg+hetRyHyGqD6uR+Fa8HSoPq5H4Yq7Yqg+MzMz0/pOqD7sUbg+RDqoPmZmZlZdJag+9ihc7y4QqD49CtczBvqnPvYoXG8Z46c+SOF69OzKpz5mZmYG9bGnPgAAALARmKc+exSut659pz6PwvX42mKnPj0K14OXR6c+SOF6xCgrpz6kcD2q0g2nPtejcN1J7qY+AAAAABvOpj5cj8JVRq2mPs3MzCy6i6Y+AAAAEPBopj4K16Pww0SmPs3MzFxLHqY+mpmZqRH4pT7Xo3C9GNKlPj0K14NWrKU+zczMTMKFpT4fheuhXV+lPuF6FB7vOKU+AAAAUAUSpT6F61G4SuqkPgAAABDVwKQ+exSuN8aXpD5mZmbmb2+kPlK4Hk2tRqQ+16NwXSQcpD7NzMzEhvCjPjMzMzM0xKM+exSu/8KXoz4zMzMjk2ujPmZmZl77P6M+H4Xr8XMToz4fhesxeuaiPgAAAADyt6I+XI/CbYuHoj5mZmZGLVeiPs3MzMx1JqI+16NwNeryoT6amZmB0L+hPhSuRymmjKE+XI/CnX1YoT4pXI+KACShPnsUrteI76A+cT0KRwi7oD6uR+FSVIagPlyPwuW3UaA+9ihc98kaoD6PwvX4CMWfPilcj1JAU58+pHA9WjDhnj7D9Shsg2+ePs3MzHwX/p0+zczMzJiKnT57FK7XIBSdPq5H4arHnZw+UrgeJYAonD7NzMx8W7abPtejcG2zQZs+exSu31PJmj4zMzM7b0+aPgAAACA+15k+FK5HKRthmT72KFxPm+uYPmZmZs6vdZg+AAAAKK/+lz6uR+Gi+YKXPvYoXIdfBZc+4XoUjmiHlj6amZmhDAqWPo/C9RAkjJU+mpmZ+aoQlT4fhetR25iUPuxRuIZoH5Q+uB6F+1Glkz49CtejiSyTPo/C9XgBt5I+zczMdKhDkj5xPQoHltGRPsP1KHCFX5E+j8L1KD/skD4AAADUNniQPvYoXIu6BpA+uB6FW3Usjz4UrkdBtk+OPnE9Co8xfI0+w/UopNepjD49CtdbrtyLPmZmZr50G4s+XI/CBb5bij4pXI/yC56JPq5H4WKK5Yg+PQrX++cuiD5SuB5ddXqHPuxRuKYAx4Y+7FG4ZiIUhj4K16OIlWGFPo/C9Tjmu4Q+Urge5YUdhD4AAADghIWDPjMzMws+74I+7FG4vkRbgj4AAAB4AcmBPsP1KAwMPYE+XI/CPSi4gD6F61HQcjWAPjMzM+PhZ38+rkfhOtVmfj49CtfjEXR9PgAAAIDIlHw+zczM7Ee/ez6PwvWo4et6PsP1KBzYG3o+uB6FK7dceT57FK4Xs6B4Pq5H4Xpg6nc+j8L1yFFOdz7hehR+dMF2PkjhegRrNXY+16Nwza+sdT6F61G4bSt1PpqZmfkXrHQ+XI/C5astdD6amZkpJLhzPs3MzOyGRXM+7FG4XgXVcj4pXI/CRmdyPg==",
          "dtype": "f8"
         }
        }
       ],
       "layout": {
        "height": 600,
        "legend": {
         "orientation": "h",
         "x": 0.5,
         "xanchor": "center",
         "y": 1
        },
        "template": {
         "data": {
          "bar": [
           {
            "error_x": {
             "color": "#2a3f5f"
            },
            "error_y": {
             "color": "#2a3f5f"
            },
            "marker": {
             "line": {
              "color": "white",
              "width": 0.5
             },
             "pattern": {
              "fillmode": "overlay",
              "size": 10,
              "solidity": 0.2
             }
            },
            "type": "bar"
           }
          ],
          "barpolar": [
           {
            "marker": {
             "line": {
              "color": "white",
              "width": 0.5
             },
             "pattern": {
              "fillmode": "overlay",
              "size": 10,
              "solidity": 0.2
             }
            },
            "type": "barpolar"
           }
          ],
          "carpet": [
           {
            "aaxis": {
             "endlinecolor": "#2a3f5f",
             "gridcolor": "#C8D4E3",
             "linecolor": "#C8D4E3",
             "minorgridcolor": "#C8D4E3",
             "startlinecolor": "#2a3f5f"
            },
            "baxis": {
             "endlinecolor": "#2a3f5f",
             "gridcolor": "#C8D4E3",
             "linecolor": "#C8D4E3",
             "minorgridcolor": "#C8D4E3",
             "startlinecolor": "#2a3f5f"
            },
            "type": "carpet"
           }
          ],
          "choropleth": [
           {
            "colorbar": {
             "outlinewidth": 0,
             "ticks": ""
            },
            "type": "choropleth"
           }
          ],
          "contour": [
           {
            "colorbar": {
             "outlinewidth": 0,
             "ticks": ""
            },
            "colorscale": [
             [
              0,
              "#0d0887"
             ],
             [
              0.1111111111111111,
              "#46039f"
             ],
             [
              0.2222222222222222,
              "#7201a8"
             ],
             [
              0.3333333333333333,
              "#9c179e"
             ],
             [
              0.4444444444444444,
              "#bd3786"
             ],
             [
              0.5555555555555556,
              "#d8576b"
             ],
             [
              0.6666666666666666,
              "#ed7953"
             ],
             [
              0.7777777777777778,
              "#fb9f3a"
             ],
             [
              0.8888888888888888,
              "#fdca26"
             ],
             [
              1,
              "#f0f921"
             ]
            ],
            "type": "contour"
           }
          ],
          "contourcarpet": [
           {
            "colorbar": {
             "outlinewidth": 0,
             "ticks": ""
            },
            "type": "contourcarpet"
           }
          ],
          "heatmap": [
           {
            "colorbar": {
             "outlinewidth": 0,
             "ticks": ""
            },
            "colorscale": [
             [
              0,
              "#0d0887"
             ],
             [
              0.1111111111111111,
              "#46039f"
             ],
             [
              0.2222222222222222,
              "#7201a8"
             ],
             [
              0.3333333333333333,
              "#9c179e"
             ],
             [
              0.4444444444444444,
              "#bd3786"
             ],
             [
              0.5555555555555556,
              "#d8576b"
             ],
             [
              0.6666666666666666,
              "#ed7953"
             ],
             [
              0.7777777777777778,
              "#fb9f3a"
             ],
             [
              0.8888888888888888,
              "#fdca26"
             ],
             [
              1,
              "#f0f921"
             ]
            ],
            "type": "heatmap"
           }
          ],
          "histogram": [
           {
            "marker": {
             "pattern": {
              "fillmode": "overlay",
              "size": 10,
              "solidity": 0.2
             }
            },
            "type": "histogram"
           }
          ],
          "histogram2d": [
           {
            "colorbar": {
             "outlinewidth": 0,
             "ticks": ""
            },
            "colorscale": [
             [
              0,
              "#0d0887"
             ],
             [
              0.1111111111111111,
              "#46039f"
             ],
             [
              0.2222222222222222,
              "#7201a8"
             ],
             [
              0.3333333333333333,
              "#9c179e"
             ],
             [
              0.4444444444444444,
              "#bd3786"
             ],
             [
              0.5555555555555556,
              "#d8576b"
             ],
             [
              0.6666666666666666,
              "#ed7953"
             ],
             [
              0.7777777777777778,
              "#fb9f3a"
             ],
             [
              0.8888888888888888,
              "#fdca26"
             ],
             [
              1,
              "#f0f921"
             ]
            ],
            "type": "histogram2d"
           }
          ],
          "histogram2dcontour": [
           {
            "colorbar": {
             "outlinewidth": 0,
             "ticks": ""
            },
            "colorscale": [
             [
              0,
              "#0d0887"
             ],
             [
              0.1111111111111111,
              "#46039f"
             ],
             [
              0.2222222222222222,
              "#7201a8"
             ],
             [
              0.3333333333333333,
              "#9c179e"
             ],
             [
              0.4444444444444444,
              "#bd3786"
             ],
             [
              0.5555555555555556,
              "#d8576b"
             ],
             [
              0.6666666666666666,
              "#ed7953"
             ],
             [
              0.7777777777777778,
              "#fb9f3a"
             ],
             [
              0.8888888888888888,
              "#fdca26"
             ],
             [
              1,
              "#f0f921"
             ]
            ],
            "type": "histogram2dcontour"
           }
          ],
          "mesh3d": [
           {
            "colorbar": {
             "outlinewidth": 0,
             "ticks": ""
            },
            "type": "mesh3d"
           }
          ],
          "parcoords": [
           {
            "line": {
             "colorbar": {
              "outlinewidth": 0,
              "ticks": ""
             }
            },
            "type": "parcoords"
           }
          ],
          "pie": [
           {
            "automargin": true,
            "type": "pie"
           }
          ],
          "scatter": [
           {
            "fillpattern": {
             "fillmode": "overlay",
             "size": 10,
             "solidity": 0.2
            },
            "type": "scatter"
           }
          ],
          "scatter3d": [
           {
            "line": {
             "colorbar": {
              "outlinewidth": 0,
              "ticks": ""
             }
            },
            "marker": {
             "colorbar": {
              "outlinewidth": 0,
              "ticks": ""
             }
            },
            "type": "scatter3d"
           }
          ],
          "scattercarpet": [
           {
            "marker": {
             "colorbar": {
              "outlinewidth": 0,
              "ticks": ""
             }
            },
            "type": "scattercarpet"
           }
          ],
          "scattergeo": [
           {
            "marker": {
             "colorbar": {
              "outlinewidth": 0,
              "ticks": ""
             }
            },
            "type": "scattergeo"
           }
          ],
          "scattergl": [
           {
            "marker": {
             "colorbar": {
              "outlinewidth": 0,
              "ticks": ""
             }
            },
            "type": "scattergl"
           }
          ],
          "scattermap": [
           {
            "marker": {
             "colorbar": {
              "outlinewidth": 0,
              "ticks": ""
             }
            },
            "type": "scattermap"
           }
          ],
          "scattermapbox": [
           {
            "marker": {
             "colorbar": {
              "outlinewidth": 0,
              "ticks": ""
             }
            },
            "type": "scattermapbox"
           }
          ],
          "scatterpolar": [
           {
            "marker": {
             "colorbar": {
              "outlinewidth": 0,
              "ticks": ""
             }
            },
            "type": "scatterpolar"
           }
          ],
          "scatterpolargl": [
           {
            "marker": {
             "colorbar": {
              "outlinewidth": 0,
              "ticks": ""
             }
            },
            "type": "scatterpolargl"
           }
          ],
          "scatterternary": [
           {
            "marker": {
             "colorbar": {
              "outlinewidth": 0,
              "ticks": ""
             }
            },
            "type": "scatterternary"
           }
          ],
          "surface": [
           {
            "colorbar": {
             "outlinewidth": 0,
             "ticks": ""
            },
            "colorscale": [
             [
              0,
              "#0d0887"
             ],
             [
              0.1111111111111111,
              "#46039f"
             ],
             [
              0.2222222222222222,
              "#7201a8"
             ],
             [
              0.3333333333333333,
              "#9c179e"
             ],
             [
              0.4444444444444444,
              "#bd3786"
             ],
             [
              0.5555555555555556,
              "#d8576b"
             ],
             [
              0.6666666666666666,
              "#ed7953"
             ],
             [
              0.7777777777777778,
              "#fb9f3a"
             ],
             [
              0.8888888888888888,
              "#fdca26"
             ],
             [
              1,
              "#f0f921"
             ]
            ],
            "type": "surface"
           }
          ],
          "table": [
           {
            "cells": {
             "fill": {
              "color": "#EBF0F8"
             },
             "line": {
              "color": "white"
             }
            },
            "header": {
             "fill": {
              "color": "#C8D4E3"
             },
             "line": {
              "color": "white"
             }
            },
            "type": "table"
           }
          ]
         },
         "layout": {
          "annotationdefaults": {
           "arrowcolor": "#2a3f5f",
           "arrowhead": 0,
           "arrowwidth": 1
          },
          "autotypenumbers": "strict",
          "coloraxis": {
           "colorbar": {
            "outlinewidth": 0,
            "ticks": ""
           }
          },
          "colorscale": {
           "diverging": [
            [
             0,
             "#8e0152"
            ],
            [
             0.1,
             "#c51b7d"
            ],
            [
             0.2,
             "#de77ae"
            ],
            [
             0.3,
             "#f1b6da"
            ],
            [
             0.4,
             "#fde0ef"
            ],
            [
             0.5,
             "#f7f7f7"
            ],
            [
             0.6,
             "#e6f5d0"
            ],
            [
             0.7,
             "#b8e186"
            ],
            [
             0.8,
             "#7fbc41"
            ],
            [
             0.9,
             "#4d9221"
            ],
            [
             1,
             "#276419"
            ]
           ],
           "sequential": [
            [
             0,
             "#0d0887"
            ],
            [
             0.1111111111111111,
             "#46039f"
            ],
            [
             0.2222222222222222,
             "#7201a8"
            ],
            [
             0.3333333333333333,
             "#9c179e"
            ],
            [
             0.4444444444444444,
             "#bd3786"
            ],
            [
             0.5555555555555556,
             "#d8576b"
            ],
            [
             0.6666666666666666,
             "#ed7953"
            ],
            [
             0.7777777777777778,
             "#fb9f3a"
            ],
            [
             0.8888888888888888,
             "#fdca26"
            ],
            [
             1,
             "#f0f921"
            ]
           ],
           "sequentialminus": [
            [
             0,
             "#0d0887"
            ],
            [
             0.1111111111111111,
             "#46039f"
            ],
            [
             0.2222222222222222,
             "#7201a8"
            ],
            [
             0.3333333333333333,
             "#9c179e"
            ],
            [
             0.4444444444444444,
             "#bd3786"
            ],
            [
             0.5555555555555556,
             "#d8576b"
            ],
            [
             0.6666666666666666,
             "#ed7953"
            ],
            [
             0.7777777777777778,
             "#fb9f3a"
            ],
            [
             0.8888888888888888,
             "#fdca26"
            ],
            [
             1,
             "#f0f921"
            ]
           ]
          },
          "colorway": [
           "#636efa",
           "#EF553B",
           "#00cc96",
           "#ab63fa",
           "#FFA15A",
           "#19d3f3",
           "#FF6692",
           "#B6E880",
           "#FF97FF",
           "#FECB52"
          ],
          "font": {
           "color": "#2a3f5f"
          },
          "geo": {
           "bgcolor": "white",
           "lakecolor": "white",
           "landcolor": "white",
           "showlakes": true,
           "showland": true,
           "subunitcolor": "#C8D4E3"
          },
          "hoverlabel": {
           "align": "left"
          },
          "hovermode": "closest",
          "mapbox": {
           "style": "light"
          },
          "paper_bgcolor": "white",
          "plot_bgcolor": "white",
          "polar": {
           "angularaxis": {
            "gridcolor": "#EBF0F8",
            "linecolor": "#EBF0F8",
            "ticks": ""
           },
           "bgcolor": "white",
           "radialaxis": {
            "gridcolor": "#EBF0F8",
            "linecolor": "#EBF0F8",
            "ticks": ""
           }
          },
          "scene": {
           "xaxis": {
            "backgroundcolor": "white",
            "gridcolor": "#DFE8F3",
            "gridwidth": 2,
            "linecolor": "#EBF0F8",
            "showbackground": true,
            "ticks": "",
            "zerolinecolor": "#EBF0F8"
           },
           "yaxis": {
            "backgroundcolor": "white",
            "gridcolor": "#DFE8F3",
            "gridwidth": 2,
            "linecolor": "#EBF0F8",
            "showbackground": true,
            "ticks": "",
            "zerolinecolor": "#EBF0F8"
           },
           "zaxis": {
            "backgroundcolor": "white",
            "gridcolor": "#DFE8F3",
            "gridwidth": 2,
            "linecolor": "#EBF0F8",
            "showbackground": true,
            "ticks": "",
            "zerolinecolor": "#EBF0F8"
           }
          },
          "shapedefaults": {
           "line": {
            "color": "#2a3f5f"
           }
          },
          "ternary": {
           "aaxis": {
            "gridcolor": "#DFE8F3",
            "linecolor": "#A2B1C6",
            "ticks": ""
           },
           "baxis": {
            "gridcolor": "#DFE8F3",
            "linecolor": "#A2B1C6",
            "ticks": ""
           },
           "bgcolor": "white",
           "caxis": {
            "gridcolor": "#DFE8F3",
            "linecolor": "#A2B1C6",
            "ticks": ""
           }
          },
          "title": {
           "x": 0.05
          },
          "xaxis": {
           "automargin": true,
           "gridcolor": "#EBF0F8",
           "linecolor": "#EBF0F8",
           "ticks": "",
           "title": {
            "standoff": 15
           },
           "zerolinecolor": "#EBF0F8",
           "zerolinewidth": 2
          },
          "yaxis": {
           "automargin": true,
           "gridcolor": "#EBF0F8",
           "linecolor": "#EBF0F8",
           "ticks": "",
           "title": {
            "standoff": 15
           },
           "zerolinecolor": "#EBF0F8",
           "zerolinewidth": 2
          }
         }
        },
        "title": {
         "text": "Loss History"
        },
        "width": 800,
        "xaxis": {
         "title": {
          "text": "Epoch"
         }
        },
        "yaxis": {
         "exponentformat": "power",
         "showexponent": "all",
         "title": {
          "text": "Loss"
         },
         "type": "log"
        }
       }
      }
     },
     "metadata": {},
     "output_type": "display_data"
    },
    {
     "name": "stdout",
     "output_type": "stream",
     "text": [
      "L2 Error:  0.009018164\n"
     ]
    }
   ],
   "source": [
    "with_vanilla = trainer.closure.get_state()\n",
    "plot_loss(with_vanilla, smooth=True, smooth_window=50)\n",
    "\n",
    "vanilla_l2 = compare_with_mc(model, params, n_prices=200,\n",
    "                             n_simulations=50_000, dtype=dtype, device=device, seed=42)['l2_rel_error']\n",
    "print(\"L2 Error: \", vanilla_l2*100)"
   ]
  },
  {
   "cell_type": "markdown",
   "id": "a02b9ad8",
   "metadata": {},
   "source": [
    "## With SPINN"
   ]
  },
  {
   "cell_type": "code",
   "execution_count": 66,
   "id": "1698ce60",
   "metadata": {},
   "outputs": [],
   "source": [
    "# model = SPINN(n_layers=2, input_dim=assets+1, hidden_dim=20,\n",
    "# output_dim=20, dtype=dtype).apply(weights_init).to(device)\n",
    "\n",
    "# dataset = SampledDataset(\n",
    "#     params, adam_interior_samples, adam_initial_samples, adam_boundary_samples, sampler, dtype, device, seed=0)\n",
    "\n",
    "# optimizer = torch.optim.Adam(model.parameters(), lr=1e-2)\n",
    "# preconditioner = kfac.preconditioner.KFACPreconditioner(model)\n",
    "\n",
    "# closure = DimlessBS()\\\n",
    "#     .with_dataset(dataset, loader_opts={'batch_size': adam_batch_size, \"shuffle\": True, \"pin_memory\": True})\\\n",
    "#     .with_model(model)\\\n",
    "#     .with_device(device)\\\n",
    "#     .with_dtype(dtype)\n",
    "\n",
    "# trainer = PINNTrainer()\\\n",
    "#     .with_optimizer(optimizer)\\\n",
    "#     .with_device(device)\\\n",
    "#     .with_dtype(dtype)\\\n",
    "#     .with_training_step(closure)\\\n",
    "#     .with_preconditioner(preconditioner)\\\n",
    "#     .with_epochs(adam_total_iter)\\\n",
    "\n",
    "# # first training stage\n",
    "# trainer.train()\n",
    "\n",
    "# # we create new samples for the second stage\n",
    "# dataset = SampledDataset(\n",
    "#     params, lbfgs_interior_samples, lbfgs_initial_samples, lbfgs_boundary_samples, sampler, dtype, device, seed=0)\n",
    "\n",
    "# optimizer = SSBroyden(\n",
    "#     model.parameters(),\n",
    "#     max_iter=2_000,\n",
    "#     initial_scale=True,\n",
    "# )\n",
    "\n",
    "# batch_size = len(dataset)  # we use all samples\n",
    "\n",
    "# closure = closure.with_dataset(\n",
    "#     dataset, loader_opts={'batch_size': batch_size, \"shuffle\": False, \"pin_memory\": True})\n",
    "\n",
    "# trainer = trainer.with_optimizer(optimizer).with_training_step(closure)\n",
    "\n",
    "# # second training stage\n",
    "# trainer.train()\n",
    "\n",
    "# # we save the model\n",
    "# torch.save(model.state_dict(), \"spinn.pth\")\n",
    "# spinn = model"
   ]
  },
  {
   "cell_type": "code",
   "execution_count": 67,
   "id": "390f1c6d",
   "metadata": {},
   "outputs": [],
   "source": [
    "# with_spinn = trainer.closure.get_state()\n",
    "# plot_loss(with_spinn, smooth=True, smooth_window=50)\n",
    "\n",
    "# spinn_l2 = compare_with_mc(model, params, n_prices=200,\n",
    "#                            n_simulations=50_000, dtype=dtype, device=device, seed=42)['l2_rel_error']\n",
    "# print(\"L2 Error: \", spinn_l2*100)"
   ]
  },
  {
   "cell_type": "markdown",
   "id": "9b9a0f69",
   "metadata": {},
   "source": [
    "## With NN+Ansatz"
   ]
  },
  {
   "cell_type": "code",
   "execution_count": 68,
   "id": "1cea1895",
   "metadata": {},
   "outputs": [
    {
     "name": "stderr",
     "output_type": "stream",
     "text": [
      "Adam training:   0%|          | 0/200 [00:00<?, ?it/s]"
     ]
    },
    {
     "name": "stderr",
     "output_type": "stream",
     "text": [
      "Adam training: 100%|██████████| 200/200 [00:45<00:00,  4.35it/s, Interior=0.000193, Boundary=0.000011, Initial=0.000000, Total=0.000204, Max Error=0.4182419777, L2 Error=0.0127969254]\n",
      "SSBroyden training:   5%|▍         | 91/2000 [00:39<13:53,  2.29it/s, Interior=0.000005, Boundary=0.000000, Initial=0.000000, Total=0.000005, Max Error=0.053156, L2 Error=0.001187]\n"
     ]
    }
   ],
   "source": [
    "model = NNWithAnsatz(n_layers=2, input_dim=assets+1, hidden_dim=64,\n",
    "                 output_dim=1, dtype=dtype).apply(weights_init).to(device)\n",
    "\n",
    "dataset = SampledDataset(\n",
    "    params, adam_interior_samples, adam_initial_samples, adam_boundary_samples, sampler, dtype, device, seed=0)\n",
    "\n",
    "optimizer = torch.optim.Adam(model.parameters(), lr=1e-2)\n",
    "preconditioner = kfac.preconditioner.KFACPreconditioner(model)\n",
    "\n",
    "closure = DimlessBS()\\\n",
    "    .with_dataset(dataset, loader_opts={'batch_size': adam_batch_size, \"shuffle\": True, \"pin_memory\": True})\\\n",
    "    .with_model(model)\\\n",
    "    .with_device(device)\\\n",
    "    .with_dtype(dtype)\n",
    "\n",
    "trainer = PINNTrainer()\\\n",
    "    .with_optimizer(optimizer)\\\n",
    "    .with_device(device)\\\n",
    "    .with_dtype(dtype)\\\n",
    "    .with_training_step(closure)\\\n",
    "    .with_preconditioner(preconditioner)\\\n",
    "    .with_epochs(adam_total_iter)\\\n",
    "\n",
    "# first training stage\n",
    "trainer.train()\n",
    "\n",
    "# we create new samples for the second stage\n",
    "dataset = SampledDataset(\n",
    "    params, lbfgs_interior_samples, lbfgs_initial_samples, lbfgs_boundary_samples, sampler, dtype, device, seed=0)\n",
    "\n",
    "optimizer = SSBroyden(\n",
    "    model.parameters(),\n",
    "    max_iter=2_000,\n",
    ")\n",
    "\n",
    "closure = DimlessBS()\\\n",
    "    .with_dataset(dataset, loader_opts={'batch_size': adam_batch_size, \"shuffle\": True, \"pin_memory\": True})\\\n",
    "    .with_model(model)\\\n",
    "    .with_device(device)\\\n",
    "    .with_dtype(dtype)\n",
    "\n",
    "batch_size = len(dataset)  # we use all samples\n",
    "\n",
    "closure = closure.with_dataset(\n",
    "    dataset, loader_opts={'batch_size': batch_size, \"shuffle\": False, \"pin_memory\": True})\n",
    "\n",
    "trainer = trainer.with_optimizer(optimizer).with_training_step(closure)\n",
    "\n",
    "# second training stage\n",
    "trainer.train()\n",
    "\n",
    "# save model\n",
    "torch.save(model.state_dict(), \"ansatz_ffnn.pth\")\n",
    "ansatz_ffnn = model"
   ]
  },
  {
   "cell_type": "code",
   "execution_count": 69,
   "id": "6491f14d",
   "metadata": {},
   "outputs": [
    {
     "data": {
      "application/vnd.plotly.v1+json": {
       "config": {
        "plotlyServerURL": "https://plot.ly"
       },
       "data": [
        {
         "line": {
          "color": "#08306B"
         },
         "mode": "lines",
         "name": "PDE Loss",
         "type": "scatter",
         "x": {
          "bdata": "AAECAwQFBgcICQoLDA0ODxAREhMUFRYXGBkaGxwdHh8gISIjJCUmJygpKissLS4vMDEyMzQ1Njc4OTo7PD0+P0BBQkNERUZHSElKS0xNTk9QUVJTVFVWV1hZWls=",
          "dtype": "i1"
         },
         "y": {
          "bdata": "4XoU0oyMGT/hehTSjIwZP+F6FNKMjBk/4XoU0oyMGT/hehTSjIwZP+F6FNKMjBk/4XoU0oyMGT/hehTSjIwZP+F6FNKMjBk/4XoU0oyMGT/hehTSjIwZP+F6FNKMjBk/4XoU0oyMGT/hehTSjIwZP+F6FNKMjBk/4XoU0oyMGT/hehTSjIwZP+F6FNKMjBk/4XoU0oyMGT/hehTSjIwZP+F6FNKMjBk/4XoU0oyMGT/hehTSjIwZP+F6FNKMjBk/4XoU0oyMGT/hehTSjIwZP+F6FNKMjBk/4XoU0oyMGT/hehTSjIwZP+F6FNKMjBk/4XoU0oyMGT/hehTSjIwZP+F6FNKMjBk/4XoU0oyMGT/hehTSjIwZP+F6FNKMjBk/4XoU0oyMGT/hehTSjIwZP+F6FNKMjBk/4XoU0oyMGT/hehTSjIwZP+F6FNKMjBk/4XoU0oyMGT/hehTSjIwZP+F6FNKMjBk/4XoU0oyMGT/hehTSjIwZP+F6FNKMjBk/4XoU0oyMGT/hehTSjIwZP7gehYfClBg/rkfhkDygFz8zMzNTBKgWPwAAALKrqhU/16NwO7CsFD+uR+GgErATP65H4UqwsxI/SOF6dCvAET9SuB61VM0QPylcj3YIxQ8/pHA9usAKDj+PwvUUh0wMP7gehSeojwo/j8L1yGrfCD8K16OoSUoHP2ZmZk40xwU/rkfh4gZgBD/Xo3DBhAwDPz0K1/teGAI/4XoUvkA8AT/NzMx84loAP/YoXE8pGv8+cT0KB6iF/T49CtcTzO37PhSuR43qb/o+uB6F//Pu+D5I4XpExoT3PuF6FP7hL/Y+PQrX8yfh9D4pXI/WDarzPsP1KDymj/I+XI/C9X+Q8T4AAADcUtDwPnsUrkfSB/A+hetRGKV87j4K16PISQntPh+F61GAmus+UrgeBX426j57FK5XbujoPh+F69Fvyuc+j8L16CfN5j4pXI+CLNXlPg==",
          "dtype": "f8"
         }
        },
        {
         "line": {
          "color": "#3182BD"
         },
         "mode": "lines",
         "name": "Boundary Loss",
         "type": "scatter",
         "x": {
          "bdata": "AAECAwQFBgcICQoLDA0ODxAREhMUFRYXGBkaGxwdHh8gISIjJCUmJygpKissLS4vMDEyMzQ1Njc4OTo7PD0+P0BBQkNERUZHSElKS0xNTk9QUVJTVFVWV1hZWls=",
          "dtype": "i1"
         },
         "y": {
          "bdata": "UrjeC3Rx1T5SuN4LdHHVPlK43gt0cdU+UrjeC3Rx1T5SuN4LdHHVPlK43gt0cdU+UrjeC3Rx1T5SuN4LdHHVPlK43gt0cdU+UrjeC3Rx1T5SuN4LdHHVPlK43gt0cdU+UrjeC3Rx1T5SuN4LdHHVPlK43gt0cdU+UrjeC3Rx1T5SuN4LdHHVPlK43gt0cdU+UrjeC3Rx1T5SuN4LdHHVPlK43gt0cdU+UrjeC3Rx1T5SuN4LdHHVPlK43gt0cdU+UrjeC3Rx1T5SuN4LdHHVPlK43gt0cdU+UrjeC3Rx1T5SuN4LdHHVPlK43gt0cdU+UrjeC3Rx1T5SuN4LdHHVPlK43gt0cdU+UrjeC3Rx1T5SuN4LdHHVPlK43gt0cdU+UrjeC3Rx1T5SuN4LdHHVPlK43gt0cdU+UrjeC3Rx1T5SuN4LdHHVPlK43gt0cdU+UrjeC3Rx1T5SuN4LdHHVPlK43gt0cdU+UrjeC3Rx1T5SuN4LdHHVPlK43gt0cdU+UrjeC3Rx1T5SuN4LdHHVPgrXY7ASMtQ+CtdjoLUD0z4pXE9UnwLSPkjhOthPX9E+CtcjD7+30D4UrsdjgwzQPsP1KGoOdM8+AAAAa9IFzj4Urkem2bzMPmZm5rHl2Mo+4XqUgSdLyT64HgUYzHXIPuxRONV70sc+PQpXVYH0xj4zM7NsKVDFPpqZGTWnKcM+ZmbmbUFRwD5I4XrTq4W6PjMzM+0UL7c+pHCd0+jbsz5cj6LFFhWyPqRwfdyz9q4+7FH4gOTvqj5mZqbuBVqqPh+F6+OtSak+ZmZmuNEkqT6PwvVqe+qnPoXrUV6wjKY+zczM+oR+pT7sUbiAiXSkPj0K1wMn16M+FK5HiZueoz4K16NoZDqfPrgehQuIWpo+uB6Fa38TmT7sUbg8domWPvYoXIMhHpU+w/UoXoKLlD4UrkcjrvaSPh+F6/e6u5E+MzMzj1Z5jz4AAADATxeLPg==",
          "dtype": "f8"
         }
        },
        {
         "line": {
          "color": "#9ECAE1"
         },
         "mode": "lines",
         "name": "Initial Loss",
         "type": "scatter",
         "x": {
          "bdata": "AAECAwQFBgcICQoLDA0ODxAREhMUFRYXGBkaGxwdHh8gISIjJCUmJygpKissLS4vMDEyMzQ1Njc4OTo7PD0+P0BBQkNERUZHSElKS0xNTk9QUVJTVFVWV1hZWls=",
          "dtype": "i1"
         },
         "y": {
          "bdata": "AAAAgOMKDT0AAACA4woNPQAAAIDjCg09AAAAgOMKDT0AAACA4woNPQAAAIDjCg09AAAAgOMKDT0AAACA4woNPQAAAIDjCg09AAAAgOMKDT0AAACA4woNPQAAAIDjCg09AAAAgOMKDT0AAACA4woNPQAAAIDjCg09AAAAgOMKDT0AAACA4woNPQAAAIDjCg09AAAAgOMKDT0AAACA4woNPQAAAIDjCg09AAAAgOMKDT0AAACA4woNPQAAAIDjCg09AAAAgOMKDT0AAACA4woNPQAAAIDjCg09AAAAgOMKDT0AAACA4woNPQAAAIDjCg09AAAAgOMKDT0AAACA4woNPQAAAIDjCg09AAAAgOMKDT0AAACA4woNPQAAAIDjCg09AAAAgOMKDT0AAACA4woNPQAAAIDjCg09AAAAgOMKDT0AAACA4woNPQAAAIDjCg09AAAAgOMKDT0AAACA4woNPQAAAIDjCg09AAAAgOMKDT0AAACA4woNPQAAAIDjCg09AAAAgOMKDT0AAACA4woNPQAAAIDjCg09AAAAgOMKDT0AAACA4woNPQAAAIDjCg09AAAAgOMKDT0AAACA4woNPQAAAIDjCg09AAAAgOMKDT0AAACA4woNPQAAAIDjCg09AAAAgOMKDT0AAACA4woNPQAAAIDjCg09AAAAgOMKDT0AAACA4woNPQAAAIDjCg09AAAAgOMKDT0AAACA4woNPQAAAIDjCg09AAAAgOMKDT0AAACA4woNPQAAAIDjCg09AAAAgOMKDT0AAACA4woNPQAAAIDjCg09AAAAgOMKDT0AAACA4woNPQAAAIDjCg09AAAAgOMKDT0AAACA4woNPQAAAIDjCg09AAAAgOMKDT0AAACA4woNPQAAAIDjCg09AAAAgOMKDT0AAACA4woNPQAAAIDjCg09AAAAgOMKDT0AAACA4woNPQAAAIDjCg09AAAAgOMKDT0AAACA4woNPQ==",
          "dtype": "f8"
         }
        }
       ],
       "layout": {
        "height": 600,
        "legend": {
         "orientation": "h",
         "x": 0.5,
         "xanchor": "center",
         "y": 1
        },
        "template": {
         "data": {
          "bar": [
           {
            "error_x": {
             "color": "#2a3f5f"
            },
            "error_y": {
             "color": "#2a3f5f"
            },
            "marker": {
             "line": {
              "color": "white",
              "width": 0.5
             },
             "pattern": {
              "fillmode": "overlay",
              "size": 10,
              "solidity": 0.2
             }
            },
            "type": "bar"
           }
          ],
          "barpolar": [
           {
            "marker": {
             "line": {
              "color": "white",
              "width": 0.5
             },
             "pattern": {
              "fillmode": "overlay",
              "size": 10,
              "solidity": 0.2
             }
            },
            "type": "barpolar"
           }
          ],
          "carpet": [
           {
            "aaxis": {
             "endlinecolor": "#2a3f5f",
             "gridcolor": "#C8D4E3",
             "linecolor": "#C8D4E3",
             "minorgridcolor": "#C8D4E3",
             "startlinecolor": "#2a3f5f"
            },
            "baxis": {
             "endlinecolor": "#2a3f5f",
             "gridcolor": "#C8D4E3",
             "linecolor": "#C8D4E3",
             "minorgridcolor": "#C8D4E3",
             "startlinecolor": "#2a3f5f"
            },
            "type": "carpet"
           }
          ],
          "choropleth": [
           {
            "colorbar": {
             "outlinewidth": 0,
             "ticks": ""
            },
            "type": "choropleth"
           }
          ],
          "contour": [
           {
            "colorbar": {
             "outlinewidth": 0,
             "ticks": ""
            },
            "colorscale": [
             [
              0,
              "#0d0887"
             ],
             [
              0.1111111111111111,
              "#46039f"
             ],
             [
              0.2222222222222222,
              "#7201a8"
             ],
             [
              0.3333333333333333,
              "#9c179e"
             ],
             [
              0.4444444444444444,
              "#bd3786"
             ],
             [
              0.5555555555555556,
              "#d8576b"
             ],
             [
              0.6666666666666666,
              "#ed7953"
             ],
             [
              0.7777777777777778,
              "#fb9f3a"
             ],
             [
              0.8888888888888888,
              "#fdca26"
             ],
             [
              1,
              "#f0f921"
             ]
            ],
            "type": "contour"
           }
          ],
          "contourcarpet": [
           {
            "colorbar": {
             "outlinewidth": 0,
             "ticks": ""
            },
            "type": "contourcarpet"
           }
          ],
          "heatmap": [
           {
            "colorbar": {
             "outlinewidth": 0,
             "ticks": ""
            },
            "colorscale": [
             [
              0,
              "#0d0887"
             ],
             [
              0.1111111111111111,
              "#46039f"
             ],
             [
              0.2222222222222222,
              "#7201a8"
             ],
             [
              0.3333333333333333,
              "#9c179e"
             ],
             [
              0.4444444444444444,
              "#bd3786"
             ],
             [
              0.5555555555555556,
              "#d8576b"
             ],
             [
              0.6666666666666666,
              "#ed7953"
             ],
             [
              0.7777777777777778,
              "#fb9f3a"
             ],
             [
              0.8888888888888888,
              "#fdca26"
             ],
             [
              1,
              "#f0f921"
             ]
            ],
            "type": "heatmap"
           }
          ],
          "histogram": [
           {
            "marker": {
             "pattern": {
              "fillmode": "overlay",
              "size": 10,
              "solidity": 0.2
             }
            },
            "type": "histogram"
           }
          ],
          "histogram2d": [
           {
            "colorbar": {
             "outlinewidth": 0,
             "ticks": ""
            },
            "colorscale": [
             [
              0,
              "#0d0887"
             ],
             [
              0.1111111111111111,
              "#46039f"
             ],
             [
              0.2222222222222222,
              "#7201a8"
             ],
             [
              0.3333333333333333,
              "#9c179e"
             ],
             [
              0.4444444444444444,
              "#bd3786"
             ],
             [
              0.5555555555555556,
              "#d8576b"
             ],
             [
              0.6666666666666666,
              "#ed7953"
             ],
             [
              0.7777777777777778,
              "#fb9f3a"
             ],
             [
              0.8888888888888888,
              "#fdca26"
             ],
             [
              1,
              "#f0f921"
             ]
            ],
            "type": "histogram2d"
           }
          ],
          "histogram2dcontour": [
           {
            "colorbar": {
             "outlinewidth": 0,
             "ticks": ""
            },
            "colorscale": [
             [
              0,
              "#0d0887"
             ],
             [
              0.1111111111111111,
              "#46039f"
             ],
             [
              0.2222222222222222,
              "#7201a8"
             ],
             [
              0.3333333333333333,
              "#9c179e"
             ],
             [
              0.4444444444444444,
              "#bd3786"
             ],
             [
              0.5555555555555556,
              "#d8576b"
             ],
             [
              0.6666666666666666,
              "#ed7953"
             ],
             [
              0.7777777777777778,
              "#fb9f3a"
             ],
             [
              0.8888888888888888,
              "#fdca26"
             ],
             [
              1,
              "#f0f921"
             ]
            ],
            "type": "histogram2dcontour"
           }
          ],
          "mesh3d": [
           {
            "colorbar": {
             "outlinewidth": 0,
             "ticks": ""
            },
            "type": "mesh3d"
           }
          ],
          "parcoords": [
           {
            "line": {
             "colorbar": {
              "outlinewidth": 0,
              "ticks": ""
             }
            },
            "type": "parcoords"
           }
          ],
          "pie": [
           {
            "automargin": true,
            "type": "pie"
           }
          ],
          "scatter": [
           {
            "fillpattern": {
             "fillmode": "overlay",
             "size": 10,
             "solidity": 0.2
            },
            "type": "scatter"
           }
          ],
          "scatter3d": [
           {
            "line": {
             "colorbar": {
              "outlinewidth": 0,
              "ticks": ""
             }
            },
            "marker": {
             "colorbar": {
              "outlinewidth": 0,
              "ticks": ""
             }
            },
            "type": "scatter3d"
           }
          ],
          "scattercarpet": [
           {
            "marker": {
             "colorbar": {
              "outlinewidth": 0,
              "ticks": ""
             }
            },
            "type": "scattercarpet"
           }
          ],
          "scattergeo": [
           {
            "marker": {
             "colorbar": {
              "outlinewidth": 0,
              "ticks": ""
             }
            },
            "type": "scattergeo"
           }
          ],
          "scattergl": [
           {
            "marker": {
             "colorbar": {
              "outlinewidth": 0,
              "ticks": ""
             }
            },
            "type": "scattergl"
           }
          ],
          "scattermap": [
           {
            "marker": {
             "colorbar": {
              "outlinewidth": 0,
              "ticks": ""
             }
            },
            "type": "scattermap"
           }
          ],
          "scattermapbox": [
           {
            "marker": {
             "colorbar": {
              "outlinewidth": 0,
              "ticks": ""
             }
            },
            "type": "scattermapbox"
           }
          ],
          "scatterpolar": [
           {
            "marker": {
             "colorbar": {
              "outlinewidth": 0,
              "ticks": ""
             }
            },
            "type": "scatterpolar"
           }
          ],
          "scatterpolargl": [
           {
            "marker": {
             "colorbar": {
              "outlinewidth": 0,
              "ticks": ""
             }
            },
            "type": "scatterpolargl"
           }
          ],
          "scatterternary": [
           {
            "marker": {
             "colorbar": {
              "outlinewidth": 0,
              "ticks": ""
             }
            },
            "type": "scatterternary"
           }
          ],
          "surface": [
           {
            "colorbar": {
             "outlinewidth": 0,
             "ticks": ""
            },
            "colorscale": [
             [
              0,
              "#0d0887"
             ],
             [
              0.1111111111111111,
              "#46039f"
             ],
             [
              0.2222222222222222,
              "#7201a8"
             ],
             [
              0.3333333333333333,
              "#9c179e"
             ],
             [
              0.4444444444444444,
              "#bd3786"
             ],
             [
              0.5555555555555556,
              "#d8576b"
             ],
             [
              0.6666666666666666,
              "#ed7953"
             ],
             [
              0.7777777777777778,
              "#fb9f3a"
             ],
             [
              0.8888888888888888,
              "#fdca26"
             ],
             [
              1,
              "#f0f921"
             ]
            ],
            "type": "surface"
           }
          ],
          "table": [
           {
            "cells": {
             "fill": {
              "color": "#EBF0F8"
             },
             "line": {
              "color": "white"
             }
            },
            "header": {
             "fill": {
              "color": "#C8D4E3"
             },
             "line": {
              "color": "white"
             }
            },
            "type": "table"
           }
          ]
         },
         "layout": {
          "annotationdefaults": {
           "arrowcolor": "#2a3f5f",
           "arrowhead": 0,
           "arrowwidth": 1
          },
          "autotypenumbers": "strict",
          "coloraxis": {
           "colorbar": {
            "outlinewidth": 0,
            "ticks": ""
           }
          },
          "colorscale": {
           "diverging": [
            [
             0,
             "#8e0152"
            ],
            [
             0.1,
             "#c51b7d"
            ],
            [
             0.2,
             "#de77ae"
            ],
            [
             0.3,
             "#f1b6da"
            ],
            [
             0.4,
             "#fde0ef"
            ],
            [
             0.5,
             "#f7f7f7"
            ],
            [
             0.6,
             "#e6f5d0"
            ],
            [
             0.7,
             "#b8e186"
            ],
            [
             0.8,
             "#7fbc41"
            ],
            [
             0.9,
             "#4d9221"
            ],
            [
             1,
             "#276419"
            ]
           ],
           "sequential": [
            [
             0,
             "#0d0887"
            ],
            [
             0.1111111111111111,
             "#46039f"
            ],
            [
             0.2222222222222222,
             "#7201a8"
            ],
            [
             0.3333333333333333,
             "#9c179e"
            ],
            [
             0.4444444444444444,
             "#bd3786"
            ],
            [
             0.5555555555555556,
             "#d8576b"
            ],
            [
             0.6666666666666666,
             "#ed7953"
            ],
            [
             0.7777777777777778,
             "#fb9f3a"
            ],
            [
             0.8888888888888888,
             "#fdca26"
            ],
            [
             1,
             "#f0f921"
            ]
           ],
           "sequentialminus": [
            [
             0,
             "#0d0887"
            ],
            [
             0.1111111111111111,
             "#46039f"
            ],
            [
             0.2222222222222222,
             "#7201a8"
            ],
            [
             0.3333333333333333,
             "#9c179e"
            ],
            [
             0.4444444444444444,
             "#bd3786"
            ],
            [
             0.5555555555555556,
             "#d8576b"
            ],
            [
             0.6666666666666666,
             "#ed7953"
            ],
            [
             0.7777777777777778,
             "#fb9f3a"
            ],
            [
             0.8888888888888888,
             "#fdca26"
            ],
            [
             1,
             "#f0f921"
            ]
           ]
          },
          "colorway": [
           "#636efa",
           "#EF553B",
           "#00cc96",
           "#ab63fa",
           "#FFA15A",
           "#19d3f3",
           "#FF6692",
           "#B6E880",
           "#FF97FF",
           "#FECB52"
          ],
          "font": {
           "color": "#2a3f5f"
          },
          "geo": {
           "bgcolor": "white",
           "lakecolor": "white",
           "landcolor": "white",
           "showlakes": true,
           "showland": true,
           "subunitcolor": "#C8D4E3"
          },
          "hoverlabel": {
           "align": "left"
          },
          "hovermode": "closest",
          "mapbox": {
           "style": "light"
          },
          "paper_bgcolor": "white",
          "plot_bgcolor": "white",
          "polar": {
           "angularaxis": {
            "gridcolor": "#EBF0F8",
            "linecolor": "#EBF0F8",
            "ticks": ""
           },
           "bgcolor": "white",
           "radialaxis": {
            "gridcolor": "#EBF0F8",
            "linecolor": "#EBF0F8",
            "ticks": ""
           }
          },
          "scene": {
           "xaxis": {
            "backgroundcolor": "white",
            "gridcolor": "#DFE8F3",
            "gridwidth": 2,
            "linecolor": "#EBF0F8",
            "showbackground": true,
            "ticks": "",
            "zerolinecolor": "#EBF0F8"
           },
           "yaxis": {
            "backgroundcolor": "white",
            "gridcolor": "#DFE8F3",
            "gridwidth": 2,
            "linecolor": "#EBF0F8",
            "showbackground": true,
            "ticks": "",
            "zerolinecolor": "#EBF0F8"
           },
           "zaxis": {
            "backgroundcolor": "white",
            "gridcolor": "#DFE8F3",
            "gridwidth": 2,
            "linecolor": "#EBF0F8",
            "showbackground": true,
            "ticks": "",
            "zerolinecolor": "#EBF0F8"
           }
          },
          "shapedefaults": {
           "line": {
            "color": "#2a3f5f"
           }
          },
          "ternary": {
           "aaxis": {
            "gridcolor": "#DFE8F3",
            "linecolor": "#A2B1C6",
            "ticks": ""
           },
           "baxis": {
            "gridcolor": "#DFE8F3",
            "linecolor": "#A2B1C6",
            "ticks": ""
           },
           "bgcolor": "white",
           "caxis": {
            "gridcolor": "#DFE8F3",
            "linecolor": "#A2B1C6",
            "ticks": ""
           }
          },
          "title": {
           "x": 0.05
          },
          "xaxis": {
           "automargin": true,
           "gridcolor": "#EBF0F8",
           "linecolor": "#EBF0F8",
           "ticks": "",
           "title": {
            "standoff": 15
           },
           "zerolinecolor": "#EBF0F8",
           "zerolinewidth": 2
          },
          "yaxis": {
           "automargin": true,
           "gridcolor": "#EBF0F8",
           "linecolor": "#EBF0F8",
           "ticks": "",
           "title": {
            "standoff": 15
           },
           "zerolinecolor": "#EBF0F8",
           "zerolinewidth": 2
          }
         }
        },
        "title": {
         "text": "Loss History"
        },
        "width": 800,
        "xaxis": {
         "title": {
          "text": "Epoch"
         }
        },
        "yaxis": {
         "exponentformat": "power",
         "showexponent": "all",
         "title": {
          "text": "Loss"
         },
         "type": "log"
        }
       }
      }
     },
     "metadata": {},
     "output_type": "display_data"
    },
    {
     "name": "stdout",
     "output_type": "stream",
     "text": [
      "L2 Error:  0.6467107\n"
     ]
    }
   ],
   "source": [
    "with_anzats = trainer.closure.get_state()\n",
    "plot_loss(with_anzats, smooth=True, smooth_window=50)\n",
    "\n",
    "anzats_l2 = compare_with_mc(model, params, n_prices=200,\n",
    "                            n_simulations=50_000, dtype=dtype, device=device, seed=42)['l2_rel_error']\n",
    "print(\"L2 Error: \", anzats_l2*100)"
   ]
  },
  {
   "cell_type": "markdown",
   "id": "9953c052",
   "metadata": {},
   "source": [
    "### FOPINN  "
   ]
  },
  {
   "cell_type": "code",
   "execution_count": 70,
   "id": "6c384d1e",
   "metadata": {},
   "outputs": [
    {
     "name": "stderr",
     "output_type": "stream",
     "text": [
      "Adam training:   0%|          | 0/200 [00:00<?, ?it/s]"
     ]
    },
    {
     "name": "stderr",
     "output_type": "stream",
     "text": [
      "Adam training: 100%|██████████| 200/200 [00:43<00:00,  4.63it/s, Interior=0.001783, Boundary=0.002548, Initial=0.010167, Total=0.014498, Max Error=3.8826370239, L2 Error=0.0855717435]\n",
      "SSBroyden training:  54%|█████▎    | 1071/2000 [05:48<05:02,  3.07it/s, Interior=0.000000, Boundary=0.000000, Initial=0.000000, Total=0.000001, Max Error=0.004530, L2 Error=0.000106]\n"
     ]
    }
   ],
   "source": [
    "model = FirstOrderNN(n_layers=2, input_dim=assets+1, hidden_dim=64, dtype=dtype).apply(weights_init).to(device)\n",
    "\n",
    "dataset = SampledDataset(\n",
    "    params, adam_interior_samples, adam_initial_samples, adam_boundary_samples, sampler, dtype, device, seed=0)\n",
    "\n",
    "optimizer = torch.optim.Adam(model.parameters(), lr=1e-2)\n",
    "preconditioner = kfac.preconditioner.KFACPreconditioner(model)\n",
    "\n",
    "closure = FOPINNClosure()\\\n",
    "    .with_dataset(dataset, loader_opts={'batch_size': adam_batch_size, \"shuffle\": True, \"pin_memory\": True})\\\n",
    "    .with_model(model)\\\n",
    "    .with_device(device)\\\n",
    "    .with_dtype(dtype)\n",
    "\n",
    "trainer = PINNTrainer()\\\n",
    "    .with_optimizer(optimizer)\\\n",
    "    .with_device(device)\\\n",
    "    .with_dtype(dtype)\\\n",
    "    .with_training_step(closure)\\\n",
    "    .with_preconditioner(preconditioner)\\\n",
    "    .with_epochs(adam_total_iter)\\\n",
    "\n",
    "# first training stage\n",
    "trainer.train()\n",
    "\n",
    "# we create new samples for the second stage\n",
    "dataset = SampledDataset(\n",
    "    params, lbfgs_interior_samples, lbfgs_initial_samples, lbfgs_boundary_samples, sampler, dtype, device, seed=0)\n",
    "\n",
    "optimizer = SSBroyden(\n",
    "    model.parameters(),\n",
    "    max_iter=2_000,\n",
    ")\n",
    "\n",
    "batch_size = len(dataset)  # we use all samples\n",
    "\n",
    "closure = closure.with_dataset(\n",
    "    dataset, loader_opts={'batch_size': batch_size, \"shuffle\": False, \"pin_memory\": True})\n",
    "\n",
    "trainer = trainer.with_optimizer(optimizer).with_training_step(closure)\n",
    "\n",
    "# second training stage\n",
    "trainer.train()\n",
    "\n",
    "# save model\n",
    "torch.save(model.state_dict(), \"fo_pinn.pth\")\n",
    "\n",
    "fo_pinn = model"
   ]
  },
  {
   "cell_type": "code",
   "execution_count": 71,
   "id": "16f2023c",
   "metadata": {},
   "outputs": [
    {
     "data": {
      "application/vnd.plotly.v1+json": {
       "config": {
        "plotlyServerURL": "https://plot.ly"
       },
       "data": [
        {
         "line": {
          "color": "#08306B"
         },
         "mode": "lines",
         "name": "PDE Loss",
         "type": "scatter",
         "x": {
          "bdata": "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",
          "dtype": "i2"
         },
         "y": {
          "bdata": "exT+ndborD97FP6d1uisP3sU/p3W6Kw/exT+ndborD97FP6d1uisP3sU/p3W6Kw/exT+ndborD97FP6d1uisP3sU/p3W6Kw/exT+ndborD97FP6d1uisP3sU/p3W6Kw/exT+ndborD97FP6d1uisP3sU/p3W6Kw/exT+ndborD97FP6d1uisP3sU/p3W6Kw/exT+ndborD97FP6d1uisP3sU/p3W6Kw/exT+ndborD97FP6d1uisP3sU/p3W6Kw/exT+ndborD97FP6d1uisP3sU/p3W6Kw/exT+ndborD97FP6d1uisP3sU/p3W6Kw/exT+ndborD97FP6d1uisP3sU/p3W6Kw/exT+ndborD97FP6d1uisP3sU/p3W6Kw/exT+ndborD97FP6d1uisP3sU/p3W6Kw/exT+ndborD97FP6d1uisP3sU/p3W6Kw/exT+ndborD97FP6d1uisP3sU/p3W6Kw/exT+ndborD97FP6d1uisP3sU/p3W6Kw/exT+ndborD97FP6d1uisPxSulyNEXKw/9iisjZgioj/sUVi34LWUP+xRWL8oq5E/j8KVuYVokD9SuF6WL8WJP6RwfYWAboU/MzNzjdwZhT/sUfg42+2DP3sU7gmwrYE/CtfjQtdigD8pXA87jeN/Px+Fa1KgSX4/AACAuHZAfD9SuJ7BWN15PylcDwtpQ3c/KVwPZwtwdT+PwnWlQAx1P+xROC/ns3Q/H4VrmtKpcz8UrsejKrhyP83MTBcZT3I/4XqUgBuCcj97FC6e6JZyP5qZGUxpiXI/cT2Kbb6Ocj9xPYq5S65yP4Xr0VZ9mHI/zcxMD56ocj/sUTjRUahyPylcDydWmHI/exQu5IJfcj+uR2FTr/xwP7gehewzi24/w/UobZy+az/sUbifvYNpP6RwPSOdrmc/16Nw1p8dZj/sUbjvv99kPzMzMySuVWQ/j8L1GXLfYz+amZm6ZGNjP0jhesWgBWM/MzMzRDFpYj97FK6o3bRhP4/C9amwtWE/PQrX3JnVYT89Ctfw0BliP65H4RLQQmI/j8L1uNH8YT/Xo3ANJSRhP7geheubu2A/j8L1qHmiYD+F61Eo7xtgP1yPwhWlGl4/16NwjZlVXT/hehT+uXJdP9ejcBXxcl0/rkfhOl3aXD9cj8LVlMRcP0jherQx6Fw/SOF6XMyjXD+amZlhuw9cPylcj+qH51s/ZmZmXhYbXD9SuB4NqfJbPwrXowj6pVs/uB6Fw+jQWz/2KFxHHaVbP9ejcEWHjFs/mpmZ2fqsWz/sUbj+m8dbP2ZmZuYOiFo/9ihcv7cyWj/Xo3CN0lhaPxSuR9GJS1o/MzMz64CnWT9SuB59KPRZPylcj2pk0Vk/uB6Fu7PUWT/2KFzvpbxZP1K4HkV2Nlk/j8L1KKZWWT+F61FYU6hYP4/C9Ti7DFg/H4XrQRs/WD+F61G4vTdYP6RwPSo01Fc/cT0KP1+RVz8UrkfZK6hXP3sUrg/1dlc/MzMzW8wtVz9xPQo3RthWP3sUrgf/h1Y/zczM/BxpVj+F61FIPQ1WP7gehWvNpFU/SOF6RE5oVT/sUbj+e3pVPx+F65kUH1U/CtejwG/bVD+uR+FK5dtUP2ZmZlbw1lQ/rkfhQhafVD8fhetxoHtUP6RwPQqrbFQ/zczMzL5FVD97FK6ftkBUP0jhejwtQlQ/XI/C/SgSVD8zMzMLGeJTPzMzM5tj7FM/7FG4JmDqUz/2KFxHa6NTP6RwPQLlflM/H4XrqQN7Uz9I4XrkNmVTP7gehRtASVM/rkfhmntPUz8AAACIoxRTP6RwPfJU0FI/ZmZmTgjyUj9I4Xq8ixlTP65H4WL7r1I/MzMzT2lHUj8AAACU5pNSPwrXo5x91VI/w/UoeIBfUj+kcD0yTvRRP/YoXL9nUFI/j8L1UHWhUj/sUbjuijBSPz0K1z8IzFE/SOF6wIQYUj+4HoVHAWdSPzMzM6sK+1E/H4XrNQCYUT89CtfXgNFRP3sUriM3F1I/w/UoIACzUT/2KFyjmlhRP8P1KCB+llE/16NwKdPaUT8zMzOf7X5RP1yPwmHbLFE/CtejrO14UT9mZmbimL9RPylcj8aJaFE/Ctej1K0WUT9I4XqwEmRRP2ZmZloez1E/pHA9BpCaUT8pXI8+NWxRP+xRuAo3ZFE/j8L1xJVpUT8K16PkzihRP+xRuPoN91A/SOF68NPwUD8pXI9e7/tQP4XrUYwWuVA/zczMcPODUD8pXI8WkHZQP/YoXIPEeVA/uB6FD8MxUD8AAACYwOxPP1yPwu2e2k8/SOF6vK/lTz9xPQrPJEFPP7gehVM1rU4/uB6F29yTTj8pXI+KYpJOP1K4HlXbuU0/exSuZ/n9TD8UrkfBCNdMP4/C9egivEw/rkfhUqLLSz9xPQqHLvhKP83MzMxByko/w/UofAesSj89CtfTnalJPwAAADCXvUg/hetR+AKHSD8pXI9Gm11IPx+F6123Rkc/4XoUShBPRj9mZmZ8GRdGP+xRuNIC6EU/j8L1WgLDRD8K16PsbLxDP0jhemiIgUM/KVyP/sBRQz/D9SjGfyNCP0jhehSwFEE/uB6FH5vYQD8fhetthapAP9ejcLG69D4/zczM1BXXPD+F61FMhlk8P4/C9VR/Bzw/XI/C+SPHOT8K16NM1CU3P3sUrkMzITY/rkfhyr9DNT8UrkeFWGc0P83MzHyccDM/PQrXA0OaMj8AAACYecIxP9ejcBcR2jA/pHA9pN62Lz9I4XqGMAkuPz0K12OfWSw/rkfhPpbJKj/hehSaxzYpP6RwPd7Jkyc/hetRXmf4JT9cj8INUXIkP+xRuBCD+CI/w/UoqLR6IT/D9Sgq5iogPwAAAOz/6x0/CtejSB2bGz/2KFzrA94ZPxSuRwn9Ihg/hetR+EZ6Fj/Xo3ARPRcVPz0K1/vbshM/FK5HJVNXEj9xPQrHQScRP83MzCzx+g8/7FG40iHCDT8K16OcnR0MP4XrURiKowo/uB6Fr8AvCT/D9SgYt9wHP0jhejiLjwY/hetR8MJnBT+PwvWcCngEP1K4HimFlgM/FK5HSf7DAj/2KFxHI/sBPwAAAJxNRAE/7FG4KpKTAD8pXI+6zOP/PuxRuDZuzv4+FK5HORyt/T7sUbhGa5L8PtejcKVifPs+PQrXqwCK+j4fhesZX9v5Ps3MzFTMMfk+CtejuKKW+D6uR+HiHAr4PrgehZNxgfc+exSuj7AS9z7sUbimPMf2PvYoXFd/o/Y+pHA9Eu+I9j7D9SjEtob2Pilcjzo7tfY+uB6Fg+jm9j7Xo3AF0iL3Ph+F67k2Wvc+AAAACEOU9z72KFxXo8b3Pkjhejzh8/c+cT0KD4Yq+D7sUbjGHl74PqRwPTKRhPg+rkfh4hCo+D4pXI9qosH4Ps3MzMQi1/g+rkfhwkTi+D5I4XpsNO34PhSuR/kc7fg+H4Xr6Sj3+D4UrkcJefv4PqRwPfLD//g+exSuz4wD+T6kcD1qFgb5PgAAAAhkCfk+cT0Kn10C+T6kcD3CXf/4PlyPwoWBAPk+CtejmPv/+D7Xo3D91/74PuF6FKa0/Pg+uB6FIyX3+D57FK5//+v4PhSuR1Fr2vg+7FG4LszG+D4AAADARKf4PpqZmUFyf/g+ZmZmtuBU+D7D9Sis3wn4PhSuR3H3ufc+uB6Fc1hk9z7NzMy0fAP3PhSuR5FUmfY+KVyP0gIb9j72KFz/7J71PgrXo3DpFvU+zczMRHGL9D7sUbgGfwD0PnE9CqcScvM+FK5HeZbi8j7sUbjWEVTyPo/C9SBEyfE+AAAAwHFF8T7sUbjOysPwPh+F6wF1RPA+SOF6VP6a7z72KFyfMMruPrgehRuCBO4+exSu9xpP7T4zMzOTS7LsPhSuR+HeJOw+zczMrPel6z6kcD3qH0PrPmZmZoas6+o+cT0K1/aa6j7sUbi+AlrqPsP1KPz1M+o+XI/CFTwX6j49CteD2xTqPo/C9ShzGOo+MzMzk0su6j5xPQr3qU3qPgAAAKAIdOo+rkfhiuyk6j4zMzPjTdjqPvYoXJ+gI+s+SOF6tGh16z7hehTuT8rrPuF6FD4aIew+cT0KF1Z47D4K16MQtc7sPtejcG3CJu0+CtejQECC7T72KFzfzt7tPnsUrvdJNO4+MzMzU3SJ7j6kcD2aHdvuPuF6FA6tKe8+SOF6NHpz7z7Xo3DNNbbvPqRwPUrG9O8+9ihc95gX8D5xPQqP+i/wPvYoXB/IRPA+MzMzq2RV8D6kcD1aQGPwPilcjxLtbvA+pHA9Wj118D49CtdjunfwPrgehaNHd/A+16Nw5fd08D7sUbgel27wPtejcMWfZfA+KVyPOhhb8D7NzMzMwE7wPsP1KBwnQPA+rkfhOmUu8D5mZmYmbRnwPvYoXCe3A/A+hetR+EPO7z6uR+GKn43vPq5H4SquSO8+FK5HUSUA7z4pXI/yu7LuPq5H4RohYu4+KVyPAo4K7j6F61Goqa3tPhSuRxHaSO0+MzMzg2Dj7D6PwvWoxHzsPoXrUdgHFOw+AAAAMCep6z7D9ShsnT3rPvYoXK+u0Oo+PQrX84pi6j7Xo3Cdb/TpPs3MzNwAhuk+FK5HYZYX6T7D9SjMxajoPq5H4XqLO+g+FK5HsX7Q5z7hehSOJ2fnPs3MzAxP/+Y+rkfhyvGY5j6amZn5+DnmPo/C9Xji2+U+KVyPIn6B5T6PwvXoXSflPhSuRxFv0OQ+4XoUFlSA5D72KFzfBDHkPjMzMwt35OM+9ihcd2Sg4z4K16Ooxl7jPsP1KLRGIOM+PQrXexXn4j5SuB7dzrDiPlyPwv37geI+9ihchw5U4j5cj8KtUyfiPo/C9YA9/eE+UrgeDffW4T5xPQovUrLhPmZmZt4Tj+E+ZmZmfr9t4T6F61EgCk7hPq5H4erfMOE+PQrXQ/kU4T5xPQpHc/ngPrgehZNG4uA+uB6FK4HJ4D4zMzMjXbHgPhSuR0E0m+A+H4XrMVWF4D7Xo3AdhXDgPq5H4fJOWeA+w/UoDLhC4D4zMzMLCy/gPlK4Hi1iGuA+16NwfXgF4D4AAAAwGeHfPs3MzHwMs98+16NwbYeF3z4UrkehjljfPgAAADC7LN8+16NwvVQB3z7NzMy8iNXePrgehbvXqN4+FK5HQZd93j7D9Sj8HFHePlyPwkW6Id4+SOF6pBLy3T57FK6XEsLdPlyPwmUfkN0+exSuV3Jd3T4zMzMj4CndPsP1KLxV9dw+KVyPEjrB3D5mZma2x43cPpqZmUnJWtw+zczM3CIo3D7hehRe+fTbPj0K1wOWwds+UrgeJQmO2z6amZn5nFjbPsP1KIz1Ids+mpmZCTHr2j57FK63t7TaPo/C9ajEfNo+zczM/JFE2j7Xo3CNUwraPnsUrjeCzdk+AAAAUD6P2T4K16Nwd1DZPvYoXO8JEtk+PQrX4+/T2D6uR+GKdpXYPvYoXG9/WNg+XI/CVS0Z2D5mZmaGmtnXPj0K19OWnNc+AAAAoM1f1z6kcD163yDXPj0K1zPW4dY+4XoUvi+j1j7D9Sjsf2nWPlK4HhVrL9Y+PQrXE+7y1T7NzMxsC7jVPh+F6zEzfdU+exSuR45B1T7sUbjeDAvVPgrXo3jq0dQ+pHA9gmWX1D57FK6veF3UPs3MzNzCI9Q+exSuXwLq0z49Ctd717DTPqRwPRoQeNM+pHA9Gts/0z6amZlZqwnTPkjhelRL09I+7FG45nmd0j6kcD1iimrSPrgehZORONI+KVyPogUI0j72KFw35djRPjMzM7uDqdE+uB6FC+h50T7NzMws/krRPgAAALDWG9E+hetRkFnt0D5xPQrf5r7QPnsUrk/FkNA+PQrXQ5th0D6PwvXQHzPQPs3MzAzzBNA+XI/C9Titzz5mZmYWplLPPqRwPfpU+c4+7FG4Pn6lzj4K16PA6FbOPvYoXA+pDM4+7FG43kLEzT4AAACQwH/NPh+F67HsPs0+exSuJ+n/zD6F61Eov8HMPoXrUeg0isw+PQrX43xUzD49CtcTHCLMPhSuR0HU8Ms+XI/CdSnFyz6uR+GK85vLPhSuRyHEc8s+FK5HUWBNyz64HoUrBSnLPkjhejQICss+KVyPIgfsyj5I4XoUuM7KPhSuR7HFtMo+zczM/COcyj64HoXrlYnKPq5H4XqQeso+exSuh4Ntyj6F61FIfmDKPrgehbt1Vco+PQrXk+JLyj7D9Sj8ZEPKPnE9CjdoO8o+ZmZmdiU2yj7hehT+bDLKPuxRuF5FL8o+PQrXMzosyj49CtdTfCjKPhSuRyHpJMo+SOF6JHEhyj6F61Eo0x7KPo/C9Vg8HMo+pHA96m0Zyj6uR+FqlhbKPvYoXN+xE8o+H4XrcXYQyj5mZma2BAzKPhSuRwFoB8o+SOF6lBcCyj4AAABAjvvJPtejcP0f9Mk+4XoUPkbryT7sUbgeCuLJPo/C9Zjy1sk+exSu5yzJyT7sUbjOTbrJPpqZmWnXp8k+H4XrQS6UyT4K16PAB3/JPmZmZvaSack+16Nw7bRTyT72KFw/8DzJPh+F6+ERJck+Urge1ZMMyT4AAABA/fDIPkjhepTf0sg+mpmZKWm0yD4fheshlpXIPnE9Cpejdsg+uB6FGyhTyD6kcD06US/IPvYoXM9CC8g+AAAAIMHmxz7hehQOiMHHPilcjwLRm8c+uB6Fu911xz7D9SjMe0/HPgAAADDeKMc+9ihcz3oBxz57FK5HytnGPilcj2L3scY+4XoUfr6Jxj4zMzOzuGDGPrgehasjOMY+CtejQG4Pxj72KFz/DObFPpqZmYnovMU+pHA9yqeUxT7NzMy8TmzFPh+F68G6Q8U+MzMzo5AbxT7sUbgeQvTEPh+F6zFWzcQ+9ihcL8ymxD5I4XrEW4DEPlyPwtVNWsQ+UrgeVVc1xD7hehT+jhDEPlK4HoVT7MM+9ihcb8jIwz7D9SjcfqXDPvYoXG9Hg8M+mpmZOdJgwz5I4Xokfj7DPqRwPVqSHMM+zczMrPb6wj4zMzNDRdzCPrgehTs5vsI+j8L1KLmgwj6PwvV4UoPCPlyPwkXIZcI+SOF69JBIwj4pXI+yISzCPoXrUfjMD8I+FK5Hwbz1wT7sUbjOuNzBPvYoXJ+7w8E+16Nwve2qwT5SuB7VDJLBPnE9CvdUfcE+H4Xr8XJnwT49CtfT01HBPsP1KIwoPcE+KVyPcl8owT7NzMwM1xLBPh+F6wlS/cA+exSuX0LowD4zMzMTZNPAPgAAAKApv8A+pHA9opmrwD7Xo3CVHpjAPvYoXIdEhcA+j8L1QAJzwD4fhesZpWDAPpqZmXEcTsA+7FG4JmU8wD5mZmbWYirAPqRwPZLmF8A+H4XrSZUFwD7NzMyMD+a/PgrXoyDtv78+CtejEOiXvz4AAACAm26/PgAAADCnRL8+7FG4bukYvz4fhethOuy+Pq5H4YqGvr4+9ihcfyeQvj4UrkfhNGC+Ps3MzFwbL74+XI/CxfX9vT4K16NQQMy9PsP1KKwrm70+16NwnR5rvT5SuB6VKDq9PnE9CpdPCL0+w/UorLLUvD6amZkJAKK8PqRwPSpqcLw+9ihcDzI+vD6PwvVYywy8PpqZmUke27s+cT0K53qpuz4pXI9iA3i7PkjhetTNR7s+XI/CJVcYuz5SuB71O+m6PilcjzIOuro+cT0KF42Luj6PwvUYVVy6PtejcB1fL7o+H4XrIeACuj4AAADg09a5PsP1KCxKrLk+MzMzMzmEuT6amZkpDV25PrgehXs+Nrk+7FG4ruwPuT7Xo3CN4uq4PpqZmVlzxrg+rkfhejijuD6uR+HaLYG4Pq5H4doPYLg+9ihcH30/uD57FK5XOiC4PqRwPRp0Abg+4XoUztzjtz7hehSetce3PoXrUShDrLc+7FG4jmuStz4UrkfhwXm3PgAAAFCXY7c+SOF6JA1Ptz5I4XrEODy3PhSuR3HDK7c+hetR2Lwctz5cj8IVsA+3PgrXo6BqBLc+w/UoHNr7tj5I4Xr0GvW2Po/C9cgF77Y+MzMzc7vptj4fheuxaOW2PjMzM6P64bY+ZmZm5pHftj5mZmZWMN62Ps3MzDzz3rY+exSuN5/ftj7Xo3B9SuC2Pq5H4cqw4bY+UrgedWfjtj7sUbiuUOW2PuxRuO5v57Y+16Nw7XDptj64HoX7p+u2PoXrURg87bY+zczMHAnvtj6F61F4Q/G2PqRwPdpg87Y+9ihcP7r0tj5mZmbmNfa2PvYoXK9697Y+16NwbWv4tj5xPQpnqPi2PkjhetR/+LY+mpmZqZT3tj5SuB5l0fW2Pj0K1wM087Y+FK5HIdjutj4pXI8Ciui2PgAAAHAs4bY+zczMTFjYtj6kcD3KDsy2PjMzM8OnvrY+H4XrYVawtj57FK533aC2PvYoXF8XkLY+H4XrUat+tj7NzMzMe2y2PjMzMxMuWbY+hetRePlDtj7sUbj+by22PmZmZkYkFbY+rkfh2gn6tT4fhetBfN61PgrXowB2wbU+uB6F+/eitT4K16NwJoK1PhSuR4EqYLU+PQrXs1Y9tT72KFwfKRq1PnsUroeZ9rQ+SOF61GzStD4fhevBVq20PlyPwhUfiLQ+pHA9CuBitD49CtcziD20PlK4HnVIGLQ+H4Xr4fPysz7sUbiup82zPuxRuJ4YqLM+KVyP4uaCsz6kcD2qMl2zPoXrUUhlOLM+KVyP8mQTsz6PwvXYw+6yPqRwPbq3ybI+zczMJLiksj4AAAAwm3+yPkjheoRLXLI+mpmZGaA5sj7Xo3D9gxayPilcj8Ir87E+zczMtAXQsT5I4XrMFa2xPgAAAFBCibE+w/UoTM1lsT7sUbiW+UKxPsP1KDxuIbE+4XoURnwBsT6kcD2aPeGwPuF6FGbwwLA+7FG4juCjsD5I4XqUyYewPq5H4XoRbLA+cT0KvxNRsD5xPQrXdjWwPnE9CicMGrA+PQrXk979rz7Xo3CdocivPh+F6xHbla8+KVyPUtxirz6amZlJ0zKvPoXrUeigBq8+CtejkFbarj6PwvUozq+uPpqZmbnvha4+j8L1yFZerj4K16NwHTeuPpqZmQmqEK4+PQrXI7TqrT49Ctej0MWtPmZmZkZgoa0+ZmZmtj9+rT5xPQp3qlutPq5H4XrZOa0+uB6FW1IYrT4UrkcxH/esPh+F6yFa1qw+w/UoHPO1rD7Xo3CdL5asPvYoXG/ndqw+PQrXow9ZrD6uR+GaaDusPuF6FA5bHqw+AAAA8K8CrD7sUbh+POirPqRwPcoSzqs+exSut3C0qz5SuB4ldJqrPjMzM+PpgKs+rkfhOiBoqz6F61HYPFCrPsP1KLxhOas+AAAAAK8iqz7NzMxMXA6rPuxRuC6B+ao+zczMjKvkqj7sUbgOXc+qPuF6FH7Juao+w/Uo/Lqkqj6kcD1KoZCqPs3MzNyFfKo+SOF65Idnqj72KFzv21GqPhSuR7E9Oqo+pHA9Opwlqj6uR+FayRCqPnE9ChfR+6k+PQrXsxLnqT5mZmZGWdKpPvYoXO8Kvqk+exSuJy+pqT49CtdjD5SpPq5H4Rrnfqk+ZmZm9rRoqT6amZnpPlKpPilcj0KmO6k+XI/CRfYjqT6uR+E62gupPlyPwqVR86g+ZmZmFrLZqD4AAACwer+oPq5H4fqApKg+rkfh6laIqD6kcD0ajGuoPoXrUTiPTag+4XoUDl4uqD7Xo3ANWw6oPjMzM5Po7ac+hetR6ELMpz7hehQObqinPpqZmblwhKc+KVyPUiRgpz4zMzMjqDqnPmZmZlYGFKc+hetRaJnspj5cj8Il6MSmPrgehevFnKY+16Nw3fJ0pj5I4XqENUymPgrXo3DfI6Y+w/Uo/F37pT57FK5natKlPq5H4Qo4qaU+cT0Kh0aApT7Xo3AdR1elPnE9CscxLqU+CtejkP4EpT4pXI8CP9ykPtejcE08tKQ+PQrXw2OMpD49CtezUWSkPuxRuA6APKQ+j8L1SKkVpD5mZmb2K/GjPgrXoyCuy6M+MzMzW9Gloz72KFxHWoCjPjMzM9MIW6M+H4XrKek1oz4fhet5aBGjPnsUrgc57aI+16NwJf7Ioj6kcD0KPqWiPvYoXB+cgqI+4XoUrkNgoj49CtebKj6iPqRwPcoNHaI+ZmZmhin8oT6kcD16qduhPq5H4fqru6E+mpmZ2SCcoT7sUbhO13yhPgrXowCHXqE+PQrXa29AoT6amZkhgCOhPq5H4dqbB6E+PQrXQ3zsoD4K16PoptGgPnE9CscYuKA+XI/CNZ6goD7hehRee4mgPjMzMwt6cqA+exSu37tcoD6uR+Gy80egPlyPwu0DNKA+rkfhgpsgoD7hehReHw6gPo/C9agu+Z8+SOF65CPYnz5cj8LlarefPs3MzJw4l58+SOF6VN54nz5I4XpUeFufPkjherTMPp8+hetROLYknz7D9SjctgqfPjMzM/Md854+uB6Fm9Hbnj7Xo3Btt8SePh+F68E5rZ4+16Nw7ZGWnj49CtcDNYGePilcjyLDa54+XI/CJWdWnj72KFwvjUOePq5H4apkMp4+uB6F20whnj72KFzvkRCePlyPwqV2AJ4+mpmZ+c3wnT4pXI8i/uCdPj0K15Pd0Z0+cT0KV47CnT6F61FIRbOdPnE9CtcBpJ0+7FG4nr6UnT6kcD1KyISdPsP1KJxddZ0+mpmZiQlmnT6PwvV4XVedPuxRuL7WSJ0+zczM/KA6nT6kcD06hSydPgrXo1C1Hp0+H4XrMewQnT72KFxvIgSdPh+F67F395w+7FG4/jTrnD4K16Ow4t6cPs3MzOwW05w+4XoULjHHnD5I4Xp027ucPtejcM3isJw+MzMzg3+mnD6uR+GqbJycPuF6FP4dk5w+UrgeFWuKnD57FK5nqIKcPhSuR0HQe5w+SOF6BG52nD57FK6HVnOcPlK4HsUYcZw+rkfhqp1vnD7NzMzsCG+cPhSuR1EHcJw+j8L1aPRznD7sUbjeuHicPlK4HiVhf5w+PQrXYyWHnD4K16NQxZCcPuF6FN4zm5w+PQrX87qmnD5xPQr3obOcPuF6FM6twpw+Urge1RrTnD5SuB5V7OOcPrgehWs39Zw+mpmZWeAGnT7hehQOJxmdPnsUrvdbLJ0+w/UoTENAnT7hehRubVSdPpqZmakJaZ0+ZmZm1rR9nT4fheuRTZKdPtejcN3spp0+PQrXM9q7nT64HoVLmtCdPuxRuM4F5Z0+7FG4HiL5nT7hehTOWgyePoXrUUjbHp4+AAAA8N8wnj5cj8IFeEGePvYoXG+jUZ4+PQrXw3Fgnj64HoVbw22ePoXrURj6eZ4+16NwbcSDnj7D9ShsToyePhSuRyGQkp4+CtejMCOYnj7Xo3C9sZyePkjhejTan54+mpmZ+Z2hnj6amZmZYqCePoXrUXj1nZ4+cT0KR6eZnj4pXI8iDpSePgrXo1AAjJ4+KVyP8myBnj7hehSea3OePtejcF2DZJ4+ZmZmtnVUnj5xPQr3PEKePuxRuP4ALZ4+AAAAkKIWnj4K16OAhP6dPh+F65Fa5Z0+H4XrkUjLnT5xPQo3wq6dPoXrUcgzkZ0+uB6FK8BynT64HoWrX1KdPj0K11PJL50+zczMDKoMnT4zMzMzNemcPpqZmelbxZw+UrgexbegnD5xPQo333qcPuxRuD6MVJw+KVyPsgEunD72KFz/XQecPoXrUUhS4Zs+4XoUHqi7mz7Xo3B9RJabPj0K15OFcZs+rkfhOtZMmz4K16MAxiibPmZmZubbBJs+j8L1iNHhmj7D9Sgsh7+aPtejcD3rnZo+SOF6lK99mj5cj8LV112aPs3MzLysPpo+Urge1fQgmj64HoXrBgSaPkjhemRQ6Zk+j8L1SDDPmT4pXI/y+baZPrgehRsJn5k+9ihcb7SHmT5xPQq3R3GZPoXrUWitW5k+pHA9GtlHmT7NzMws3DOZPgAAAOCjIJk+hetR2GQNmT5I4XoETfuYPrgehXv96Jg+FK5H0THZmD7sUbgeT8mYPhSuR7HxuJg+CtejQNSomD7Xo3Dds5iYPoXrUZish5g+j8L1iLx2mD7sUbgOAmWYPvYoXK8+U5g+ZmZmtqpCmD7Xo3A9MjKYPrgehSu4IZg+uB6F2+gQmD4zMzPTzgCYPgrXo+Ag8Jc+KVyPwnfelz4fhevhxsyXPs3MzGwiu5c+H4XrkSCplz7hehQuapeXPsP1KKxqhZc+rkfhqjhzlz4zMzNzXF+XPnE9CpcgS5c+zczMDNY2lz6PwvVoiiKXPnsUrudQDpc+9ihcL9j5lj6kcD0qXeWWPgrXo6C70JY+16NwjQa8lj4UrkexA6eWPkjheuQAkpY+rkfhKvx8lj7hehQu7GeWPgrXo3AeU5Y+4XoUXrs+lj6uR+GaZSqWPvYoXA+LFpY+XI/CRToDlj4pXI+iZPCVPhSuR9Fs3pU+PQrXo/TMlT6kcD264LuVPqRwPfphq5U+16NwbRWdlT72KFy/b4+VPuF6FN6mgpU+mpmZyWJ2lT7NzMwcAmuVPlyPwjUTYJU+Ctej4OBVlT7NzMx86EyVPoXrUXgPRZU+9ihcTxs+lT7sUbgOtTiVPhSuR3G1M5U+CtejUA4wlT6amZn5KS2VPgrXo0BKK5U+uB6Fq8wplT7hehTuoyiVPvYoXJ82KJU+UrgeRe4nlT4K16OweSiVPgAAAJCIKZU+j8L1yIMqlT6F61EotyuVPuxRuL7YLJU+mpmZCYAtlT7NzMys9y2VPlyPwsVpLpU+FK5HgbwvlT64HoXr8i+VPnsUrgfELpU+9ihcXyYtlT6F61G4KyuVPsP1KIzEKJU+7FG4HvIllT4pXI8CUCKVPoXrURjjHZU+4XoUvvMYlT5I4XqEHhOVPtejcI3CC5U+PQrXg1ADlT6uR+E6m/mUPkjhelQn75Q+4XoUzijklD6amZkJjdeUPpqZmek2ypQ+UrgetfW7lD6kcD3KsKqUPuF6FM7Pl5Q+PQrXs+aDlD4zMzMTZG+UPuxRuA6vWJQ+SOF6ZE5BlD5SuB4lfyiUPoXrUQj2DpQ+H4Xr8bH0kz5I4XrUCdqTPsP1KJzFvpM+4XoUru2ikz7Xo3CtQYWTPq5H4epUZ5M+4XoUfiFJkz5mZmbmpSqTPrgehTvIC5M+CtejMG3skj5xPQrvy8ySPs3MzCQhrZI+uB6Fs2iNkj5cj8JFqG2SPnsUrocTTpI+mpmZWYIukj4zMzPbgA+SPjMzM3O78JE+hetRGAPSkT7NzMysaLSRPnE9Cvdsl5E+KVyP+ix7kT7NzMy0bV+RPgrXo4g3RJE+H4XrIXgqkT5SuB4dPhKRPpqZmdGh+pA+pHA9OpvjkD6kcD1KP82QPoXrUfCZt5A+Ctej4CKjkD6amZmZiI+QPnsUrteGfJA+SOF6jHpqkD4zMzNDaVqQPnsUrs+1S5A+4XoUBgc+kD4Urkf5xTCQPgrXo8gWJJA+16NwZdQYkD4AAADYCA6QPuxRuMbkA5A+4XoUHk34jz72KFwfROuPPo/C9Vg34I8+j8L1+G/Wjz5xPQpHLM6PPuF6FP44x48+",
          "dtype": "f8"
         }
        },
        {
         "line": {
          "color": "#3182BD"
         },
         "mode": "lines",
         "name": "Boundary Loss",
         "type": "scatter",
         "x": {
          "bdata": "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",
          "dtype": "i2"
         },
         "y": {
          "bdata": "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",
          "dtype": "f8"
         }
        },
        {
         "line": {
          "color": "#9ECAE1"
         },
         "mode": "lines",
         "name": "Initial Loss",
         "type": "scatter",
         "x": {
          "bdata": "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",
          "dtype": "i2"
         },
         "y": {
          "bdata": "hetRuz296D+F61G7Pb3oP4XrUbs9veg/hetRuz296D+F61G7Pb3oP4XrUbs9veg/hetRuz296D+F61G7Pb3oP4XrUbs9veg/hetRuz296D+F61G7Pb3oP4XrUbs9veg/hetRuz296D+F61G7Pb3oP4XrUbs9veg/hetRuz296D+F61G7Pb3oP4XrUbs9veg/hetRuz296D+F61G7Pb3oP4XrUbs9veg/hetRuz296D+F61G7Pb3oP4XrUbs9veg/hetRuz296D+F61G7Pb3oP4XrUbs9veg/hetRuz296D+F61G7Pb3oP4XrUbs9veg/hetRuz296D+F61G7Pb3oP4XrUbs9veg/hetRuz296D+F61G7Pb3oP4XrUbs9veg/hetRuz296D+F61G7Pb3oP4XrUbs9veg/hetRuz296D+F61G7Pb3oP4XrUbs9veg/hetRuz296D+F61G7Pb3oP4XrUbs9veg/hetRuz296D+F61G7Pb3oP4XrUbs9veg/hetRuz296D+F61G7Pb3oPzMzM0VRvuY/MzMzEveX5T/sUbig+YrkP65H4WYAluM/rkfhRqXI4j/sUbjofB3iPxSuR7kHc+E/UrgezQG34D8fhevJgf7fPxSuR2XrqN4/H4XrP1tm3T89CtfOmyzcP9ejcKq89do/cT0KkjfD2T9I4XqjQ5fYP+F6FDFFcNc/w/Uok8dJ1j+4HoUIASHVP83MzJ9p+dM/XI/CsmnT0j8fhevwVa/RP0jhehRCjtA/CtejFDThzj8Urkf9fKvMP65H4cokfMo/SOF6Wi1byD/2KFxJbVDGP1yPwilcWsQ/XI/C1ad2wj89CtehtK/AP83MzGzrG74/9ihcp24muz+PwvWUPYC4Px+F6xEzLLY/pHA9SgsotD/Xo3CNH2yyP65H4fqM7rA/FK5HkbZYrz8pXI8SlUmtP4XrURB+g6s/7FG4dk3SqT89Ctcr2z+oP4XrUcD24qY/j8L1eMzMpT8zMzNbr/ekPz0K12vDS6Q/exSur6G5oz+amZmRqkmjP1K4Hu2Z9qI/MzMz49e0oj9xPQo3FXOiPz0K1yv5IaI/j8L14Fy6oT/NzMwMBjyhPz0K13sBrKA/j8L1WPMYoD9mZmbG2S2fP+xRuN61X54/PQrXQ5zTnT/2KFwft4adP3E9CgcjX50/UrgelXs1nT8AAABgGe2cP/YoXD9Jd5w/ZmZmliLTmz8AAABQGw+bP4XrUYggRZo/4XoU3h+CmT89Ctczsc+YP6RwPaosP5g/cT0KN3Hblz/sUbge15uXP1yPwuW3cJc/MzMzY4dJlz+F61GohhqXPwAAAGA/4ZY/mpmZSbyjlj9SuB6VamaWPylcjwJlL5Y/16NwXUn9lT8zMzPDGs6VP4/C9ag4npU/hetRODxqlT8K16PwRjWVP+F6FJ7X/ZQ/FK5H0TbDlD/NzMzc9IeUP83MzOwDT5Q/UrgehRUYlD97FK4vb+KTPylcjxL8qpM/4XoU7hJukz/Xo3ANZCuTP/YoXEfK5pI/7FG4Vk+jkj97FK7vhWWSP3sUrqebL5I/Ctej6AQCkj97FK53ityRPxSuR5GfvZE/hetRkF2jkT9mZmYG6ouRP6RwPSr8dJE/16NwZaBckT/D9SjcGEKRP3E9CsfOJJE/mpmZkWsEkT8AAABoLOGQP5qZmWH1u5A/XI/CpSiWkD9I4Xp0h3CQP4XrUTjBS5A/hetRaNMokD+4HoUrOgiQP0jheiTv0o8/rkfhqhmYjz/NzMxME1+PP6RwPXrnJo8/7FG4ruDujj8zMzPDdraOP2ZmZjZxfY4/FK5HgdtDjj+4HoVrzQmOP3E9Cjeqz40/zczMnN6VjT9cj8I101yNP+xRuI7tJI0/Ctej4H/ujD8K16MAcLmMP2ZmZjaOhYw/pHA9avFSjD8pXI/SjiGMP+xRuN7T8Is/AAAA0BrAiz+PwvXIHY+LP83MzBzLXYs/CtejUOgriz97FK53f/mKPx+F64Evx4o/H4Xrkc2Vij97FK5XZ2WKP/YoXE/vNYo/pHA9ClIHij+kcD26YtmJPx+F66Hiq4k/zczMTKh+iT8fheuBglGJP65H4YpJJIk/MzMz08n2iD9xPQpnasmIP2ZmZia284g/j8L1+HgYiT+F61EIBjuJP8P1KHy5XYk/FK5HcVV9iT+4HoUb7pSJP+xRuD6lqok/H4XrUSe6iT/2KFxfQ7GJPwrXo0B+mIk/SOF6BOdziT+kcD2qHzaJPxSuR4Eg9Ig/XI/CxV+piD/D9Sj8tVSIP+xRuH76/oc/mpmZWYuohz/sUbiWblGHP9ejcLkD9YY/zczMtByYhj9cj8IRZzmGP7gehbM214U/ZmZmQld1hT+4HoWPkxKFPzMzM5cIr4Q/MzMzp1BLhD8fhevl/OeDP/YoXDtDg4M/AAAAkMEegz+kcD1KMrqCPwAAALCCUoI/SOF6TIbogT89CtdfRH+BP83MzDI3FoE/16Nw26qtgD+kcD2K10SAP8P1KNjStn8/7FG4KOvkfj+amZnT1hJ+P+xRuOKrP30/MzMzY9JtfD9mZmYiPZ17Px+F6yUEzno/FK5HlxAAej9cj8KFZjN5Pz0K118PaHg/cT0Kh+2ddz97FK5L8NR2P3E9CgVPDXY/4XoUUrdGdT+F61EQJNJzPzMzM2nzaXI/H4XrFQ0HcT/NzMy8O0xvP4/C9VxjmWw/FK5HKWIJaj+amZlpWIVnP1yPwl1vHmU/4XoUgEcbYz8AAAD02VphPx+F622WmV8/hetR7K9PXT/Xo3CFYy9bPwrXoyB9XVk/w/Uo8CDkVz/D9ShoXHtWP4/C9cQUIVU/ZmZmsvfTUz9xPQo3ELhSPz0K10+OpFE/ZmZmJuqlUD9cj8L9apFPP8P1KMTu3U0/rkfhAsBCTD/2KFwXD8FKP/YoXL/sUEk/pHA9AgjqRz9xPQoHRahGP/YoXOfObkU/CtejMHBDRD97FK6XRVVDP6RwPaoylkI/exSu6wrYQT/2KFzz3iRBP+xRuNaYdkA/4XoUjjevPz+uR+HiHJ0+P8P1KCxRkT0/uB6FW8qcPD97FK5nes47PwAAACjk/jo/9ihcJ10wOj9I4Xrs1185P2ZmZn5hizg/ZmZmdsm3Nz8zMzMTZeM2P/YoXD9lDzY/exSuXxg+NT+amZlpmHM0P3sUrlfRrDM/KVyP/vDoMj+PwvVgESwyP7gehSsihDE/H4XrDZ7eMD+kcD3KfEcwP3sUrmegdi8/XI/C/TJiLj/2KFyPKVgtP7gehbPsaiw/cT0KR9d/Kz8zMzPTTaAqP9ejcFUHwik/uB6Fu/XpKD8AAAA4PRUoP3E9CsfBRSc/SOF6/ICIJj/NzMz8Zc4lP/YoXJeFFSU/rkfhEnVlJD9cj8Jt+c4jP/YoXFezOiM/exSun5enIj+4HoUrwRYiP3E9CqcvlCE/CtejYNoYIT8AAACwcqEgP83MzJzxKyA/UrgetcpvHz9SuB7FvJkeP83MzLzGxR0/7FG4rq/6HD97FK53HDgcP0jheuSReRs/rkfhauPDGj+amZlp6xUaP+xRuH54dBk/ZmZm9izZGD8K16OQok4YP2ZmZlahzBc/SOF6tCBMFz8UrkexcNYWP7gehTugZxY/exSuHzj8FT/NzMyE1J8VPylcj/qFRRU/16NwZYruFD8zMzMr6J0UPwrXo7itVBQ/CtejAOMRFD9cj8Ldq80TPwrXo9AIjBM/ZmZmHj1MEz/NzMzE1QsTP+xRuGbhzBI/MzMzu9SNEj/D9Sj87E4SPz0K15uCDxI/AAAASNrQET97FK4X2pIRP0jheiQwVRE/pHA9wsAcET+F61HYkOUQP+F6FB6SrRA/H4XrMXN4ED+amZmp40EQP1yPwj3mCRA/KVyPIrykDz+4HoUbPDkPP1yPwnW6zQ4/rkfhag9iDj9I4Xrk2vMNPx+F6zH/hg0/Ctej8L8XDT89CtczlawMP65H4RqiQQw/hetRmMbWCz/hehRuiWkLPz0K11Ma/Ao/w/Uo5IuNCj/Xo3C9/B0KP8P1KHSVrwk/pHA94hQ+CT/hehS+780IP6RwPQL/Xgg/XI/CrUXwBz+uR+FK5oAHP1K4HgXmEgc/SOF63OqpBj8K16PAFUQGP9ejcGW53QU/w/Uo9IB4BT8AAADQkxQFP6RwPVLKtgQ/zczMZKRZBD9cj8KF9fwDP/YoXJdwpAM/pHA9EttNAz/NzMwcK/gCPx+F6xH3pAI/XI/CRZRVAj97FK4HIwYCP+xRuE6BuAE/FK5H8TFtAT9mZmZuKycBP+xRuObb4wA/Urge5T6hAD/2KFz/FmMAP9ejcGXrJQA/pHA9enrT/z7Xo3AN1Fv/PsP1KJyU5/4+mpmZKTd5/j72KFz/ARH+PkjhevTxqf0+zczMjE5O/T7hehR+tfr8Ps3MzExuqvw+XI/CpZ1b/D7hehT+RRD8PlK4HjUTx/s+w/UoXByG+z4zMzMTf0v7PqRwPSqKF/s+H4Xr4Wnm+j57FK7ngrb6Pj0K1zN+ivo+mpmZyUZj+j6uR+HazT36PqRwPfoIHPo+FK5HMXr8+T6amZm5od75PmZmZjZ5x/k+SOF6JNyw+T57FK63cJz5PnsUrpdCivk+FK5HEdJ6+T7hehSei2z5Ph+F62GcXvk+7FG4PoVQ+T49Ctfj50P5PpqZmXkEN/k+PQrXoyUq+T4UrkfRvhz5Ps3MzKzXDfk+PQrX40z6+D4AAADgaub4PkjhepSqz/g+PQrXk9yz+D5xPQpXlZf4PvYoXP/vdfg+CtejoGpT+D5I4Xqksy/4PgrXo6CjCvg+9ihczzDj9z4K16MA/7n3PkjhenQskPc+FK5H8api9z4pXI+igzT3PgAAABC0Bfc+PQrX49zU9j4K16MgPqL2PnE9Ck88b/Y+AAAAQEM69j4zMzOLmQT2PhSuRym6zvU+w/UovPOV9T4UrkcBBV31PmZmZq6+JPU+CtejyOns9D6amZlxWLX0PpqZmfFafPQ+CtejOEVD9D4zMzN7vAn0PoXrUUhXzvM+hetRuFGT8z4pXI8yH1jzPuF6FBZnHPM+PQrX83Hg8j5SuB5FeKTyPsP1KGxeaPI+16Nw7T0s8j49CtdD2O/xPnE9Ch9Ls/E+w/UoBFp28T5mZmYOhjnxPoXrUdDy/PA+hetR2MDA8D6PwvUwzYTwPuF6FPZdSfA+FK5HIV0O8D4pXI/yDabvPrgehSuML+8+pHA9ig267j6uR+HaQEfuPsP1KCzP2+0+MzMzUxtx7T57FK437gvtPmZmZhZhsew+FK5HoZZX7D6PwvW4cwjsPpqZmakgvOs+uB6FOxJy6z4fhetB5inrPlK4HgW15uo+16NwHUun6j4K16NgwGnqPvYoXO/pM+o+XI/CdR8A6j4UrkdR/M3pPuxRuL6boOk+Urge9Vh36T6amZnJlE/pPilcj+LqK+k+AAAAoAEJ6T6F61F49+boPpqZmZnLyug+j8L1WGyv6D57FK539ZPoPtejcD1Neeg+16Nwrfpe6D72KFwfZkfoPnE9Cif+L+g+XI/C9SkY6D6PwvVIZwPoPs3MzFy17uc+H4XrYbzZ5z5mZmYG5MXnPs3MzLwMsec+16NwfaGb5z5I4XoEn4bnPh+F6/H5cec+w/UoLCtd5z7D9SgcZEjnPj0K12MxM+c+ZmZmpgge5z7hehSeaQjnPsP1KLzT8eY+cT0KN8na5j5SuB415sPmPgAAAND1rOY+SOF6hBmX5j5xPQrX6oDmPj0K11NNaeY+MzMzE3VQ5j4pXI/yBjnmPqRwPWqPIOY+zczMHJsG5j4Urkcx3+vlPnsUroeFz+U+9ihc77Cy5T7D9SjsQJXlPoXrUUgaduU+MzMzg+9V5T7NzMzc+zPlPq5H4ZoEEeU+w/Uo7Nrq5D6PwvWQR8HkPpqZmaFsluQ+cT0KbxRq5D7sUbi2lz3kPqRwPTKvEOQ+zczMRJnj4z72KFyHkrTjPgAAAJhRheM+Urge5YBV4z72KFxfgiXjPh+F64kM9eI+MzMzm/vB4j4pXI8yv47iPnE9CicjW+I+hetR8FIl4j72KFxPxe7hPj0K1wtnuOE+Urge1V2B4T4K16PYkEnhPgAAAPC6EeE+exSuP2jZ4D5SuB4d/qHgPlK4Hv0xa+A+w/UoNM404D4pXI/ysPrfPjMzM+N3jN8+FK5HkQkf3z5I4XpUrbDePilcjwJvQt4+rkfhqvrV3T7sUbiONmvdPgAAADCwAd0+AAAA8ISY3D5mZmZGBy/cPsP1KOzCxds+rkfhSkRe2z7D9Sjsw/naPnE9CucPl9o+CtejYI802j6F61FYQtTZPtejcB0EeNk+MzMz83od2T5xPQqnbsbYPlK4HhVpcdg+KVyPsvUd2D7sUbie483XPgAAADD9f9c+SOF6FFQ11z7hehQOuuzWPgAAADAoqtY+7FG4znNu1j5SuB4FyzTWPqRwPXqU/tU+KVyPAh3J1T5I4Xp0lJXVPkjheiSuYtU+9ihcX+Iz1T4AAACwPQfVPs3MzAz/29Q+4XoU7rOx1D4K16PwoIjUPvYoXI/TZdQ+pHA9mg5E1D6PwvXYaiPUPmZmZqbYB9Q+4XoUPvnt0z49CtczItXTPq5H4Ro2vtM+rkfh2lOp0z4AAABQ6JXTPs3MzIzlg9M+mpmZGXly0z4UrkfhcWHTPuxRuK70UNM+SOF65D5C0z72KFzfOjTTPq5H4XqkJtM+exSu11Eb0z6F61FI9A/TPgAAABBTBdM+zczMHLT60j64HoULdu/SPo/C9ehd5NI+rkfhirHZ0j4pXI9CRc/SPq5H4TrIw9I+PQrXo9i30j5xPQqH76zSPhSuR9EnotI+zczMbAmX0j64HoVr14rSPkjherR+ftI+w/UoHPhw0j7D9ShMbGLSPnE9CsdUU9I+mpmZ2YND0j5xPQr32zLSPmZmZnbfIdI+zczMfI0P0j5xPQqHF/vRPrgehYNc5tE+H4XrUTHR0T6amZnphLvRPnE9ClcgpdE+zczMlOaN0T49CtdreHbRPj0K18MWXtE+hetRyHFF0T7Xo3D1kCzRPjMzM0M5E9E+pHA9KuP40D5mZmZmUd7QPqRwPcJ6w9A+pHA9Elmo0D49Ctd73YzQPgAAAABkcdA+CtejSMlU0D64HoW7DTjQPlK4HuWUG9A+AAAAAFr9zz6uR+H6HMLPPh+F69GJhs8+7FG4zipLzz5mZmZ2zw/PPo/C9SgD1c4+uB6Fe5mazj4pXI8yGmDOPq5H4cotJs4+H4Xr8SbtzT7NzMxMP7TNPqRwPXpMe80+zczMzA5EzT57FK6nMQ3NPs3MzAwg18w+CtejgFmizD7D9ShM8W/MPhSuRxGbPsw+uB6FW1gNzD5SuB61ZdzLPlyPwjVxrMs+CtejsGt+yz72KFzvm1DLPoXrUcjNJcs+j8L1eAP9yj64HoWb09TKPj0K1yPArco+AAAAYP2Hyj7hehSOwGLKPq5H4eoNQMo+AAAAAHYhyj64HoXragPKPo/C9agA5sk+CtejYNfIyT4zMzNz4azJPlyPwpVLksk+4XoUfg94yT6amZkJl1/JPkjhesTPR8k+uB6FW4YwyT6amZnJKBrJPnE9CudqBck+rkfhaoDxyD4zMzPTPt7IPhSuR5F1y8g+UrgehVm5yD4fhesRgafIPpqZmfkVmMg+SOF6tO6IyD57FK63EXrIPlyPwvVlbMg+uB6FyxdgyD5SuB4F9VPIPtejcP3XR8g+FK5HMWg7yD7sUbh+hy/IPgAAAACnI8g+mpmZKUgXyD4AAACgTArIPlyPwrWM/cc+PQrXM9Twxz4K16PAeuTHPoXrUUgY2Mc+UrgeBZTLxz7sUbjeVb/HPnsUrrfXssc+16NwfbWlxz7D9ShsRZjHPhSuR9Gyisc+4XoU3hN9xz4fheuxtm7HPilcj3KrYMc+MzMz81VSxz7D9SiMK0PHPsP1KMz0Msc+j8L1WJgixz5SuB4F6hHHPhSuRyEXAcc+uB6FKynwxj57FK7XU97GPs3MzJz0y8Y+KVyPomy5xj6PwvVYnKbGPpqZmcnyk8Y+FK5H8Q2Bxj7NzMy8BG7GPnsUrmdaWsY+KVyPsmpGxj5SuB5FGDLGPhSuRxG2HcY+CtejcOkIxj6amZmJEPTFPilcj8Kl3sU+exSutxzJxT4UrkexpbPFPo/C9fginsU+KVyPco6IxT7D9SgMvXLFPilcj1IdXcU+UrgexX1HxT5I4XqE1THFPilcj0JkHMU+MzMzYzIHxT5cj8KV6/HEPgAAAADp3MQ+H4Xr0cjHxD6PwvUIn7LEPtejcP1BnsQ+Ctej4KGKxD6PwvUokXbEPoXrUbhEYsQ+rkfhWttNxD7sUbg+VDnEPpqZmTn3JMQ+SOF65N4QxD4fheuBH/3DPnsUrqcl6sM+4XoUblnXwz6F61HYN8XDPilcj4LissM+ZmZm1tagwz4K16OwBo/DPqRwPbpmfcM+PQrX05xswz7hehReeVzDPlyPwkXYTMM+j8L1KJI9wz7hehTOUC7DPlK4HhUUH8M+KVyPsrIQwz5I4XpUiwLDPuxRuH4s9MI+mpmZmQjmwj7hehQe+NfCPsP1KBwRysI+4XoUnjm8wj4fhesB3K7CPvYoXF+ZocI+CtejsJeUwj5cj8LlnYfCPkjheiQge8I+PQrXQ7tuwj6amZmp1GLCPilcj8LhVsI+w/UoTAlLwj7Xo3D9Tj/CPo/C9WgBNMI+AAAA0A4pwj4UrkdRQB7CPs3MzHyKE8I+exSulwsJwj7sUbjOm/7BPh+F6/Ef9ME+7FG4DtPpwT6uR+EK0N/BPlK4HtX/1cE+H4XrIX3MwT5SuB7F18LBPgrXo2AYucE+PQrXk9uvwT4AAABQ/6bBPs3MzMxCnsE+Ctej0LSVwT4fheuBI4zBPnE9CseDgsE+uB6F2+J4wT6PwvU4Zm/BPlyPwiUZZsE+FK5H8aJbwT4zMzPTqFHBPkjhevQ3SME+4XoUjjM+wT6kcD36YTTBPoXrUfhqKsE+cT0KJ1wgwT5SuB6VORbBPnE9ChfRC8E+hetR2BEBwT72KFxHW/XAPq5H4dpq6cA+XI/CPTndwD7Xo3A18tDAPq5H4Qr0w8A+mpmZqcO2wD5mZmZWHanAPtejcPW7msA+FK5HyVeMwD5xPQq/1n3APq5H4XLqbsA+exSub5JfwD4K16OwIFDAPuxRuE57QMA+j8L1UBUwwD7NzMzMxB/APuF6FIZaD8A+XI/CBZ39vz5I4XoUddu/PjMzMxMeub8+AAAAgCGWvz49CtezBnO/PqRwPSqbT78+AAAAwO0rvz5xPQpHRAi/PjMzM2P9474+cT0K54O/vj7hehROYJq+PnE9CufVdL4+AAAAsK5Ovj4pXI+iXii+PgAAAKD5Ab4+cT0K19PavT4fhetBC7O9Pj0K1yPQib0+CtejcO5ivT7hehQe2Tu9PgAAALBuFL0+rkfhysXsvD7sUbhO/sS8Pj0K1yMln7w+XI/CRT55vD64HoX7eVO8PlyPwtV0Lrw+SOF6tGoIvD6kcD0qeuK7PvYoXC9zvbs+MzMzY9mXuz4K16NA+HK7PhSuR2GwTrs+4XoUPpgsuz6kcD0q8Qq7PhSuR3E86ro+UrgeZe3Juj72KFwPWqu6PuxRuM6OjLo+H4XrYXVuuj57FK5XxFG6PoXrURhXNbo+7FG4jmIZuj6kcD3qe/25PnE9Cndz4rk+AAAAIJLHuT6uR+Gq+qy5PjMzM3PZk7k+zczM7NR6uT6kcD0qDWK5PqRwPYpySbk+16NwjckxuT5SuB4lLBq5PkjhevQQA7k+FK5H8QfsuD6amZkJR9W4Ps3MzDzLvrg+H4Xr4amouD7Xo3BNKZO4PmZmZpbbfbg+rkfhui1puD4UrkeR7lS4Ps3MzAyhQbg+hetRWOguuD49CtfTXBy4Pj0K12OSCrg+mpmZWaX5tz6F61GoZeq3Po/C9RhE27c+MzMzg3HMtz57FK7nJr63PgAAAABJsLc+H4XrYcaitz7hehS+7JW3PsP1KBxpibc+cT0KNwV9tz6uR+FKIXG3PgrXo+CtZrc+UrgeFYVctz4fhevhkVK3PpqZmfl+Sbc+MzMz05VAtz64HoXL8ze3Ph+F65FML7c+exSu18Imtz7sUbhu9R23PuxRuP5sFbc+pHA9Cq4Mtz5I4XqEagS3Ps3MzAx5/LY+SOF6ZKn0tj6amZlpE+y2PlyPwjWg47Y+SOF6ZJbbtj5I4XrEUNO2PuxRuL6yyrY+exSuxyzCtj7sUbiebrm2PtejcI1psLY+rkfhyi2ntj72KFxf3p22PgAAAECAlLY+cT0K9xKLtj5SuB5FRoG2PlyPwjUMd7Y+SOF6JIVstj7sUbhe2mG2PqRwPaoSV7Y+9ihc7zFMtj7Xo3CN70C2PlK4HoWINbY+FK5H0aIptj6uR+Faqx22PqRwPRpIEbY+w/UoHN0Etj5cj8L1Yvi1PrgehVu467U+XI/CZa/etT6amZn5kdG1Ph+F65GBxLU+ZmZmFle3tT57FK5XL6q1Po/C9ZghnbU+Urge1f6PtT6amZnZjoK1Pq5H4RoqdbU+Urge5YpntT5I4XpE01m1PuF6FE7uS7U+cT0KF/c9tT6kcD36by+1PtejcJ3iILU+SOF6ZFMStT5cj8LVogO1Pj0K18PZ9LQ+rkfhiirmtD7hehR+i9e0PjMzM2P5yLQ+zczMXFC6tD72KFxPgKq0PqRwPRqzmrQ+UrgeJViLtD4K16MQ7nu0PnE9CgdAbLQ+ZmZmlqRctD7D9Si8L020PgAAAFCBPbQ+9ihcT6YttD64HoWrxh20Ps3MzAxqDbQ+zczMrLX8sz5cj8Klh+uzPj0K1zPq2bM+4XoUHsfHsz57FK73srSzPuxRuP6VobM+exSuxyyOsz64HoVbf3qzPuxRuF4jZrM+FK5HgeNQsz5xPQr3mzuzPsP1KJwjJrM+mpmZmVAQsz7Xo3DtzPqyPlK4HkUj5bI+9ihc31TPsj6amZlJc7myPoXrUcgmo7I+UrgeFWWMsj4UrkdBrnWyPvYoXKflXrI+XI/CZQlIsj6amZnpvTCyPhSuR3nxGLI+KVyPglgBsj5xPQpX2emxPq5H4YpN0rE+16Nw/dO6sT7sUbi2aqOxPlyPwnUPjLE+KVyPetZ0sT6amZlBu12xPqRwPbK3RrE+rkfh2h0wsT4fhetBghmxPlK4Hr0mA7E+uB6Fs/HssD7hehQu2tawPtejcEX5wLA+ZmZmVkWssD7Xo3D9dJewPq5H4SrugrA+4XoUNlFusD7sUbheTVqwPjMzM9tFRrA+mpmZUXEysD7sUbgG1B6wPnsUrgehC7A+4XoUHlrxrz7sUbjOZ8yvPuF6FB5KqK8+Urge5QSFrz4K16PA0GKvPlyPwjUbQq8+j8L1uBkkrz4UrkeRJgavPvYoXK/66K4+j8L1WHPMrj49CtfDV7GuPvYoXP+qmK4+4XoUvm+Arj6amZkJlGmuPq5H4cpiU64+pHA9elE9rj6amZl5ByeuPjMzM9MIEa4+FK5HoWf7rT5mZmZWRuetPgrXo5Cr060+mpmZ2RjArT72KFy/vqytPnsUrieKma0+mpmZyROHrT6uR+EajHWtPsP1KKykY60+j8L1WKpRrT6uR+HKW0CtPpqZmVmlLq0+w/UofGAdrT4K16MgLgytPlK4HhWZ+6w+uB6Fa6DqrD4fheuhv9msPuxRuC72yKw+uB6FC0q4rD7Xo3Bd0qesPnE9CpfClqw+PQrXkw6GrD5mZmYGQHWsPrgehdtDZKw+9ihcj31TrD4fhesBoUKsPoXrUXhcMqw+4XoUniMirD5cj8K1RRKsPlyPwgVNAqw+exSuV0zyqz5xPQoXceKrPsP1KEy40qs+Ctej0HjDqz7D9SgMRrSrPgrXozBIpas+16NwHUeWqz7sUbgOkIerPj0K14PGeKs+pHA9msBqqz5I4XqE21yrPuxRuG4dT6s+uB6FK6hBqz6kcD3qWDSrPo/C9ch2J6s+ZmZmJrgaqz4UrkexQQ6rPnsUrlccAqs+mpmZmaP2qj72KFxPjeuqPjMzM7Oz4Ko+AAAAYADWqj7sUbhuMcyqPnsUrndzwqo+mpmZubq4qj6kcD3KNq+qPlK4HvUOpqo+H4XrwQmdqj7NzMzsvZSqPgrXo1B7jKo+j8L1GEOEqj5xPQpnO3yqPgAAAMDHc6o+CtejUGZrqj6F61GYMmOqPhSuR4FXW6o+16NwnXpTqj49CtfDaUuqPilcj3JEQ6o+UrgeVcw6qj4UrkfxNjKqPlK4HoUPKao+XI/CZdgfqj57FK4XWhaqPgAAAMAHDKo+16Nw/Q8Bqj4K16Og9fWpPtejcK0y6qk+4XoUXiDeqT7hehTe1NGpPkjhevSlxKk+pHA9iv+2qT7hehR+PampPh+F6+FVm6k+rkfhGtuLqT5I4XrU/HupPlK4HjXna6k+CtejsJdbqT4AAAAgK0upPgAAAJBiOqk+KVyPMgIpqT6F61H4WxepPuxRuI7DBKk+PQrX063xqD7D9Sgc/N2oPrgehUv2yag+7FG4bkK1qD4fhevRj5+oPsP1KPzmiKg+hetRKNRxqD6uR+GKQlqoPnsUrgf1Qag+KVyPsjApqD7Xo3A9URCoPvYoXI+/9qc+SOF6dL7cpz4AAACAmcKnPmZmZiYXqKc+UrgeBR2Npz7Xo3AN2HGnPpqZmQloVqc+ZmZmZjE7pz4zMzPjkR+nPmZmZuZdA6c+PQrXAyjnpj7Xo3Bt8sqmPjMzM1OgrqY+H4XrEU2Spj6uR+H61nWmPuF6FE5wWaY+j8L1CJo9pj4zMzPz+SGmPlyPwoXHBaY+pHA92rjppT4zMzPzQM6lPlyPwnWcs6U+SOF6lP+YpT4K16OwfX6lPj0K17MsZKU+7FG43u1JpT5xPQrnYy+lPj0K1zOqFKU+FK5Hgaf5pD4pXI8yo96kPlyPwqXIxKQ+ZmZm5jSrpD5mZmYWFpGkPrgehfu8dqQ+UrgeVTJcpD4K16Mw1UGkPnsUrnfLJ6Q+MzMzg8ENpD5xPQpXVfOjPvYoXG8b2aM+mpmZuRC/oz5mZmaGIKWjPlyPwiWIi6M+hetRuBhyoz4K16OAgFmjPo/C9RgZQaM+cT0K1+oooz5mZmZmThGjPmZmZlbB+aI+AAAA0ATioj4zMzPDnMqiPuF6FM5is6I+XI/C9cqboj5cj8LlrISiPhSuR1FAbaI+exSuZyBWoj4Urkfx4z6iPrgehSuzJ6I+uB6FCy4Roj6F61HAHPuhPlK4HsUX5aE+H4XroSXPoT6uR+GaZrmhPo/C9fCuo6E+AAAAwEWOoT4AAABIL3mhPuF6FA46ZKE+exSuP59PoT64HoWbszuhPq5H4Xr7J6E+PQrX67sUoT7D9SjUoQGhPnE9Ckew7qA+exSuNyPcoD57FK4PysmgPhSuR1HOt6A+16NwhR6noD5I4XqsH5egPvYoXIeQh6A+AAAAiBV4oD6amZnBCWmgPhSuRzEKWqA+",
          "dtype": "f8"
         }
        }
       ],
       "layout": {
        "height": 600,
        "legend": {
         "orientation": "h",
         "x": 0.5,
         "xanchor": "center",
         "y": 1
        },
        "template": {
         "data": {
          "bar": [
           {
            "error_x": {
             "color": "#2a3f5f"
            },
            "error_y": {
             "color": "#2a3f5f"
            },
            "marker": {
             "line": {
              "color": "white",
              "width": 0.5
             },
             "pattern": {
              "fillmode": "overlay",
              "size": 10,
              "solidity": 0.2
             }
            },
            "type": "bar"
           }
          ],
          "barpolar": [
           {
            "marker": {
             "line": {
              "color": "white",
              "width": 0.5
             },
             "pattern": {
              "fillmode": "overlay",
              "size": 10,
              "solidity": 0.2
             }
            },
            "type": "barpolar"
           }
          ],
          "carpet": [
           {
            "aaxis": {
             "endlinecolor": "#2a3f5f",
             "gridcolor": "#C8D4E3",
             "linecolor": "#C8D4E3",
             "minorgridcolor": "#C8D4E3",
             "startlinecolor": "#2a3f5f"
            },
            "baxis": {
             "endlinecolor": "#2a3f5f",
             "gridcolor": "#C8D4E3",
             "linecolor": "#C8D4E3",
             "minorgridcolor": "#C8D4E3",
             "startlinecolor": "#2a3f5f"
            },
            "type": "carpet"
           }
          ],
          "choropleth": [
           {
            "colorbar": {
             "outlinewidth": 0,
             "ticks": ""
            },
            "type": "choropleth"
           }
          ],
          "contour": [
           {
            "colorbar": {
             "outlinewidth": 0,
             "ticks": ""
            },
            "colorscale": [
             [
              0,
              "#0d0887"
             ],
             [
              0.1111111111111111,
              "#46039f"
             ],
             [
              0.2222222222222222,
              "#7201a8"
             ],
             [
              0.3333333333333333,
              "#9c179e"
             ],
             [
              0.4444444444444444,
              "#bd3786"
             ],
             [
              0.5555555555555556,
              "#d8576b"
             ],
             [
              0.6666666666666666,
              "#ed7953"
             ],
             [
              0.7777777777777778,
              "#fb9f3a"
             ],
             [
              0.8888888888888888,
              "#fdca26"
             ],
             [
              1,
              "#f0f921"
             ]
            ],
            "type": "contour"
           }
          ],
          "contourcarpet": [
           {
            "colorbar": {
             "outlinewidth": 0,
             "ticks": ""
            },
            "type": "contourcarpet"
           }
          ],
          "heatmap": [
           {
            "colorbar": {
             "outlinewidth": 0,
             "ticks": ""
            },
            "colorscale": [
             [
              0,
              "#0d0887"
             ],
             [
              0.1111111111111111,
              "#46039f"
             ],
             [
              0.2222222222222222,
              "#7201a8"
             ],
             [
              0.3333333333333333,
              "#9c179e"
             ],
             [
              0.4444444444444444,
              "#bd3786"
             ],
             [
              0.5555555555555556,
              "#d8576b"
             ],
             [
              0.6666666666666666,
              "#ed7953"
             ],
             [
              0.7777777777777778,
              "#fb9f3a"
             ],
             [
              0.8888888888888888,
              "#fdca26"
             ],
             [
              1,
              "#f0f921"
             ]
            ],
            "type": "heatmap"
           }
          ],
          "histogram": [
           {
            "marker": {
             "pattern": {
              "fillmode": "overlay",
              "size": 10,
              "solidity": 0.2
             }
            },
            "type": "histogram"
           }
          ],
          "histogram2d": [
           {
            "colorbar": {
             "outlinewidth": 0,
             "ticks": ""
            },
            "colorscale": [
             [
              0,
              "#0d0887"
             ],
             [
              0.1111111111111111,
              "#46039f"
             ],
             [
              0.2222222222222222,
              "#7201a8"
             ],
             [
              0.3333333333333333,
              "#9c179e"
             ],
             [
              0.4444444444444444,
              "#bd3786"
             ],
             [
              0.5555555555555556,
              "#d8576b"
             ],
             [
              0.6666666666666666,
              "#ed7953"
             ],
             [
              0.7777777777777778,
              "#fb9f3a"
             ],
             [
              0.8888888888888888,
              "#fdca26"
             ],
             [
              1,
              "#f0f921"
             ]
            ],
            "type": "histogram2d"
           }
          ],
          "histogram2dcontour": [
           {
            "colorbar": {
             "outlinewidth": 0,
             "ticks": ""
            },
            "colorscale": [
             [
              0,
              "#0d0887"
             ],
             [
              0.1111111111111111,
              "#46039f"
             ],
             [
              0.2222222222222222,
              "#7201a8"
             ],
             [
              0.3333333333333333,
              "#9c179e"
             ],
             [
              0.4444444444444444,
              "#bd3786"
             ],
             [
              0.5555555555555556,
              "#d8576b"
             ],
             [
              0.6666666666666666,
              "#ed7953"
             ],
             [
              0.7777777777777778,
              "#fb9f3a"
             ],
             [
              0.8888888888888888,
              "#fdca26"
             ],
             [
              1,
              "#f0f921"
             ]
            ],
            "type": "histogram2dcontour"
           }
          ],
          "mesh3d": [
           {
            "colorbar": {
             "outlinewidth": 0,
             "ticks": ""
            },
            "type": "mesh3d"
           }
          ],
          "parcoords": [
           {
            "line": {
             "colorbar": {
              "outlinewidth": 0,
              "ticks": ""
             }
            },
            "type": "parcoords"
           }
          ],
          "pie": [
           {
            "automargin": true,
            "type": "pie"
           }
          ],
          "scatter": [
           {
            "fillpattern": {
             "fillmode": "overlay",
             "size": 10,
             "solidity": 0.2
            },
            "type": "scatter"
           }
          ],
          "scatter3d": [
           {
            "line": {
             "colorbar": {
              "outlinewidth": 0,
              "ticks": ""
             }
            },
            "marker": {
             "colorbar": {
              "outlinewidth": 0,
              "ticks": ""
             }
            },
            "type": "scatter3d"
           }
          ],
          "scattercarpet": [
           {
            "marker": {
             "colorbar": {
              "outlinewidth": 0,
              "ticks": ""
             }
            },
            "type": "scattercarpet"
           }
          ],
          "scattergeo": [
           {
            "marker": {
             "colorbar": {
              "outlinewidth": 0,
              "ticks": ""
             }
            },
            "type": "scattergeo"
           }
          ],
          "scattergl": [
           {
            "marker": {
             "colorbar": {
              "outlinewidth": 0,
              "ticks": ""
             }
            },
            "type": "scattergl"
           }
          ],
          "scattermap": [
           {
            "marker": {
             "colorbar": {
              "outlinewidth": 0,
              "ticks": ""
             }
            },
            "type": "scattermap"
           }
          ],
          "scattermapbox": [
           {
            "marker": {
             "colorbar": {
              "outlinewidth": 0,
              "ticks": ""
             }
            },
            "type": "scattermapbox"
           }
          ],
          "scatterpolar": [
           {
            "marker": {
             "colorbar": {
              "outlinewidth": 0,
              "ticks": ""
             }
            },
            "type": "scatterpolar"
           }
          ],
          "scatterpolargl": [
           {
            "marker": {
             "colorbar": {
              "outlinewidth": 0,
              "ticks": ""
             }
            },
            "type": "scatterpolargl"
           }
          ],
          "scatterternary": [
           {
            "marker": {
             "colorbar": {
              "outlinewidth": 0,
              "ticks": ""
             }
            },
            "type": "scatterternary"
           }
          ],
          "surface": [
           {
            "colorbar": {
             "outlinewidth": 0,
             "ticks": ""
            },
            "colorscale": [
             [
              0,
              "#0d0887"
             ],
             [
              0.1111111111111111,
              "#46039f"
             ],
             [
              0.2222222222222222,
              "#7201a8"
             ],
             [
              0.3333333333333333,
              "#9c179e"
             ],
             [
              0.4444444444444444,
              "#bd3786"
             ],
             [
              0.5555555555555556,
              "#d8576b"
             ],
             [
              0.6666666666666666,
              "#ed7953"
             ],
             [
              0.7777777777777778,
              "#fb9f3a"
             ],
             [
              0.8888888888888888,
              "#fdca26"
             ],
             [
              1,
              "#f0f921"
             ]
            ],
            "type": "surface"
           }
          ],
          "table": [
           {
            "cells": {
             "fill": {
              "color": "#EBF0F8"
             },
             "line": {
              "color": "white"
             }
            },
            "header": {
             "fill": {
              "color": "#C8D4E3"
             },
             "line": {
              "color": "white"
             }
            },
            "type": "table"
           }
          ]
         },
         "layout": {
          "annotationdefaults": {
           "arrowcolor": "#2a3f5f",
           "arrowhead": 0,
           "arrowwidth": 1
          },
          "autotypenumbers": "strict",
          "coloraxis": {
           "colorbar": {
            "outlinewidth": 0,
            "ticks": ""
           }
          },
          "colorscale": {
           "diverging": [
            [
             0,
             "#8e0152"
            ],
            [
             0.1,
             "#c51b7d"
            ],
            [
             0.2,
             "#de77ae"
            ],
            [
             0.3,
             "#f1b6da"
            ],
            [
             0.4,
             "#fde0ef"
            ],
            [
             0.5,
             "#f7f7f7"
            ],
            [
             0.6,
             "#e6f5d0"
            ],
            [
             0.7,
             "#b8e186"
            ],
            [
             0.8,
             "#7fbc41"
            ],
            [
             0.9,
             "#4d9221"
            ],
            [
             1,
             "#276419"
            ]
           ],
           "sequential": [
            [
             0,
             "#0d0887"
            ],
            [
             0.1111111111111111,
             "#46039f"
            ],
            [
             0.2222222222222222,
             "#7201a8"
            ],
            [
             0.3333333333333333,
             "#9c179e"
            ],
            [
             0.4444444444444444,
             "#bd3786"
            ],
            [
             0.5555555555555556,
             "#d8576b"
            ],
            [
             0.6666666666666666,
             "#ed7953"
            ],
            [
             0.7777777777777778,
             "#fb9f3a"
            ],
            [
             0.8888888888888888,
             "#fdca26"
            ],
            [
             1,
             "#f0f921"
            ]
           ],
           "sequentialminus": [
            [
             0,
             "#0d0887"
            ],
            [
             0.1111111111111111,
             "#46039f"
            ],
            [
             0.2222222222222222,
             "#7201a8"
            ],
            [
             0.3333333333333333,
             "#9c179e"
            ],
            [
             0.4444444444444444,
             "#bd3786"
            ],
            [
             0.5555555555555556,
             "#d8576b"
            ],
            [
             0.6666666666666666,
             "#ed7953"
            ],
            [
             0.7777777777777778,
             "#fb9f3a"
            ],
            [
             0.8888888888888888,
             "#fdca26"
            ],
            [
             1,
             "#f0f921"
            ]
           ]
          },
          "colorway": [
           "#636efa",
           "#EF553B",
           "#00cc96",
           "#ab63fa",
           "#FFA15A",
           "#19d3f3",
           "#FF6692",
           "#B6E880",
           "#FF97FF",
           "#FECB52"
          ],
          "font": {
           "color": "#2a3f5f"
          },
          "geo": {
           "bgcolor": "white",
           "lakecolor": "white",
           "landcolor": "white",
           "showlakes": true,
           "showland": true,
           "subunitcolor": "#C8D4E3"
          },
          "hoverlabel": {
           "align": "left"
          },
          "hovermode": "closest",
          "mapbox": {
           "style": "light"
          },
          "paper_bgcolor": "white",
          "plot_bgcolor": "white",
          "polar": {
           "angularaxis": {
            "gridcolor": "#EBF0F8",
            "linecolor": "#EBF0F8",
            "ticks": ""
           },
           "bgcolor": "white",
           "radialaxis": {
            "gridcolor": "#EBF0F8",
            "linecolor": "#EBF0F8",
            "ticks": ""
           }
          },
          "scene": {
           "xaxis": {
            "backgroundcolor": "white",
            "gridcolor": "#DFE8F3",
            "gridwidth": 2,
            "linecolor": "#EBF0F8",
            "showbackground": true,
            "ticks": "",
            "zerolinecolor": "#EBF0F8"
           },
           "yaxis": {
            "backgroundcolor": "white",
            "gridcolor": "#DFE8F3",
            "gridwidth": 2,
            "linecolor": "#EBF0F8",
            "showbackground": true,
            "ticks": "",
            "zerolinecolor": "#EBF0F8"
           },
           "zaxis": {
            "backgroundcolor": "white",
            "gridcolor": "#DFE8F3",
            "gridwidth": 2,
            "linecolor": "#EBF0F8",
            "showbackground": true,
            "ticks": "",
            "zerolinecolor": "#EBF0F8"
           }
          },
          "shapedefaults": {
           "line": {
            "color": "#2a3f5f"
           }
          },
          "ternary": {
           "aaxis": {
            "gridcolor": "#DFE8F3",
            "linecolor": "#A2B1C6",
            "ticks": ""
           },
           "baxis": {
            "gridcolor": "#DFE8F3",
            "linecolor": "#A2B1C6",
            "ticks": ""
           },
           "bgcolor": "white",
           "caxis": {
            "gridcolor": "#DFE8F3",
            "linecolor": "#A2B1C6",
            "ticks": ""
           }
          },
          "title": {
           "x": 0.05
          },
          "xaxis": {
           "automargin": true,
           "gridcolor": "#EBF0F8",
           "linecolor": "#EBF0F8",
           "ticks": "",
           "title": {
            "standoff": 15
           },
           "zerolinecolor": "#EBF0F8",
           "zerolinewidth": 2
          },
          "yaxis": {
           "automargin": true,
           "gridcolor": "#EBF0F8",
           "linecolor": "#EBF0F8",
           "ticks": "",
           "title": {
            "standoff": 15
           },
           "zerolinecolor": "#EBF0F8",
           "zerolinewidth": 2
          }
         }
        },
        "title": {
         "text": "Loss History"
        },
        "width": 800,
        "xaxis": {
         "title": {
          "text": "Epoch"
         }
        },
        "yaxis": {
         "exponentformat": "power",
         "showexponent": "all",
         "title": {
          "text": "Loss"
         },
         "type": "log"
        }
       }
      }
     },
     "metadata": {},
     "output_type": "display_data"
    },
    {
     "name": "stdout",
     "output_type": "stream",
     "text": [
      "L2 Error:  0.014275366\n"
     ]
    }
   ],
   "source": [
    "with_fo = trainer.closure.get_state()\n",
    "plot_loss(with_fo, smooth=True, smooth_window=50)\n",
    "\n",
    "fo_l2 = compare_with_mc(model, params, n_prices=200,\n",
    "                            n_simulations=50_000, dtype=dtype, device=device, seed=42, split_output=True)['l2_rel_error']\n",
    "print(\"L2 Error: \", fo_l2*100)"
   ]
  },
  {
   "cell_type": "code",
   "execution_count": 84,
   "id": "4af37025",
   "metadata": {},
   "outputs": [],
   "source": [
    "import numpy as np\n",
    "\n",
    "def compare_error_histories(\n",
    "    runs,\n",
    "    labels=None,\n",
    "    save_path: str = None,\n",
    "    backend: str = \"plotly\",\n",
    "    fig_size=(900, 600),\n",
    "    smooth: bool = True,\n",
    "    smooth_window: int = 50,\n",
    "    yscale: str = \"power10\",\n",
    "):\n",
    "    \"\"\"\n",
    "    Plot L₂ relative-error over training for multiple runs,\n",
    "    allowing runs of different lengths.\n",
    "\n",
    "    Parameters\n",
    "    ----------\n",
    "    runs : list of dicts with key 'l2_rel_err'\n",
    "    labels : list of str, one per run\n",
    "    save_path : if given, write figure to this path\n",
    "    backend : 'plotly' or 'matplotlib'\n",
    "    fig_size : (width, height) pixels for Plotly, inches (dpi=100) for Matplotlib\n",
    "    smooth : apply moving‐average smoothing?\n",
    "    smooth_window : window size for smoothing\n",
    "    yscale : 'linear', 'log', or 'power10'\n",
    "    \"\"\"\n",
    "    n = len(runs)\n",
    "    assert n > 0, \"Need at least one run to compare\"\n",
    "    if labels is None:\n",
    "        labels = [f\"Run {i+1}\" for i in range(n)]\n",
    "    assert len(labels) == n\n",
    "\n",
    "    # prepare data (only L2)\n",
    "    histories = []\n",
    "    for d in runs:\n",
    "        l2 = np.asarray(d[\"l2_rel_err\"], dtype=float)\n",
    "        if smooth:\n",
    "            l2 = _moving_average(l2, smooth_window)\n",
    "        histories.append(l2)\n",
    "\n",
    "    # color cycle\n",
    "    colors = [\"#08306B\", \"#08519C\",\n",
    "                \"#3182BD\", \"#6BAED6\", \"#9ECAE1\", \"#C6DBEF\"]\n",
    "\n",
    "    backend = backend.lower()\n",
    "\n",
    "    if backend == \"plotly\":\n",
    "        import plotly.graph_objs as go\n",
    "\n",
    "        fig = go.Figure()\n",
    "        for idx, l2 in enumerate(histories):\n",
    "            fig.add_trace(\n",
    "                go.Scatter(\n",
    "                    x=np.arange(len(l2)),\n",
    "                    y=l2,\n",
    "                    mode=\"lines\",\n",
    "                    name=labels[idx],\n",
    "                    line=dict(color=colors[idx % len(colors)])\n",
    "                )\n",
    "            )\n",
    "\n",
    "        # y-scale\n",
    "        if yscale == \"linear\":\n",
    "            fig.update_yaxes(type=\"linear\")\n",
    "        else:\n",
    "            fig.update_yaxes(type=\"log\")\n",
    "            if yscale == \"power10\":\n",
    "                fig.update_yaxes(\n",
    "                    exponentformat=\"power\",\n",
    "                    showexponent=\"all\"\n",
    "                )\n",
    "\n",
    "        fig.update_layout(\n",
    "            title=\"$L_2$ Relative Error over Training\",\n",
    "            xaxis_title=\"Iteration\",\n",
    "            yaxis_title=\"rel $L_2$ error\",\n",
    "            width=fig_size[0], height=fig_size[1],\n",
    "            legend_title=\"Run\",\n",
    "            template=\"plotly_white\"\n",
    "        )\n",
    "\n",
    "        if save_path:\n",
    "            fig.write_image(save_path)\n",
    "        else:\n",
    "            fig.show()\n",
    "\n",
    "    elif backend == \"matplotlib\":\n",
    "        import matplotlib.pyplot as plt\n",
    "        from matplotlib.ticker import LogFormatterMathtext\n",
    "\n",
    "        # convert px → inches for Matplotlib at dpi=100\n",
    "        fig, ax = plt.subplots(\n",
    "            1, 1,\n",
    "            figsize=(fig_size[0]/100, fig_size[1]/100),\n",
    "            squeeze=True\n",
    "        )\n",
    "\n",
    "        for idx, l2 in enumerate(histories):\n",
    "            ax.plot(\n",
    "                np.arange(len(l2)),\n",
    "                l2,\n",
    "                label=labels[idx],\n",
    "                color=colors[idx % len(colors)]\n",
    "            )\n",
    "\n",
    "        # y-scale\n",
    "        if yscale == \"linear\":\n",
    "            ax.set_yscale(\"linear\")\n",
    "        elif yscale == \"log\":\n",
    "            ax.set_yscale(\"log\")\n",
    "        elif yscale == \"power10\":\n",
    "            ax.set_yscale(\"log\")\n",
    "            ax.yaxis.set_major_formatter(LogFormatterMathtext())\n",
    "        else:\n",
    "            raise ValueError(f\"Unknown yscale {yscale!r}\")\n",
    "\n",
    "        ax.set_title(\"$L_2$ Relative Error over Training\")\n",
    "        ax.set_xlabel(\"Iteration\")\n",
    "        ax.set_ylabel(\"Relative $L_2$ Error\")\n",
    "        ax.legend(loc=\"upper right\")\n",
    "        plt.tight_layout()\n",
    "\n",
    "        if save_path:\n",
    "            plt.savefig(save_path, dpi=300)\n",
    "            plt.close(fig)\n",
    "        else:\n",
    "            plt.show()\n",
    "\n",
    "    else:\n",
    "        raise ValueError(f\"Unsupported backend: {backend!r}\")\n"
   ]
  },
  {
   "cell_type": "markdown",
   "id": "cde0b3b6",
   "metadata": {},
   "source": [
    "### Compare runs"
   ]
  },
  {
   "cell_type": "code",
   "execution_count": 85,
   "id": "c66a6e51",
   "metadata": {},
   "outputs": [],
   "source": [
    "compare_error_histories(\n",
    "    [with_vanilla, with_anzats, with_fo],\n",
    "    labels=[\"FFNN\", \"FFNN with Ansatz\", \"FOPINN\"],\n",
    "    smooth=False,\n",
    "    backend=\"matplotlib\",\n",
    "    save_path=\"imgs/nets_error_histories.png\",\n",
    "    fig_size=(800, 400),\n",
    ")"
   ]
  },
  {
   "cell_type": "markdown",
   "id": "ee86199f",
   "metadata": {},
   "source": [
    "The neural network with the modifed output (ansatz) is able to get a good accuracy very fast but gets stuck and is not able to progress further. The SPINN model is able to get better accuracy in the long run but it requires more computing."
   ]
  },
  {
   "cell_type": "code",
   "execution_count": 73,
   "id": "28d3da16",
   "metadata": {},
   "outputs": [
    {
     "data": {
      "text/plain": [
       "FirstOrderNN(\n",
       "  (hidden_layers): Sequential(\n",
       "    (0): Linear(in_features=2, out_features=64, bias=True)\n",
       "    (1): Tanh()\n",
       "    (2): Linear(in_features=64, out_features=64, bias=True)\n",
       "    (3): Tanh()\n",
       "  )\n",
       "  (output_layer): Linear(in_features=64, out_features=3, bias=True)\n",
       ")"
      ]
     },
     "execution_count": 73,
     "metadata": {},
     "output_type": "execute_result"
    }
   ],
   "source": [
    "# load models\n",
    "ffnn = build_nn(\n",
    "    nn_shape='64x2',\n",
    "    input_dim=assets,\n",
    "    dtype=torch.float32\n",
    ")\n",
    "ffnn.load_state_dict(torch.load(\"ffnn.pth\"))\n",
    "ffnn.eval()\n",
    "ansatz_ffnn = NNWithAnsatz(n_layers=2, input_dim=assets+1, hidden_dim=64,\n",
    "                 output_dim=1, dtype=dtype).apply(weights_init).to(device)\n",
    "ansatz_ffnn.load_state_dict(torch.load(\"ansatz_ffnn.pth\"))\n",
    "ansatz_ffnn.eval()\n",
    "fo_pinn = FirstOrderNN(n_layers=2, input_dim=assets+1, hidden_dim=64, dtype=dtype).apply(weights_init).to(device)\n",
    "fo_pinn.load_state_dict(torch.load(\"fo_pinn.pth\"))\n",
    "fo_pinn.eval()"
   ]
  },
  {
   "cell_type": "code",
   "execution_count": 74,
   "id": "93c53467",
   "metadata": {},
   "outputs": [
    {
     "name": "stderr",
     "output_type": "stream",
     "text": [
      "/Users/josemelo/Desktop/master/tesis/codes/derivative_pinns/src/derpinns/utils.py:1027: UserWarning:\n",
      "\n",
      "This figure includes Axes that are not compatible with tight_layout, so results might be incorrect.\n",
      "\n"
     ]
    }
   ],
   "source": [
    "compare_solution_surfaces(\n",
    "    [ffnn, fo_pinn, ansatz_ffnn],\n",
    "    params,\n",
    "    assets=assets,\n",
    "    device=device,\n",
    "    labels=[\"FFNN\", \"FOPINN\", \"FNN with Ansatz\"],\n",
    "    save_path=\"imgs/nets_surfaces.png\",\n",
    "    backend=\"matplotlib\",\n",
    "    fig_size=(600, 500),\n",
    "    real_solution=True,\n",
    "    view=(25,120)    # tilt/rotate as you like\n",
    ")"
   ]
  },
  {
   "cell_type": "code",
   "execution_count": 83,
   "id": "78080d46",
   "metadata": {},
   "outputs": [
    {
     "data": {
      "image/png": "[encoded data removed]",
      "text/plain": [
       "<Figure size 1000x500 with 1 Axes>"
      ]
     },
     "metadata": {},
     "output_type": "display_data"
    },
    {
     "data": {
      "image/png": "[encoded data removed]",
      "text/plain": [
       "<Figure size 1000x500 with 1 Axes>"
      ]
     },
     "metadata": {},
     "output_type": "display_data"
    },
    {
     "name": "stderr",
     "output_type": "stream",
     "text": [
      "/var/folders/cp/l432p0ns1t38qmnyr_3l3r000000gn/T/ipykernel_47642/4275293301.py:115: MatplotlibDeprecationWarning:\n",
      "\n",
      "The get_cmap function was deprecated in Matplotlib 3.7 and will be removed in 3.11. Use ``matplotlib.colormaps[name]`` or ``matplotlib.colormaps.get_cmap()`` or ``pyplot.get_cmap()`` instead.\n",
      "\n"
     ]
    }
   ],
   "source": [
    "compare_error_heatmaps(\n",
    "    [ffnn, fo_pinn, ansatz_ffnn],\n",
    "    params,\n",
    "    device=device,\n",
    "    labels=[\"FFNN\", \"FOPINN\", \"FNN with Ansatz\"],\n",
    "    save_path=\"imgs/nets_heatmaps.png\",\n",
    "    backend=\"matplotlib\",\n",
    "    cmap=\"mako\",\n",
    "    fig_size=(6, 6),                   #  inches per panel  (width , height)\n",
    "    )"
   ]
  }
 ],
 "metadata": {
  "kernelspec": {
   "display_name": "Python 3",
   "language": "python",
   "name": "python3"
  },
  "language_info": {
   "codemirror_mode": {
    "name": "ipython",
    "version": 3
   },
   "file_extension": ".py",
   "mimetype": "text/x-python",
   "name": "python",
   "nbconvert_exporter": "python",
   "pygments_lexer": "ipython3",
   "version": "3.11.8"
  }
 },
 "nbformat": 4,
 "nbformat_minor": 5
}
